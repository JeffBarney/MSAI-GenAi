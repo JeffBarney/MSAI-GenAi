{
 "cells": [
  {
   "cell_type": "markdown",
   "metadata": {
    "id": "GC8Sp-Qc2n3K"
   },
   "source": [
    "# FurnitureGen: AI-Powered Interior Design"
   ]
  },
  {
   "cell_type": "markdown",
   "metadata": {
    "id": "pgPIx69j2n3M"
   },
   "source": [
    "Jeff Barney, MSAI-495: Generative AI Image Project"
   ]
  },
  {
   "cell_type": "markdown",
   "metadata": {},
   "source": [
    "### Business Goal / Case Statement\n",
    "Enable fast, iterative interior design by allowing users to vizualize any room in a different style.\n",
    "\n",
    "### Data\n",
    "* I downloaded my dataset from [Kaggle](https://www.kaggle.com/datasets/stepanyarullin/interior-design-styles)\n",
    "* The dataset consists of a collection of interior design images (~1,000 per style) scraped from Houzz.com\n",
    "* The data set contains 14,876 images in the training set, and 3,729 in the test set\n",
    "* All images are 320x320 and in the jpg file format"
   ]
  },
  {
   "cell_type": "code",
   "execution_count": null,
   "metadata": {
    "colab": {
     "base_uri": "https://localhost:8080/"
    },
    "executionInfo": {
     "elapsed": 16626,
     "status": "ok",
     "timestamp": 1746563003030,
     "user": {
      "displayName": "Jefferson Barney",
      "userId": "12850085376597622077"
     },
     "user_tz": 300
    },
    "id": "37HX9OTr3GcM",
    "outputId": "5effc2bc-f100-4675-db65-56b9e6e096c3"
   },
   "outputs": [],
   "source": [
    "# enable Notebook to access Google Drive\n",
    "\n",
    "from google.colab import drive\n",
    "\n",
    "drive.mount('/content/gdrive', force_remount=True)\n",
    "ASSIGNMENT_PATH = \"//content/gdrive/My\\ Drive/Kellogg/MSAI\\ -\\ Gen\\ AI/Image\\ Project\"\n",
    "%cd $ASSIGNMENT_PATH\n",
    "%ls -a"
   ]
  },
  {
   "cell_type": "code",
   "execution_count": 3,
   "metadata": {
    "colab": {
     "base_uri": "https://localhost:8080/",
     "height": 89
    },
    "executionInfo": {
     "elapsed": 16505,
     "status": "ok",
     "timestamp": 1746563020786,
     "user": {
      "displayName": "Jefferson Barney",
      "userId": "12850085376597622077"
     },
     "user_tz": 300
    },
    "id": "VqwHt1Lo31IV",
    "outputId": "8b2faa35-ef42-4bea-f2b9-cf0707983542"
   },
   "outputs": [
    {
     "name": "stdout",
     "output_type": "stream",
     "text": [
      "Downloading from https://www.kaggle.com/api/v1/datasets/download/stepanyarullin/interior-design-styles?dataset_version_number=1...\n"
     ]
    },
    {
     "name": "stderr",
     "output_type": "stream",
     "text": [
      "100%|██████████| 699M/699M [00:05<00:00, 139MB/s]"
     ]
    },
    {
     "name": "stdout",
     "output_type": "stream",
     "text": [
      "Extracting files...\n"
     ]
    },
    {
     "name": "stderr",
     "output_type": "stream",
     "text": [
      "\n"
     ]
    },
    {
     "data": {
      "application/vnd.google.colaboratory.intrinsic+json": {
       "type": "string"
      },
      "text/plain": [
       "'/root/.cache/kagglehub/datasets/stepanyarullin/interior-design-styles/versions/1'"
      ]
     },
     "execution_count": 3,
     "metadata": {},
     "output_type": "execute_result"
    }
   ],
   "source": [
    "# Import the data set into Google Collab\n",
    "import kagglehub\n",
    "\n",
    "kagglehub.dataset_download(\"stepanyarullin/interior-design-styles\")"
   ]
  },
  {
   "cell_type": "markdown",
   "metadata": {},
   "source": [
    "### Step 1 - Visualize the data"
   ]
  },
  {
   "cell_type": "code",
   "execution_count": 14,
   "metadata": {
    "colab": {
     "base_uri": "https://localhost:8080/",
     "height": 693,
     "resources": {
      "http://localhost:8080/root/.cache/kagglehub/datasets/stepanyarullin/interior-design-styles/versions/1/dataset_test/dataset_test/asian/asian_960.jpg": {
       "data": "",
       "headers": [
        [
         "content-length",
         "0"
        ]
       ],
       "ok": false,
       "status": 404,
       "status_text": ""
      },
      "http://localhost:8080/root/.cache/kagglehub/datasets/stepanyarullin/interior-design-styles/versions/1/dataset_test/dataset_test/coastal/coastal_707.jpg": {
       "data": "",
       "headers": [
        [
         "content-length",
         "0"
        ]
       ],
       "ok": false,
       "status": 404,
       "status_text": ""
      },
      "http://localhost:8080/root/.cache/kagglehub/datasets/stepanyarullin/interior-design-styles/versions/1/dataset_test/dataset_test/contemporary/contemporary_610.jpg": {
       "data": "",
       "headers": [
        [
         "content-length",
         "0"
        ]
       ],
       "ok": false,
       "status": 404,
       "status_text": ""
      },
      "http://localhost:8080/root/.cache/kagglehub/datasets/stepanyarullin/interior-design-styles/versions/1/dataset_test/dataset_test/craftsman/craftsman_834.jpg": {
       "data": "",
       "headers": [
        [
         "content-length",
         "0"
        ]
       ],
       "ok": false,
       "status": 404,
       "status_text": ""
      },
      "http://localhost:8080/root/.cache/kagglehub/datasets/stepanyarullin/interior-design-styles/versions/1/dataset_test/dataset_test/eclectic/eclectic_767.jpg": {
       "data": "",
       "headers": [
        [
         "content-length",
         "0"
        ]
       ],
       "ok": false,
       "status": 404,
       "status_text": ""
      },
      "http://localhost:8080/root/.cache/kagglehub/datasets/stepanyarullin/interior-design-styles/versions/1/dataset_test/dataset_test/farmhouse/farmhouse_765.jpg": {
       "data": "",
       "headers": [
        [
         "content-length",
         "0"
        ]
       ],
       "ok": false,
       "status": 404,
       "status_text": ""
      },
      "http://localhost:8080/root/.cache/kagglehub/datasets/stepanyarullin/interior-design-styles/versions/1/dataset_test/dataset_test/french-country/french-country_181.jpg": {
       "data": "",
       "headers": [
        [
         "content-length",
         "0"
        ]
       ],
       "ok": false,
       "status": 404,
       "status_text": ""
      },
      "http://localhost:8080/root/.cache/kagglehub/datasets/stepanyarullin/interior-design-styles/versions/1/dataset_test/dataset_test/industrial/industrial_597.jpg": {
       "data": "",
       "headers": [
        [
         "content-length",
         "0"
        ]
       ],
       "ok": false,
       "status": 404,
       "status_text": ""
      },
      "http://localhost:8080/root/.cache/kagglehub/datasets/stepanyarullin/interior-design-styles/versions/1/dataset_test/dataset_test/mediterranean/mediterranean_223.jpg": {
       "data": "",
       "headers": [
        [
         "content-length",
         "0"
        ]
       ],
       "ok": false,
       "status": 404,
       "status_text": ""
      },
      "http://localhost:8080/root/.cache/kagglehub/datasets/stepanyarullin/interior-design-styles/versions/1/dataset_test/dataset_test/mid-century-modern/mid-century-modern_633.jpg": {
       "data": "",
       "headers": [
        [
         "content-length",
         "0"
        ]
       ],
       "ok": false,
       "status": 404,
       "status_text": ""
      },
      "http://localhost:8080/root/.cache/kagglehub/datasets/stepanyarullin/interior-design-styles/versions/1/dataset_test/dataset_test/modern/modern_670.jpg": {
       "data": "",
       "headers": [
        [
         "content-length",
         "0"
        ]
       ],
       "ok": false,
       "status": 404,
       "status_text": ""
      },
      "http://localhost:8080/root/.cache/kagglehub/datasets/stepanyarullin/interior-design-styles/versions/1/dataset_test/dataset_test/rustic/rustic_870.jpg": {
       "data": "",
       "headers": [
        [
         "content-length",
         "0"
        ]
       ],
       "ok": false,
       "status": 404,
       "status_text": ""
      },
      "http://localhost:8080/root/.cache/kagglehub/datasets/stepanyarullin/interior-design-styles/versions/1/dataset_test/dataset_test/scandinavian/scandinavian_567.jpg": {
       "data": "",
       "headers": [
        [
         "content-length",
         "0"
        ]
       ],
       "ok": false,
       "status": 404,
       "status_text": ""
      },
      "http://localhost:8080/root/.cache/kagglehub/datasets/stepanyarullin/interior-design-styles/versions/1/dataset_test/dataset_test/shabby-chic-style/shabby-chic-style_353.jpg": {
       "data": "",
       "headers": [
        [
         "content-length",
         "0"
        ]
       ],
       "ok": false,
       "status": 404,
       "status_text": ""
      },
      "http://localhost:8080/root/.cache/kagglehub/datasets/stepanyarullin/interior-design-styles/versions/1/dataset_test/dataset_test/southwestern/southwestern_330.jpg": {
       "data": "",
       "headers": [
        [
         "content-length",
         "0"
        ]
       ],
       "ok": false,
       "status": 404,
       "status_text": ""
      },
      "http://localhost:8080/root/.cache/kagglehub/datasets/stepanyarullin/interior-design-styles/versions/1/dataset_test/dataset_test/traditional/traditional_629.jpg": {
       "data": "",
       "headers": [
        [
         "content-length",
         "0"
        ]
       ],
       "ok": false,
       "status": 404,
       "status_text": ""
      },
      "http://localhost:8080/root/.cache/kagglehub/datasets/stepanyarullin/interior-design-styles/versions/1/dataset_test/dataset_test/transitional/transitional_923.jpg": {
       "data": "",
       "headers": [
        [
         "content-length",
         "0"
        ]
       ],
       "ok": false,
       "status": 404,
       "status_text": ""
      },
      "http://localhost:8080/root/.cache/kagglehub/datasets/stepanyarullin/interior-design-styles/versions/1/dataset_test/dataset_test/tropical/tropical_400.jpg": {
       "data": "",
       "headers": [
        [
         "content-length",
         "0"
        ]
       ],
       "ok": false,
       "status": 404,
       "status_text": ""
      },
      "http://localhost:8080/root/.cache/kagglehub/datasets/stepanyarullin/interior-design-styles/versions/1/dataset_test/dataset_test/victorian/victorian_114.jpg": {
       "data": "",
       "headers": [
        [
         "content-length",
         "0"
        ]
       ],
       "ok": false,
       "status": 404,
       "status_text": ""
      }
     }
    },
    "executionInfo": {
     "elapsed": 41,
     "status": "ok",
     "timestamp": 1746563198065,
     "user": {
      "displayName": "Jefferson Barney",
      "userId": "12850085376597622077"
     },
     "user_tz": 300
    },
    "id": "nt9ICYFI2n3O",
    "outputId": "be0a05c9-eca5-447d-a5f0-874143e6f633"
   },
   "outputs": [
    {
     "data": {
      "text/html": [
       "<table border=\"1\" class=\"dataframe\">\n",
       "  <thead>\n",
       "    <tr style=\"text-align: right;\">\n",
       "      <th></th>\n",
       "      <th>Label</th>\n",
       "      <th>Image</th>\n",
       "    </tr>\n",
       "  </thead>\n",
       "  <tbody>\n",
       "    <tr>\n",
       "      <th>0</th>\n",
       "      <td>transitional</td>\n",
       "      <td><img src=\"/root/.cache/kagglehub/datasets/stepanyarullin/interior-design-styles/versions/1/dataset_test/dataset_test/transitional/transitional_923.jpg\" width=\"64\"></td>\n",
       "    </tr>\n",
       "    <tr>\n",
       "      <th>1</th>\n",
       "      <td>industrial</td>\n",
       "      <td><img src=\"/root/.cache/kagglehub/datasets/stepanyarullin/interior-design-styles/versions/1/dataset_test/dataset_test/industrial/industrial_597.jpg\" width=\"64\"></td>\n",
       "    </tr>\n",
       "    <tr>\n",
       "      <th>2</th>\n",
       "      <td>shabby-chic-style</td>\n",
       "      <td><img src=\"/root/.cache/kagglehub/datasets/stepanyarullin/interior-design-styles/versions/1/dataset_test/dataset_test/shabby-chic-style/shabby-chic-style_353.jpg\" width=\"64\"></td>\n",
       "    </tr>\n",
       "    <tr>\n",
       "      <th>3</th>\n",
       "      <td>asian</td>\n",
       "      <td><img src=\"/root/.cache/kagglehub/datasets/stepanyarullin/interior-design-styles/versions/1/dataset_test/dataset_test/asian/asian_960.jpg\" width=\"64\"></td>\n",
       "    </tr>\n",
       "    <tr>\n",
       "      <th>4</th>\n",
       "      <td>victorian</td>\n",
       "      <td><img src=\"/root/.cache/kagglehub/datasets/stepanyarullin/interior-design-styles/versions/1/dataset_test/dataset_test/victorian/victorian_114.jpg\" width=\"64\"></td>\n",
       "    </tr>\n",
       "    <tr>\n",
       "      <th>5</th>\n",
       "      <td>coastal</td>\n",
       "      <td><img src=\"/root/.cache/kagglehub/datasets/stepanyarullin/interior-design-styles/versions/1/dataset_test/dataset_test/coastal/coastal_707.jpg\" width=\"64\"></td>\n",
       "    </tr>\n",
       "    <tr>\n",
       "      <th>6</th>\n",
       "      <td>southwestern</td>\n",
       "      <td><img src=\"/root/.cache/kagglehub/datasets/stepanyarullin/interior-design-styles/versions/1/dataset_test/dataset_test/southwestern/southwestern_330.jpg\" width=\"64\"></td>\n",
       "    </tr>\n",
       "    <tr>\n",
       "      <th>7</th>\n",
       "      <td>craftsman</td>\n",
       "      <td><img src=\"/root/.cache/kagglehub/datasets/stepanyarullin/interior-design-styles/versions/1/dataset_test/dataset_test/craftsman/craftsman_834.jpg\" width=\"64\"></td>\n",
       "    </tr>\n",
       "    <tr>\n",
       "      <th>8</th>\n",
       "      <td>contemporary</td>\n",
       "      <td><img src=\"/root/.cache/kagglehub/datasets/stepanyarullin/interior-design-styles/versions/1/dataset_test/dataset_test/contemporary/contemporary_610.jpg\" width=\"64\"></td>\n",
       "    </tr>\n",
       "    <tr>\n",
       "      <th>9</th>\n",
       "      <td>scandinavian</td>\n",
       "      <td><img src=\"/root/.cache/kagglehub/datasets/stepanyarullin/interior-design-styles/versions/1/dataset_test/dataset_test/scandinavian/scandinavian_567.jpg\" width=\"64\"></td>\n",
       "    </tr>\n",
       "    <tr>\n",
       "      <th>10</th>\n",
       "      <td>french-country</td>\n",
       "      <td><img src=\"/root/.cache/kagglehub/datasets/stepanyarullin/interior-design-styles/versions/1/dataset_test/dataset_test/french-country/french-country_181.jpg\" width=\"64\"></td>\n",
       "    </tr>\n",
       "    <tr>\n",
       "      <th>11</th>\n",
       "      <td>mediterranean</td>\n",
       "      <td><img src=\"/root/.cache/kagglehub/datasets/stepanyarullin/interior-design-styles/versions/1/dataset_test/dataset_test/mediterranean/mediterranean_223.jpg\" width=\"64\"></td>\n",
       "    </tr>\n",
       "    <tr>\n",
       "      <th>12</th>\n",
       "      <td>rustic</td>\n",
       "      <td><img src=\"/root/.cache/kagglehub/datasets/stepanyarullin/interior-design-styles/versions/1/dataset_test/dataset_test/rustic/rustic_870.jpg\" width=\"64\"></td>\n",
       "    </tr>\n",
       "    <tr>\n",
       "      <th>13</th>\n",
       "      <td>farmhouse</td>\n",
       "      <td><img src=\"/root/.cache/kagglehub/datasets/stepanyarullin/interior-design-styles/versions/1/dataset_test/dataset_test/farmhouse/farmhouse_765.jpg\" width=\"64\"></td>\n",
       "    </tr>\n",
       "    <tr>\n",
       "      <th>14</th>\n",
       "      <td>mid-century-modern</td>\n",
       "      <td><img src=\"/root/.cache/kagglehub/datasets/stepanyarullin/interior-design-styles/versions/1/dataset_test/dataset_test/mid-century-modern/mid-century-modern_633.jpg\" width=\"64\"></td>\n",
       "    </tr>\n",
       "    <tr>\n",
       "      <th>15</th>\n",
       "      <td>traditional</td>\n",
       "      <td><img src=\"/root/.cache/kagglehub/datasets/stepanyarullin/interior-design-styles/versions/1/dataset_test/dataset_test/traditional/traditional_629.jpg\" width=\"64\"></td>\n",
       "    </tr>\n",
       "    <tr>\n",
       "      <th>16</th>\n",
       "      <td>eclectic</td>\n",
       "      <td><img src=\"/root/.cache/kagglehub/datasets/stepanyarullin/interior-design-styles/versions/1/dataset_test/dataset_test/eclectic/eclectic_767.jpg\" width=\"64\"></td>\n",
       "    </tr>\n",
       "    <tr>\n",
       "      <th>17</th>\n",
       "      <td>tropical</td>\n",
       "      <td><img src=\"/root/.cache/kagglehub/datasets/stepanyarullin/interior-design-styles/versions/1/dataset_test/dataset_test/tropical/tropical_400.jpg\" width=\"64\"></td>\n",
       "    </tr>\n",
       "    <tr>\n",
       "      <th>18</th>\n",
       "      <td>modern</td>\n",
       "      <td><img src=\"/root/.cache/kagglehub/datasets/stepanyarullin/interior-design-styles/versions/1/dataset_test/dataset_test/modern/modern_670.jpg\" width=\"64\"></td>\n",
       "    </tr>\n",
       "  </tbody>\n",
       "</table>"
      ],
      "text/plain": [
       "<IPython.core.display.HTML object>"
      ]
     },
     "execution_count": 14,
     "metadata": {},
     "output_type": "execute_result"
    }
   ],
   "source": [
    "from preprocessing import sample_data\n",
    "from IPython.display import HTML\n",
    "\n",
    "df = sample_data()\n",
    "HTML(df.to_html(escape=False))"
   ]
  },
  {
   "cell_type": "markdown",
   "metadata": {
    "id": "sgX9jSQi2n3O"
   },
   "source": [
    "### Step 2 - Load and Normalize the Training Data"
   ]
  },
  {
   "cell_type": "code",
   "execution_count": 19,
   "metadata": {
    "executionInfo": {
     "elapsed": 62,
     "status": "ok",
     "timestamp": 1746564362046,
     "user": {
      "displayName": "Jefferson Barney",
      "userId": "12850085376597622077"
     },
     "user_tz": 300
    },
    "id": "OX6UdINb2n3P"
   },
   "outputs": [],
   "source": [
    "from preprocessing import fetch_data, preprocess\n",
    "\n",
    "train_data = fetch_data()\n",
    "train_data = preprocess(train_data)"
   ]
  },
  {
   "cell_type": "markdown",
   "metadata": {
    "id": "5goAvMmY2n3Q"
   },
   "source": [
    "### Step 3 - Create an instance of the Diffusion model"
   ]
  },
  {
   "cell_type": "code",
   "execution_count": 25,
   "metadata": {
    "executionInfo": {
     "elapsed": 21143,
     "status": "ok",
     "timestamp": 1746564394313,
     "user": {
      "displayName": "Jefferson Barney",
      "userId": "12850085376597622077"
     },
     "user_tz": 300
    },
    "id": "llqa8nRs2n3Q"
   },
   "outputs": [],
   "source": [
    "from diffusion_model import DiffusionModel\n",
    "from hyperparameters import LOAD_MODEL, WEIGHT_PATH\n",
    "\n",
    "ddm = DiffusionModel()\n",
    "ddm.normalizer.adapt(train_data)\n",
    "\n",
    "if LOAD_MODEL:\n",
    "    ddm.built = True\n",
    "    ddm.load_weights(WEIGHT_PATH)"
   ]
  },
  {
   "cell_type": "markdown",
   "metadata": {
    "id": "SdKE9hnr2n3Q"
   },
   "source": [
    "### Step 4 - Train the model"
   ]
  },
  {
   "cell_type": "code",
   "execution_count": null,
   "metadata": {
    "colab": {
     "base_uri": "https://localhost:8080/",
     "height": 1000,
     "output_embedded_package_id": "16HpkwgvorsKJ5TTK8FHPzCXRF5tYx5R-"
    },
    "id": "8kJ7mB872n3Q",
    "outputId": "81ac3617-82b0-4ea3-c7aa-b8a3e9886725"
   },
   "outputs": [
    {
     "data": {
      "text/plain": [
       "Output hidden; open in https://colab.research.google.com to view."
      ]
     },
     "metadata": {},
     "output_type": "display_data"
    }
   ],
   "source": [
    "from tensorflow.keras import losses, optimizers\n",
    "from hyperparameters import EPOCHS, LEARNING_RATE, WEIGHT_DECAY\n",
    "from training_callbacks import model_checkpoint_callback, tensorboard_callback, image_generator_callback\n",
    "\n",
    "ddm.compile(optimizer=optimizers.AdamW(learning_rate=LEARNING_RATE, weight_decay=WEIGHT_DECAY), loss=losses.MeanAbsoluteError())\n",
    "ddm.fit(train_data, epochs=EPOCHS, callbacks=[\n",
    "    #model_checkpoint_callback(), Don't save model weights for now, too complicated to manage on Google Drive\n",
    "    tensorboard_callback(),\n",
    "    image_generator_callback(),\n",
    "])"
   ]
  },
  {
   "cell_type": "markdown",
   "metadata": {},
   "source": [
    "# Notes\n",
    "\n",
    "### Output\n",
    "Output for the final training round that I did on my model can be found in the repo as [image-project-output.pdf.](./image-project-output.pdf) Note that the output is cut off, this is because my Google Colaboratory session was interrupted on epoch 158 after running for a couple hours.\n",
    "\n",
    "### Development process\n",
    "Throughout this project, I learned a lot about ML Ops workflows and development. I had an incredibly difficult time getting tensorflow to recognize the GPU on the devices that I would provision through Quest On Demand. After spending many hours on this same issue, I ultimately resorted to using a Google Colaboratory runtime with a T4 GPU and found my training time to be dramatically reduced. Once I had an effective setup in Google Colaboratory where I had access to my dataset and appropriate hardware, I made progress very quickly. \n",
    "\n",
    "### Key Learnings\n",
    "* Python dependency management is a nightmare. Because ML workflows rely on libraries with low-level functionality, such as tensorflow, getting an effective set up can be non-trivial.\n",
    "* Hardware profiling can produce dramatic speed ups. Although I did not do any in-depth profiling, running on a setup where tensorflow was locating the devices GPU led to exponentially faster training times.\n",
    "* Complicated models do not require large amounts of code. Compared to other professional software applications that I have worked on, my diffusion model has a shockingly small number of lines of code. What is much more important here is understanding the concepts, math, and model design. Once the architecture is clear, libraries like tensorflow have great abstractions that make implementation fairly straightforward.\n",
    "* Data makes all the difference. At first, I played around with training my model on only small pieces of my dataset, such as one specific interior design type. These smaller datasets of ~1.5k images did not produce any meaningful image generations, even after 50 epochs of training. However, in my final training run I included all ~15k images in my training set, and the model was producing different random noise within 10 epochs, and relatively clear images within 30 epochs. This was surprising to me, because I had assumed that if I only gave images of one particular label then each image would be more similar to each other so the model would have a smaller latent space to represent. However, in practice the volume of the additional images proved far more helpful to the model than limiting the dataset to one specific label."
   ]
  }
 ],
 "metadata": {
  "accelerator": "GPU",
  "colab": {
   "gpuType": "T4",
   "provenance": []
  },
  "kernelspec": {
   "display_name": "Python 3",
   "name": "python3"
  },
  "language_info": {
   "codemirror_mode": {
    "name": "ipython",
    "version": 3
   },
   "file_extension": ".py",
   "mimetype": "text/x-python",
   "name": "python",
   "nbconvert_exporter": "python",
   "pygments_lexer": "ipython3",
   "version": "3.10.17"
  }
 },
 "nbformat": 4,
 "nbformat_minor": 0
}
