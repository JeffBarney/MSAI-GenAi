{
 "cells": [
  {
   "cell_type": "markdown",
   "id": "b076bd1a-b236-4fbc-953d-8295b25122ae",
   "metadata": {
    "id": "b076bd1a-b236-4fbc-953d-8295b25122ae"
   },
   "source": [
    "# K-Drama Browser - a tool for getting quick summaries of K-Drama's based on user sentiment and reviews"
   ]
  },
  {
   "cell_type": "markdown",
   "id": "4dca6836-0007-43f3-af65-d12ae1922c02",
   "metadata": {
    "id": "4dca6836-0007-43f3-af65-d12ae1922c02",
    "tags": []
   },
   "source": [
    "Jeff Barney, MSAI-495: Generative AI Text Project"
   ]
  },
  {
   "cell_type": "code",
   "execution_count": 2,
   "id": "73350761-bef2-4e96-b3ac-a158eabd2b65",
   "metadata": {
    "executionInfo": {
     "elapsed": 4346,
     "status": "ok",
     "timestamp": 1748896346041,
     "user": {
      "displayName": "Jefferson Barney",
      "userId": "12850085376597622077"
     },
     "user_tz": 300
    },
    "id": "73350761-bef2-4e96-b3ac-a158eabd2b65",
    "tags": []
   },
   "outputs": [
    {
     "name": "stdout",
     "output_type": "stream",
     "text": [
      "The autoreload extension is already loaded. To reload it, use:\n",
      "  %reload_ext autoreload\n"
     ]
    },
    {
     "name": "stderr",
     "output_type": "stream",
     "text": [
      "2025-06-02 20:57:58.260952: I tensorflow/core/util/port.cc:113] oneDNN custom operations are on. You may see slightly different numerical results due to floating-point round-off errors from different computation orders. To turn them off, set the environment variable `TF_ENABLE_ONEDNN_OPTS=0`.\n",
      "2025-06-02 20:58:01.778991: E external/local_xla/xla/stream_executor/cuda/cuda_dnn.cc:9261] Unable to register cuDNN factory: Attempting to register factory for plugin cuDNN when one has already been registered\n",
      "2025-06-02 20:58:01.779038: E external/local_xla/xla/stream_executor/cuda/cuda_fft.cc:607] Unable to register cuFFT factory: Attempting to register factory for plugin cuFFT when one has already been registered\n",
      "2025-06-02 20:58:01.888290: E external/local_xla/xla/stream_executor/cuda/cuda_blas.cc:1515] Unable to register cuBLAS factory: Attempting to register factory for plugin cuBLAS when one has already been registered\n",
      "2025-06-02 20:58:02.019324: I tensorflow/core/platform/cpu_feature_guard.cc:182] This TensorFlow binary is optimized to use available CPU instructions in performance-critical operations.\n",
      "To enable the following instructions: AVX2 AVX512F AVX512_VNNI AVX512_BF16 AVX_VNNI AMX_TILE AMX_INT8 AMX_BF16 FMA, in other operations, rebuild TensorFlow with the appropriate compiler flags.\n",
      "2025-06-02 20:58:41.053025: W tensorflow/compiler/tf2tensorrt/utils/py_utils.cc:38] TF-TRT Warning: Could not find TensorRT\n"
     ]
    }
   ],
   "source": [
    "%load_ext autoreload\n",
    "%autoreload 2\n",
    "import pandas as pd\n",
    "import numpy as np\n",
    "import re\n",
    "import string\n",
    "from IPython.display import display, HTML\n",
    "\n",
    "import tensorflow as tf\n",
    "from tensorflow.keras import layers, models, losses, callbacks"
   ]
  },
  {
   "cell_type": "markdown",
   "id": "339e6268-ebd7-4feb-86db-1fe7abccdbe5",
   "metadata": {
    "id": "339e6268-ebd7-4feb-86db-1fe7abccdbe5"
   },
   "source": [
    "## 0. Parameters"
   ]
  },
  {
   "cell_type": "code",
   "execution_count": 3,
   "id": "2d8352af-343e-4c2e-8c91-95f8bac1c8a1",
   "metadata": {
    "executionInfo": {
     "elapsed": 10,
     "status": "ok",
     "timestamp": 1748896346049,
     "user": {
      "displayName": "Jefferson Barney",
      "userId": "12850085376597622077"
     },
     "user_tz": 300
    },
    "id": "2d8352af-343e-4c2e-8c91-95f8bac1c8a1"
   },
   "outputs": [],
   "source": [
    "VOCAB_SIZE = 100000\n",
    "MAX_LEN = 80\n",
    "EMBEDDING_DIM = 256\n",
    "KEY_DIM = 256\n",
    "N_HEADS = 2\n",
    "FEED_FORWARD_DIM = 256\n",
    "VALIDATION_SPLIT = 0.2\n",
    "SEED = 42\n",
    "LOAD_MODEL = False\n",
    "BATCH_SIZE = 32\n",
    "EPOCHS = 5"
   ]
  },
  {
   "cell_type": "markdown",
   "id": "b7716fac-0010-49b0-b98e-53be2259edde",
   "metadata": {
    "id": "b7716fac-0010-49b0-b98e-53be2259edde"
   },
   "source": [
    "## 1. Load the data"
   ]
  },
  {
   "cell_type": "code",
   "execution_count": 5,
   "id": "RbDOZB0McIiJ",
   "metadata": {
    "colab": {
     "base_uri": "https://localhost:8080/"
    },
    "executionInfo": {
     "elapsed": 4442,
     "status": "ok",
     "timestamp": 1748896350497,
     "user": {
      "displayName": "Jefferson Barney",
      "userId": "12850085376597622077"
     },
     "user_tz": 300
    },
    "id": "RbDOZB0McIiJ",
    "outputId": "aa03c358-7143-431b-d843-1ce3c802f983"
   },
   "outputs": [
    {
     "name": "stderr",
     "output_type": "stream",
     "text": [
      "/home/nee0873/.conda/envs/text-project/lib/python3.10/site-packages/tqdm/auto.py:21: TqdmWarning: IProgress not found. Please update jupyter and ipywidgets. See https://ipywidgets.readthedocs.io/en/stable/user_install.html\n",
      "  from .autonotebook import tqdm as notebook_tqdm\n"
     ]
    },
    {
     "name": "stdout",
     "output_type": "stream",
     "text": [
      "Downloading from https://www.kaggle.com/api/v1/datasets/download/chanoncharuchinda/korean-drama-2015-23-actor-and-reviewmydramalist?dataset_version_number=3...\n"
     ]
    },
    {
     "name": "stderr",
     "output_type": "stream",
     "text": [
      "100%|██████████| 8.40M/8.40M [00:00<00:00, 57.1MB/s]"
     ]
    },
    {
     "name": "stdout",
     "output_type": "stream",
     "text": [
      "Extracting files...\n"
     ]
    },
    {
     "name": "stderr",
     "output_type": "stream",
     "text": [
      "\n"
     ]
    }
   ],
   "source": [
    "import kagglehub\n",
    "\n",
    "raw_data_path = kagglehub.dataset_download(\"chanoncharuchinda/korean-drama-2015-23-actor-and-reviewmydramalist\") + \"/reviews.csv\""
   ]
  },
  {
   "cell_type": "code",
   "execution_count": 6,
   "id": "23a74eca-f1b7-4a46-9a1f-b5806a4ed361",
   "metadata": {
    "executionInfo": {
     "elapsed": 66,
     "status": "ok",
     "timestamp": 1748896351104,
     "user": {
      "displayName": "Jefferson Barney",
      "userId": "12850085376597622077"
     },
     "user_tz": 300
    },
    "id": "23a74eca-f1b7-4a46-9a1f-b5806a4ed361",
    "tags": []
   },
   "outputs": [],
   "source": [
    "# Filter the dataset, remove colons\n",
    "raw_data_df = pd.read_csv(raw_data_path)\n",
    "cols_to_drop = [col for col in raw_data_df.columns if col not in ['title', 'review_text']]\n",
    "filtered_data = raw_data_df.drop(columns=cols_to_drop)\n",
    "filtered_data['review_text'] = filtered_data['review_text'].str.replace(':', '-')"
   ]
  },
  {
   "cell_type": "code",
   "execution_count": 7,
   "id": "389c20de-0422-4c48-a7b4-6ee12a7bf0e2",
   "metadata": {
    "colab": {
     "base_uri": "https://localhost:8080/"
    },
    "executionInfo": {
     "elapsed": 612,
     "status": "ok",
     "timestamp": 1748896351716,
     "user": {
      "displayName": "Jefferson Barney",
      "userId": "12850085376597622077"
     },
     "user_tz": 300
    },
    "id": "389c20de-0422-4c48-a7b4-6ee12a7bf0e2",
    "outputId": "78cd45f2-84e8-4df1-ab42-9661e13f8030",
    "tags": []
   },
   "outputs": [
    {
     "name": "stdout",
     "output_type": "stream",
     "text": [
      "10625 reviews loaded\n"
     ]
    }
   ],
   "source": [
    "# Combine the review and titles\n",
    "combined_data = filtered_data.apply(lambda row: 'K-Drama title : ' + ' : K-Drama review : '.join(row.astype(str)), axis=1).tolist()\n",
    "n_reviews = len(combined_data)\n",
    "print(f\"{n_reviews} reviews loaded\")"
   ]
  },
  {
   "cell_type": "code",
   "execution_count": 8,
   "id": "1b2e3cf7-e416-460e-874a-0dd9637bca36",
   "metadata": {
    "colab": {
     "base_uri": "https://localhost:8080/",
     "height": 107
    },
    "executionInfo": {
     "elapsed": 38,
     "status": "ok",
     "timestamp": 1748896351755,
     "user": {
      "displayName": "Jefferson Barney",
      "userId": "12850085376597622077"
     },
     "user_tz": 300
    },
    "id": "1b2e3cf7-e416-460e-874a-0dd9637bca36",
    "outputId": "a15ac06f-b95f-4cd6-c6ad-82b604772da2"
   },
   "outputs": [
    {
     "data": {
      "text/plain": [
       "\"K-Drama title : Star Struck : K-Drama review : More like a glimmer rather than being starstruck  I've said it before and I'll say it again- This should have been a movie. Or, at least, been released all at once. The cut-off of many episodes felt unsatisfying and, overall, just got in the way of the flow of the story.Also, it seemed like scenes were missing, and I'm sure a longer runtime would have added more depth to it . . . However--strangely--I'm not mad about it. Maybe it's the indie vibes and solid acting that won me over and made me see past its flaws.Just about Zuho- I do have to bring up how great it was to have him, being the fairly famous K-Pop Idol he is, actually speak out against the hate he was getting for acting in a BL, and not just that, but openly voice his support, love, and respect for the LGBT+ community in his response.\""
      ]
     },
     "execution_count": 8,
     "metadata": {},
     "output_type": "execute_result"
    }
   ],
   "source": [
    "combined_data[25]"
   ]
  },
  {
   "cell_type": "markdown",
   "id": "3f871aaf-d873-41c7-8946-e4eef7ac17c1",
   "metadata": {
    "id": "3f871aaf-d873-41c7-8946-e4eef7ac17c1"
   },
   "source": [
    "## 2. Tokenize the data"
   ]
  },
  {
   "cell_type": "code",
   "execution_count": 9,
   "id": "5b2064fb-5dcc-4657-b470-0928d10e2ddc",
   "metadata": {
    "executionInfo": {
     "elapsed": 5605,
     "status": "ok",
     "timestamp": 1748896357369,
     "user": {
      "displayName": "Jefferson Barney",
      "userId": "12850085376597622077"
     },
     "user_tz": 300
    },
    "id": "5b2064fb-5dcc-4657-b470-0928d10e2ddc",
    "tags": []
   },
   "outputs": [],
   "source": [
    "# Pad the punctuation, to treat them as separate 'words'\n",
    "def pad_punctuation(s):\n",
    "    s = re.sub(f\"([{string.punctuation}, '\\n'])\", r\" \\1 \", s)\n",
    "    s = re.sub(\" +\", \" \", s)\n",
    "    return s\n",
    "\n",
    "\n",
    "text_data = [pad_punctuation(x) for x in combined_data]"
   ]
  },
  {
   "cell_type": "code",
   "execution_count": 10,
   "id": "b87d7c65-9a46-492a-a5c0-a043b0d252f3",
   "metadata": {
    "colab": {
     "base_uri": "https://localhost:8080/",
     "height": 107
    },
    "executionInfo": {
     "elapsed": 10,
     "status": "ok",
     "timestamp": 1748896357374,
     "user": {
      "displayName": "Jefferson Barney",
      "userId": "12850085376597622077"
     },
     "user_tz": 300
    },
    "id": "b87d7c65-9a46-492a-a5c0-a043b0d252f3",
    "outputId": "0276be0f-e092-46e2-bb53-f76fbfa0fbf3"
   },
   "outputs": [
    {
     "data": {
      "text/plain": [
       "\"K - Drama title : Star Struck : K - Drama review : More like a glimmer rather than being starstruck I ' ve said it before and I ' ll say it again - This should have been a movie . Or , at least , been released all at once . The cut - off of many episodes felt unsatisfying and , overall , just got in the way of the flow of the story . Also , it seemed like scenes were missing , and I ' m sure a longer runtime would have added more depth to it . . . However - - strangely - - I ' m not mad about it . Maybe it ' s the indie vibes and solid acting that won me over and made me see past its flaws . Just about Zuho - I do have to bring up how great it was to have him , being the fairly famous K - Pop Idol he is , actually speak out against the hate he was getting for acting in a BL , and not just that , but openly voice his support , love , and respect for the LGBT + community in his response . \""
      ]
     },
     "execution_count": 10,
     "metadata": {},
     "output_type": "execute_result"
    }
   ],
   "source": [
    "# Display an example of a review\n",
    "text_data[25]"
   ]
  },
  {
   "cell_type": "code",
   "execution_count": 11,
   "id": "9834f916-b21a-4104-acc9-f28d3bd7a8c1",
   "metadata": {
    "executionInfo": {
     "elapsed": 386,
     "status": "ok",
     "timestamp": 1748896357762,
     "user": {
      "displayName": "Jefferson Barney",
      "userId": "12850085376597622077"
     },
     "user_tz": 300
    },
    "id": "9834f916-b21a-4104-acc9-f28d3bd7a8c1",
    "tags": []
   },
   "outputs": [
    {
     "name": "stderr",
     "output_type": "stream",
     "text": [
      "2025-06-02 21:06:16.001188: W tensorflow/core/common_runtime/gpu/gpu_device.cc:2348] TensorFlow was not built with CUDA kernel binaries compatible with compute capability 9.0. CUDA kernels will be jit-compiled from PTX, which could take 30 minutes or longer.\n",
      "2025-06-02 21:06:16.007894: W tensorflow/core/common_runtime/gpu/gpu_device.cc:2348] TensorFlow was not built with CUDA kernel binaries compatible with compute capability 9.0. CUDA kernels will be jit-compiled from PTX, which could take 30 minutes or longer.\n",
      "2025-06-02 21:06:16.165881: I tensorflow/core/common_runtime/gpu/gpu_device.cc:1929] Created device /job:localhost/replica:0/task:0/device:GPU:0 with 78763 MB memory:  -> device: 0, name: NVIDIA H100 80GB HBM3, pci bus id: 0000:d4:00.0, compute capability: 9.0\n"
     ]
    }
   ],
   "source": [
    "# Convert to a Tensorflow Dataset\n",
    "text_ds = (\n",
    "    tf.data.Dataset.from_tensor_slices(text_data)\n",
    "    .batch(BATCH_SIZE)\n",
    "    .shuffle(1000)\n",
    ")"
   ]
  },
  {
   "cell_type": "code",
   "execution_count": 12,
   "id": "884c0bcb-0807-45a1-8f7e-a32f2c6fa4de",
   "metadata": {
    "executionInfo": {
     "elapsed": 49,
     "status": "ok",
     "timestamp": 1748896357816,
     "user": {
      "displayName": "Jefferson Barney",
      "userId": "12850085376597622077"
     },
     "user_tz": 300
    },
    "id": "884c0bcb-0807-45a1-8f7e-a32f2c6fa4de"
   },
   "outputs": [],
   "source": [
    "# Create a vectorisation layer\n",
    "vectorize_layer = layers.TextVectorization(\n",
    "    standardize=\"lower\",\n",
    "    max_tokens=VOCAB_SIZE,\n",
    "    output_mode=\"int\",\n",
    "    output_sequence_length=MAX_LEN + 1,\n",
    ")"
   ]
  },
  {
   "cell_type": "code",
   "execution_count": 13,
   "id": "4d6dd34a-d905-497b-926a-405380ebcf98",
   "metadata": {
    "executionInfo": {
     "elapsed": 2928,
     "status": "ok",
     "timestamp": 1748896360750,
     "user": {
      "displayName": "Jefferson Barney",
      "userId": "12850085376597622077"
     },
     "user_tz": 300
    },
    "id": "4d6dd34a-d905-497b-926a-405380ebcf98"
   },
   "outputs": [],
   "source": [
    "# Adapt the layer to the training set\n",
    "vectorize_layer.adapt(text_ds)\n",
    "vocab = vectorize_layer.get_vocabulary()"
   ]
  },
  {
   "cell_type": "code",
   "execution_count": 14,
   "id": "f6c1c7ce-3cf0-40d4-a3dc-ab7090f69f2f",
   "metadata": {
    "colab": {
     "base_uri": "https://localhost:8080/"
    },
    "executionInfo": {
     "elapsed": 11,
     "status": "ok",
     "timestamp": 1748896360766,
     "user": {
      "displayName": "Jefferson Barney",
      "userId": "12850085376597622077"
     },
     "user_tz": 300
    },
    "id": "f6c1c7ce-3cf0-40d4-a3dc-ab7090f69f2f",
    "outputId": "6dec53ca-9798-45ef-f858-52c024d5b696"
   },
   "outputs": [
    {
     "name": "stdout",
     "output_type": "stream",
     "text": [
      "0: \n",
      "1: [UNK]\n",
      "2: .\n",
      "3: the\n",
      "4: ,\n",
      "5: and\n",
      "6: i\n",
      "7: a\n",
      "8: to\n",
      "9: of\n"
     ]
    }
   ],
   "source": [
    "# Display some token:word mappings\n",
    "for i, word in enumerate(vocab[:10]):\n",
    "    print(f\"{i}: {word}\")"
   ]
  },
  {
   "cell_type": "code",
   "execution_count": 15,
   "id": "1cc30186-7ec6-4eb6-b29a-65df6714d321",
   "metadata": {
    "colab": {
     "base_uri": "https://localhost:8080/"
    },
    "executionInfo": {
     "elapsed": 81,
     "status": "ok",
     "timestamp": 1748896440663,
     "user": {
      "displayName": "Jefferson Barney",
      "userId": "12850085376597622077"
     },
     "user_tz": 300
    },
    "id": "1cc30186-7ec6-4eb6-b29a-65df6714d321",
    "outputId": "76f53b8e-904a-4a6c-e634-6812409c8eda"
   },
   "outputs": [
    {
     "name": "stderr",
     "output_type": "stream",
     "text": [
      "2025-06-02 21:09:31.614948: I external/local_tsl/tsl/platform/default/subprocess.cc:304] Start cannot spawn child process: No such file or directory\n"
     ]
    },
    {
     "name": "stdout",
     "output_type": "stream",
     "text": [
      "[   27    10    13    63    20   776  3793    20    27    10    13    54\n",
      "    20    55    34     7 11831   321   122   127 30869     6    11   169\n",
      "   351    12   261     5     6    11   277   146    12   172    10    18\n",
      "   204    33   124     7   805     2    66     4    51   322     4   124\n",
      "  1891    39    51   353     2     3   972    10   197     9   126    96\n",
      "   140  3872     5     4   163     4    44   173    15     3   108     9\n",
      "     3  1555     9     3    40     2    82     4    12]\n"
     ]
    }
   ],
   "source": [
    "# Display the same example converted to ints\n",
    "example_tokenised = vectorize_layer(text_data[25])\n",
    "print(example_tokenised.numpy())"
   ]
  },
  {
   "cell_type": "markdown",
   "id": "8c195efb-84c6-4be0-a989-a7542188ad35",
   "metadata": {
    "id": "8c195efb-84c6-4be0-a989-a7542188ad35"
   },
   "source": [
    "## 3. Create the Training Set"
   ]
  },
  {
   "cell_type": "code",
   "execution_count": 16,
   "id": "740294a1-1a6b-4c89-92f2-036d7d1b788b",
   "metadata": {
    "executionInfo": {
     "elapsed": 221,
     "status": "ok",
     "timestamp": 1748896443674,
     "user": {
      "displayName": "Jefferson Barney",
      "userId": "12850085376597622077"
     },
     "user_tz": 300
    },
    "id": "740294a1-1a6b-4c89-92f2-036d7d1b788b"
   },
   "outputs": [],
   "source": [
    "# Create the training set of reviews and the same text shifted by one word\n",
    "def prepare_inputs(text):\n",
    "    text = tf.expand_dims(text, -1)\n",
    "    tokenized_sentences = vectorize_layer(text)\n",
    "    x = tokenized_sentences[:, :-1]\n",
    "    y = tokenized_sentences[:, 1:]\n",
    "    return x, y\n",
    "\n",
    "\n",
    "train_ds = text_ds.map(prepare_inputs)"
   ]
  },
  {
   "cell_type": "code",
   "execution_count": 17,
   "id": "cad80ffb-4298-4249-86b4-9918d62534c5",
   "metadata": {
    "executionInfo": {
     "elapsed": 100,
     "status": "ok",
     "timestamp": 1748896445135,
     "user": {
      "displayName": "Jefferson Barney",
      "userId": "12850085376597622077"
     },
     "user_tz": 300
    },
    "id": "cad80ffb-4298-4249-86b4-9918d62534c5"
   },
   "outputs": [],
   "source": [
    "example_input_output = train_ds.take(1).get_single_element()"
   ]
  },
  {
   "cell_type": "code",
   "execution_count": 18,
   "id": "67ff7263-f62d-44c1-997b-1aa99a393521",
   "metadata": {
    "colab": {
     "base_uri": "https://localhost:8080/"
    },
    "executionInfo": {
     "elapsed": 49,
     "status": "ok",
     "timestamp": 1748896445881,
     "user": {
      "displayName": "Jefferson Barney",
      "userId": "12850085376597622077"
     },
     "user_tz": 300
    },
    "id": "67ff7263-f62d-44c1-997b-1aa99a393521",
    "outputId": "bc8a7291-7533-4c32-98e9-371ad06b9a45"
   },
   "outputs": [
    {
     "data": {
      "text/plain": [
       "<tf.Tensor: shape=(80,), dtype=int64, numpy=\n",
       "array([  27,   10,   13,   63,   20, 2092,  814,   20,   27,   10,   13,\n",
       "         54,   20,   59,   18,   14,  144,   92,  773,  348,    4,  134,\n",
       "         49,   36,  341,    7,  136,    9,  154,    8,   34,   61,    3,\n",
       "       2092,  814,    4,  745,   21,   42,   18,   14,   28,   57,   92,\n",
       "       1865,   29,    6,   16,  552,  834,    5,  514,    2,   12,   11,\n",
       "         23,   28,   17,   18,   13,   14,  153,    4,   12,   11,   23,\n",
       "         44,   17,   12,   11,   23,   81, 1585, 1052,    8,  126,  123,\n",
       "         22,  697,  839])>"
      ]
     },
     "execution_count": 18,
     "metadata": {},
     "output_type": "execute_result"
    }
   ],
   "source": [
    "# Example Input\n",
    "example_input_output[0][0]"
   ]
  },
  {
   "cell_type": "code",
   "execution_count": 19,
   "id": "ef2e2cad-414c-4e6d-a2ac-6b9598f9dd01",
   "metadata": {
    "colab": {
     "base_uri": "https://localhost:8080/"
    },
    "executionInfo": {
     "elapsed": 41,
     "status": "ok",
     "timestamp": 1748896450364,
     "user": {
      "displayName": "Jefferson Barney",
      "userId": "12850085376597622077"
     },
     "user_tz": 300
    },
    "id": "ef2e2cad-414c-4e6d-a2ac-6b9598f9dd01",
    "outputId": "4df8a947-7b68-4f95-ea5d-2d71ebd0e440"
   },
   "outputs": [
    {
     "data": {
      "text/plain": [
       "<tf.Tensor: shape=(80,), dtype=int64, numpy=\n",
       "array([  10,   13,   63,   20, 2092,  814,   20,   27,   10,   13,   54,\n",
       "         20,   59,   18,   14,  144,   92,  773,  348,    4,  134,   49,\n",
       "         36,  341,    7,  136,    9,  154,    8,   34,   61,    3, 2092,\n",
       "        814,    4,  745,   21,   42,   18,   14,   28,   57,   92, 1865,\n",
       "         29,    6,   16,  552,  834,    5,  514,    2,   12,   11,   23,\n",
       "         28,   17,   18,   13,   14,  153,    4,   12,   11,   23,   44,\n",
       "         17,   12,   11,   23,   81, 1585, 1052,    8,  126,  123,   22,\n",
       "        697,  839,    2])>"
      ]
     },
     "execution_count": 19,
     "metadata": {},
     "output_type": "execute_result"
    }
   ],
   "source": [
    "# Example Output (shifted by one token)\n",
    "example_input_output[1][0]"
   ]
  },
  {
   "cell_type": "markdown",
   "id": "aff50401-3abe-4c10-bba8-b35bc13ad7d5",
   "metadata": {
    "id": "aff50401-3abe-4c10-bba8-b35bc13ad7d5",
    "tags": []
   },
   "source": [
    "## 4. Create the causal attention mask function"
   ]
  },
  {
   "cell_type": "code",
   "execution_count": 20,
   "id": "554a4184-61c2-4eb7-a063-d965586a8188",
   "metadata": {
    "colab": {
     "base_uri": "https://localhost:8080/"
    },
    "executionInfo": {
     "elapsed": 65,
     "status": "ok",
     "timestamp": 1748896451970,
     "user": {
      "displayName": "Jefferson Barney",
      "userId": "12850085376597622077"
     },
     "user_tz": 300
    },
    "id": "554a4184-61c2-4eb7-a063-d965586a8188",
    "outputId": "d48ff905-e81a-4ed7-ad01-9f73c5ff7880"
   },
   "outputs": [
    {
     "data": {
      "text/plain": [
       "array([[1, 1, 1, 1, 1, 1, 1, 1, 1, 1],\n",
       "       [0, 1, 1, 1, 1, 1, 1, 1, 1, 1],\n",
       "       [0, 0, 1, 1, 1, 1, 1, 1, 1, 1],\n",
       "       [0, 0, 0, 1, 1, 1, 1, 1, 1, 1],\n",
       "       [0, 0, 0, 0, 1, 1, 1, 1, 1, 1],\n",
       "       [0, 0, 0, 0, 0, 1, 1, 1, 1, 1],\n",
       "       [0, 0, 0, 0, 0, 0, 1, 1, 1, 1],\n",
       "       [0, 0, 0, 0, 0, 0, 0, 1, 1, 1],\n",
       "       [0, 0, 0, 0, 0, 0, 0, 0, 1, 1],\n",
       "       [0, 0, 0, 0, 0, 0, 0, 0, 0, 1]], dtype=int32)"
      ]
     },
     "execution_count": 20,
     "metadata": {},
     "output_type": "execute_result"
    }
   ],
   "source": [
    "def causal_attention_mask(batch_size, n_dest, n_src, dtype):\n",
    "    i = tf.range(n_dest)[:, None]\n",
    "    j = tf.range(n_src)\n",
    "    m = i >= j - n_src + n_dest\n",
    "    mask = tf.cast(m, dtype)\n",
    "    mask = tf.reshape(mask, [1, n_dest, n_src])\n",
    "    mult = tf.concat(\n",
    "        [tf.expand_dims(batch_size, -1), tf.constant([1, 1], dtype=tf.int32)], 0\n",
    "    )\n",
    "    return tf.tile(mask, mult)\n",
    "\n",
    "\n",
    "np.transpose(causal_attention_mask(1, 10, 10, dtype=tf.int32)[0])"
   ]
  },
  {
   "cell_type": "markdown",
   "id": "3501dbad-0860-40ad-b7d6-47950e37858f",
   "metadata": {
    "id": "3501dbad-0860-40ad-b7d6-47950e37858f"
   },
   "source": [
    "## 5. Create a Transformer Block layer"
   ]
  },
  {
   "cell_type": "code",
   "execution_count": 21,
   "id": "5285a1cb-fce1-46b1-b088-b596002fa9ae",
   "metadata": {
    "executionInfo": {
     "elapsed": 42,
     "status": "ok",
     "timestamp": 1748896453719,
     "user": {
      "displayName": "Jefferson Barney",
      "userId": "12850085376597622077"
     },
     "user_tz": 300
    },
    "id": "5285a1cb-fce1-46b1-b088-b596002fa9ae"
   },
   "outputs": [],
   "source": [
    "class TransformerBlock(layers.Layer):\n",
    "    def __init__(self, num_heads, key_dim, embed_dim, ff_dim, dropout_rate=0.1):\n",
    "        super(TransformerBlock, self).__init__()\n",
    "        self.num_heads = num_heads\n",
    "        self.key_dim = key_dim\n",
    "        self.embed_dim = embed_dim\n",
    "        self.ff_dim = ff_dim\n",
    "        self.dropout_rate = dropout_rate\n",
    "        self.attn = layers.MultiHeadAttention(\n",
    "            num_heads, key_dim, output_shape=embed_dim\n",
    "        )\n",
    "        self.dropout_1 = layers.Dropout(self.dropout_rate)\n",
    "        self.ln_1 = layers.LayerNormalization(epsilon=1e-6)\n",
    "        self.ffn_1 = layers.Dense(self.ff_dim, activation=\"relu\")\n",
    "        self.ffn_2 = layers.Dense(self.embed_dim)\n",
    "        self.dropout_2 = layers.Dropout(self.dropout_rate)\n",
    "        self.ln_2 = layers.LayerNormalization(epsilon=1e-6)\n",
    "\n",
    "    def call(self, inputs):\n",
    "        input_shape = tf.shape(inputs)\n",
    "        batch_size = input_shape[0]\n",
    "        seq_len = input_shape[1]\n",
    "        causal_mask = causal_attention_mask(\n",
    "            batch_size, seq_len, seq_len, tf.bool\n",
    "        )\n",
    "        attention_output, attention_scores = self.attn(\n",
    "            inputs,\n",
    "            inputs,\n",
    "            attention_mask=causal_mask,\n",
    "            return_attention_scores=True,\n",
    "        )\n",
    "        attention_output = self.dropout_1(attention_output)\n",
    "        out1 = self.ln_1(inputs + attention_output)\n",
    "        ffn_1 = self.ffn_1(out1)\n",
    "        ffn_2 = self.ffn_2(ffn_1)\n",
    "        ffn_output = self.dropout_2(ffn_2)\n",
    "        return (self.ln_2(out1 + ffn_output), attention_scores)\n",
    "\n",
    "    def get_config(self):\n",
    "        config = super().get_config()\n",
    "        config.update(\n",
    "            {\n",
    "                \"key_dim\": self.key_dim,\n",
    "                \"embed_dim\": self.embed_dim,\n",
    "                \"num_heads\": self.num_heads,\n",
    "                \"ff_dim\": self.ff_dim,\n",
    "                \"dropout_rate\": self.dropout_rate,\n",
    "            }\n",
    "        )\n",
    "        return config"
   ]
  },
  {
   "cell_type": "markdown",
   "id": "076a6be0-9796-4974-9bcd-6ebbcfe7514e",
   "metadata": {
    "id": "076a6be0-9796-4974-9bcd-6ebbcfe7514e",
    "tags": []
   },
   "source": [
    "## 6. Create the Token and Position Embedding"
   ]
  },
  {
   "cell_type": "code",
   "execution_count": 22,
   "id": "fdf5cb25-88ae-4026-9e21-c1e6b5094a2c",
   "metadata": {
    "executionInfo": {
     "elapsed": 35,
     "status": "ok",
     "timestamp": 1748896456546,
     "user": {
      "displayName": "Jefferson Barney",
      "userId": "12850085376597622077"
     },
     "user_tz": 300
    },
    "id": "fdf5cb25-88ae-4026-9e21-c1e6b5094a2c"
   },
   "outputs": [],
   "source": [
    "class TokenAndPositionEmbedding(layers.Layer):\n",
    "    def __init__(self, max_len, vocab_size, embed_dim):\n",
    "        super(TokenAndPositionEmbedding, self).__init__()\n",
    "        self.max_len = max_len\n",
    "        self.vocab_size = vocab_size\n",
    "        self.embed_dim = embed_dim\n",
    "        self.token_emb = layers.Embedding(\n",
    "            input_dim=vocab_size, output_dim=embed_dim\n",
    "        )\n",
    "        self.pos_emb = layers.Embedding(input_dim=max_len, output_dim=embed_dim)\n",
    "\n",
    "    def call(self, x):\n",
    "        maxlen = tf.shape(x)[-1]\n",
    "        positions = tf.range(start=0, limit=maxlen, delta=1)\n",
    "        positions = self.pos_emb(positions)\n",
    "        x = self.token_emb(x)\n",
    "        return x + positions\n",
    "\n",
    "    def get_config(self):\n",
    "        config = super().get_config()\n",
    "        config.update(\n",
    "            {\n",
    "                \"max_len\": self.max_len,\n",
    "                \"vocab_size\": self.vocab_size,\n",
    "                \"embed_dim\": self.embed_dim,\n",
    "            }\n",
    "        )\n",
    "        return config"
   ]
  },
  {
   "cell_type": "markdown",
   "id": "aac2e2d4-5980-47e3-b5b0-6c41c0c2d152",
   "metadata": {
    "id": "aac2e2d4-5980-47e3-b5b0-6c41c0c2d152"
   },
   "source": [
    "## 7. Build the Transformer model"
   ]
  },
  {
   "cell_type": "code",
   "execution_count": 23,
   "id": "8c57596e-e17d-4959-b6e8-7581b0bace3a",
   "metadata": {
    "executionInfo": {
     "elapsed": 942,
     "status": "ok",
     "timestamp": 1748896459251,
     "user": {
      "displayName": "Jefferson Barney",
      "userId": "12850085376597622077"
     },
     "user_tz": 300
    },
    "id": "8c57596e-e17d-4959-b6e8-7581b0bace3a"
   },
   "outputs": [],
   "source": [
    "inputs = layers.Input(shape=(None,), dtype=tf.int32)\n",
    "x = TokenAndPositionEmbedding(MAX_LEN, VOCAB_SIZE, EMBEDDING_DIM)(inputs)\n",
    "x, attention_scores = TransformerBlock(\n",
    "    N_HEADS, KEY_DIM, EMBEDDING_DIM, FEED_FORWARD_DIM\n",
    ")(x)\n",
    "outputs = layers.Dense(VOCAB_SIZE, activation=\"softmax\")(x)\n",
    "gpt = models.Model(inputs=inputs, outputs=[outputs, attention_scores])\n",
    "gpt.compile(\"adam\", loss=[losses.SparseCategoricalCrossentropy(), None])"
   ]
  },
  {
   "cell_type": "code",
   "execution_count": 24,
   "id": "1a1c3b0f-3382-444d-bb04-bae143ae5d61",
   "metadata": {
    "colab": {
     "base_uri": "https://localhost:8080/",
     "height": 298
    },
    "executionInfo": {
     "elapsed": 63,
     "status": "ok",
     "timestamp": 1748896460141,
     "user": {
      "displayName": "Jefferson Barney",
      "userId": "12850085376597622077"
     },
     "user_tz": 300
    },
    "id": "1a1c3b0f-3382-444d-bb04-bae143ae5d61",
    "outputId": "8331e12c-da14-4cbe-e5da-d4bfb8330d31"
   },
   "outputs": [
    {
     "name": "stdout",
     "output_type": "stream",
     "text": [
      "Model: \"model\"\n",
      "_________________________________________________________________\n",
      " Layer (type)                Output Shape              Param #   \n",
      "=================================================================\n",
      " input_1 (InputLayer)        [(None, None)]            0         \n",
      "                                                                 \n",
      " token_and_position_embeddi  (None, None, 256)         25620480  \n",
      " ng (TokenAndPositionEmbedd                                      \n",
      " ing)                                                            \n",
      "                                                                 \n",
      " transformer_block (Transfo  ((None, None, 256),       658688    \n",
      " rmerBlock)                   (None, 2, None, None))             \n",
      "                                                                 \n",
      " dense_2 (Dense)             (None, None, 100000)      25700000  \n",
      "                                                                 \n",
      "=================================================================\n",
      "Total params: 51979168 (198.28 MB)\n",
      "Trainable params: 51979168 (198.28 MB)\n",
      "Non-trainable params: 0 (0.00 Byte)\n",
      "_________________________________________________________________\n"
     ]
    }
   ],
   "source": [
    "gpt.summary()"
   ]
  },
  {
   "cell_type": "markdown",
   "id": "35b14665-4359-447b-be58-3fd58ba69084",
   "metadata": {
    "id": "35b14665-4359-447b-be58-3fd58ba69084"
   },
   "source": [
    "## 8. Train the Transformer"
   ]
  },
  {
   "cell_type": "code",
   "execution_count": 25,
   "id": "3ddcff5f-829d-4449-99d2-9a3cb68f7d72",
   "metadata": {
    "executionInfo": {
     "elapsed": 44,
     "status": "ok",
     "timestamp": 1748896462580,
     "user": {
      "displayName": "Jefferson Barney",
      "userId": "12850085376597622077"
     },
     "user_tz": 300
    },
    "id": "3ddcff5f-829d-4449-99d2-9a3cb68f7d72"
   },
   "outputs": [],
   "source": [
    "# Create a TextGenerator checkpoint\n",
    "class TextGenerator(callbacks.Callback):\n",
    "    def __init__(self, index_to_word, top_k=10):\n",
    "        self.index_to_word = index_to_word\n",
    "        self.word_to_index = {\n",
    "            word: index for index, word in enumerate(index_to_word)\n",
    "        }\n",
    "\n",
    "    def sample_from(self, probs, temperature):\n",
    "        probs = probs ** (1 / temperature)\n",
    "        probs = probs / np.sum(probs)\n",
    "        return np.random.choice(len(probs), p=probs), probs\n",
    "\n",
    "    def generate(self, start_prompt, max_tokens, temperature):\n",
    "        start_tokens = [\n",
    "            self.word_to_index.get(x, 1) for x in start_prompt.split()\n",
    "        ]\n",
    "        sample_token = None\n",
    "        info = []\n",
    "        while len(start_tokens) < max_tokens and sample_token != 0:\n",
    "            x = np.array([start_tokens])\n",
    "            y, att = self.model.predict(x, verbose=0)\n",
    "            sample_token, probs = self.sample_from(y[0][-1], temperature)\n",
    "            info.append(\n",
    "                {\n",
    "                    \"prompt\": start_prompt,\n",
    "                    \"word_probs\": probs,\n",
    "                    \"atts\": att[0, :, -1, :],\n",
    "                }\n",
    "            )\n",
    "            start_tokens.append(sample_token)\n",
    "            start_prompt = start_prompt + \" \" + self.index_to_word[sample_token]\n",
    "        print(f\"\\ngenerated text:\\n{start_prompt}\\n\")\n",
    "        return info\n",
    "\n",
    "    def on_epoch_end(self, epoch, logs=None):\n",
    "        self.generate(\"K-Drama title\", max_tokens=80, temperature=1.0)"
   ]
  },
  {
   "cell_type": "code",
   "execution_count": 26,
   "id": "349865fe-ffbe-450e-97be-043ae1740e78",
   "metadata": {
    "executionInfo": {
     "elapsed": 99,
     "status": "ok",
     "timestamp": 1748896466519,
     "user": {
      "displayName": "Jefferson Barney",
      "userId": "12850085376597622077"
     },
     "user_tz": 300
    },
    "id": "349865fe-ffbe-450e-97be-043ae1740e78"
   },
   "outputs": [],
   "source": [
    "# Tokenize starting prompt\n",
    "text_generator = TextGenerator(vocab)"
   ]
  },
  {
   "cell_type": "code",
   "execution_count": 28,
   "id": "461c2b3e-b5ae-4def-8bd9-e7bab8c63d8e",
   "metadata": {
    "colab": {
     "base_uri": "https://localhost:8080/"
    },
    "id": "461c2b3e-b5ae-4def-8bd9-e7bab8c63d8e",
    "outputId": "8b35bef5-4d53-4782-efb5-73e9c9bc77dc",
    "tags": []
   },
   "outputs": [
    {
     "name": "stdout",
     "output_type": "stream",
     "text": [
      "Epoch 1/5\n",
      "332/333 [============================>.] - ETA: 0s - loss: 3.2972 - dense_2_loss: 3.2972\n",
      "generated text:\n",
      "K-Drama title : k - pop me screaming and mister : k - drama review : i watch this show , with a mess , i know that i did a revenge story , i . the words war of why the laughter in spoiling the entire quality of this drama up it off as it has see how each other and kim min ho was . the music was amazing and jin sung kyung po returns after he happened\n",
      "\n",
      "333/333 [==============================] - 9s 27ms/step - loss: 3.2977 - dense_2_loss: 3.2977\n",
      "Epoch 2/5\n",
      "332/333 [============================>.] - ETA: 0s - loss: 3.1066 - dense_2_loss: 3.1066\n",
      "generated text:\n",
      "K-Drama title : k - drama review : left me this week : i was a little heartfelt drama that it was like it came up ending . . it was all kind of the topic realised had something interesting . obsession with cringe , things were honestly , but they had much of craziness that didn ' t seem to be fooled by the ' s not the best one ever i ever seen . i can ' t\n",
      "\n",
      "333/333 [==============================] - 9s 27ms/step - loss: 3.1068 - dense_2_loss: 3.1068\n",
      "Epoch 3/5\n",
      "332/333 [============================>.] - ETA: 0s - loss: 2.9363 - dense_2_loss: 2.9363\n",
      "generated text:\n",
      "K-Drama title : k - drama review : one the most light and : unbelievably cringey blends comedy . a melodrama bait and took on a second clip about this drama , it was perfectly makjang . the male even so i ' d pin and i thought it was going to be sixteen - ep 8 of those dramas it now that never even instead of dropping - 5 times , and only fast - paced drama reached some\n",
      "\n",
      "333/333 [==============================] - 9s 27ms/step - loss: 2.9361 - dense_2_loss: 2.9361\n",
      "Epoch 4/5\n",
      "332/333 [============================>.] - ETA: 0s - loss: 2.7753 - dense_2_loss: 2.7753\n",
      "generated text:\n",
      "K-Drama title : k - one more happy ending : k - drama review : not a romance drama i expected but i am not a huge fan of age gap far . this is a and sweet drama that i was ripley ' s syndrome ! i have combo in magic / characterization and so much consideration that centred . of romance in dramas . i looked forward to this review . however , it didn ' t have\n",
      "\n",
      "333/333 [==============================] - 9s 27ms/step - loss: 2.7757 - dense_2_loss: 2.7757\n",
      "Epoch 5/5\n",
      "332/333 [============================>.] - ETA: 0s - loss: 2.6309 - dense_2_loss: 2.6309\n",
      "generated text:\n",
      "K-Drama title : k - drama review : if you are you are you life as dying short ? ! this goes less from the interestingly , we can ' t do to be so biased , which is bad . to kill me , or maybe supposed to do anything less than a mysterious work ? . nonetheless the obscene agony that do a good falling in lee jong suk ' s doing . jo bo can be his\n",
      "\n",
      "333/333 [==============================] - 9s 27ms/step - loss: 2.6313 - dense_2_loss: 2.6313\n"
     ]
    },
    {
     "data": {
      "text/plain": [
       "<keras.src.callbacks.History at 0x14f3566213c0>"
      ]
     },
     "execution_count": 28,
     "metadata": {},
     "output_type": "execute_result"
    }
   ],
   "source": [
    "gpt.fit(\n",
    "    train_ds,\n",
    "    epochs=EPOCHS,\n",
    "    callbacks=[text_generator],\n",
    ")"
   ]
  },
  {
   "cell_type": "markdown",
   "id": "d64e02d2-84dc-40c8-8446-40c09adf1e20",
   "metadata": {
    "id": "d64e02d2-84dc-40c8-8446-40c09adf1e20"
   },
   "source": [
    "# 9. Generate text using the Transformer"
   ]
  },
  {
   "cell_type": "code",
   "execution_count": 29,
   "id": "4ad23adb-3ec9-4e9a-9a59-b9f9bafca649",
   "metadata": {
    "id": "4ad23adb-3ec9-4e9a-9a59-b9f9bafca649"
   },
   "outputs": [],
   "source": [
    "def print_probs(info, vocab, top_k=5):\n",
    "    for i in info:\n",
    "        highlighted_text = []\n",
    "        for word, att_score in zip(\n",
    "            i[\"prompt\"].split(), np.mean(i[\"atts\"], axis=0)\n",
    "        ):\n",
    "            highlighted_text.append(\n",
    "                '<span style=\"background-color:rgba(135,206,250,'\n",
    "                + str(att_score / max(np.mean(i[\"atts\"], axis=0)))\n",
    "                + ');\">'\n",
    "                + word\n",
    "                + \"</span>\"\n",
    "            )\n",
    "        highlighted_text = \" \".join(highlighted_text)\n",
    "        display(HTML(highlighted_text))\n",
    "\n",
    "        word_probs = i[\"word_probs\"]\n",
    "        p_sorted = np.sort(word_probs)[::-1][:top_k]\n",
    "        i_sorted = np.argsort(word_probs)[::-1][:top_k]\n",
    "        for p, i in zip(p_sorted, i_sorted):\n",
    "            print(f\"{vocab[i]}:   \\t{np.round(100*p,2)}%\")\n",
    "        print(\"--------\\n\")"
   ]
  },
  {
   "cell_type": "code",
   "execution_count": 30,
   "id": "3cf25578-d47c-4b26-8252-fcdf2316a4ac",
   "metadata": {
    "id": "3cf25578-d47c-4b26-8252-fcdf2316a4ac"
   },
   "outputs": [
    {
     "name": "stdout",
     "output_type": "stream",
     "text": [
      "\n",
      "generated text:\n",
      "K-Drama title : Unlock My Boss : K-Drama review :  ruin a thousand enough time : k - drama review : the concept is cute and predictable . after few episodes i think the show is simple and i can confirm that it had good concept without taking the whole vibe and why you are not regret watching it . this is a pretty good feel the sense . if your thing the performances is that of mmh is one\n",
      "\n"
     ]
    }
   ],
   "source": [
    "info = text_generator.generate(\n",
    "    \"K-Drama title : Unlock My Boss : K-Drama review : \", max_tokens=80, temperature=1.0\n",
    ")"
   ]
  },
  {
   "cell_type": "code",
   "execution_count": 31,
   "id": "4ae2da8e-9b7c-4b71-b37b-021115b3d7ea",
   "metadata": {
    "id": "4ae2da8e-9b7c-4b71-b37b-021115b3d7ea"
   },
   "outputs": [
    {
     "name": "stdout",
     "output_type": "stream",
     "text": [
      "\n",
      "generated text:\n",
      "K-Drama title : Blueming : K-Drama review :  the paradise in a drama review : a lot of people who are looking for a very good drama . i was looking forward to this drama . i was hooked . i initially thought i was a huge fan of seo yeon and ji hoon and the characters were amazing . i was looking forward to this drama . i loved how they were in high school and the cast was\n",
      "\n"
     ]
    }
   ],
   "source": [
    "info = text_generator.generate(\n",
    "    \"K-Drama title : Blueming : K-Drama review : \", max_tokens=80, temperature=0.5\n",
    ")"
   ]
  },
  {
   "cell_type": "code",
   "execution_count": 32,
   "id": "5cae6d5d-263d-4455-b96c-f315cbe284ee",
   "metadata": {
    "id": "5cae6d5d-263d-4455-b96c-f315cbe284ee"
   },
   "outputs": [
    {
     "name": "stdout",
     "output_type": "stream",
     "text": [
      "\n",
      "generated text:\n",
      "K-Drama title : Star Struck : K-Drama review :  paradise in a drama review : not good drama . . . . . . . . . . . . . . . . . . . . . . . . . . . . . . . . . . . . . . . . . . . . . . . . . . . . . . . . . . calmly one . .\n",
      "\n"
     ]
    },
    {
     "data": {
      "text/html": [
       "<span style=\"background-color:rgba(135,206,250,0.58228797);\">K-Drama</span> <span style=\"background-color:rgba(135,206,250,0.6958219);\">title</span> <span style=\"background-color:rgba(135,206,250,0.22203052);\">:</span> <span style=\"background-color:rgba(135,206,250,0.4166315);\">Star</span> <span style=\"background-color:rgba(135,206,250,0.6983597);\">Struck</span> <span style=\"background-color:rgba(135,206,250,0.5506975);\">:</span> <span style=\"background-color:rgba(135,206,250,1.0);\">K-Drama</span> <span style=\"background-color:rgba(135,206,250,0.74953526);\">review</span> <span style=\"background-color:rgba(135,206,250,0.313357);\">:</span>"
      ],
      "text/plain": [
       "<IPython.core.display.HTML object>"
      ]
     },
     "metadata": {},
     "output_type": "display_data"
    },
    {
     "name": "stdout",
     "output_type": "stream",
     "text": [
      "k:   \t84.27%\n",
      "paradise:   \t4.19%\n",
      "nassna:   \t3.65%\n",
      "beneath:   \t2.75%\n",
      "the:   \t1.48%\n",
      "--------\n",
      "\n"
     ]
    },
    {
     "data": {
      "text/html": [
       "<span style=\"background-color:rgba(135,206,250,0.46126038);\">K-Drama</span> <span style=\"background-color:rgba(135,206,250,0.97179717);\">title</span> <span style=\"background-color:rgba(135,206,250,0.50419354);\">:</span> <span style=\"background-color:rgba(135,206,250,0.36591548);\">Star</span> <span style=\"background-color:rgba(135,206,250,0.28208178);\">Struck</span> <span style=\"background-color:rgba(135,206,250,0.86625296);\">:</span> <span style=\"background-color:rgba(135,206,250,0.4542127);\">K-Drama</span> <span style=\"background-color:rgba(135,206,250,1.0);\">review</span> <span style=\"background-color:rgba(135,206,250,0.5276708);\">:</span> <span style=\"background-color:rgba(135,206,250,0.46348763);\">paradise</span>"
      ],
      "text/plain": [
       "<IPython.core.display.HTML object>"
      ]
     },
     "metadata": {},
     "output_type": "display_data"
    },
    {
     "name": "stdout",
     "output_type": "stream",
     "text": [
      "in:   \t51.5%\n",
      "inni:   \t21.1%\n",
      "-:   \t3.82%\n",
      "looking:   \t3.74%\n",
      "::   \t2.45%\n",
      "--------\n",
      "\n"
     ]
    },
    {
     "data": {
      "text/html": [
       "<span style=\"background-color:rgba(135,206,250,0.5241204);\">K-Drama</span> <span style=\"background-color:rgba(135,206,250,0.35189843);\">title</span> <span style=\"background-color:rgba(135,206,250,0.3193335);\">:</span> <span style=\"background-color:rgba(135,206,250,0.5082544);\">Star</span> <span style=\"background-color:rgba(135,206,250,1.0);\">Struck</span> <span style=\"background-color:rgba(135,206,250,0.52234185);\">:</span> <span style=\"background-color:rgba(135,206,250,0.86352843);\">K-Drama</span> <span style=\"background-color:rgba(135,206,250,0.38603017);\">review</span> <span style=\"background-color:rgba(135,206,250,0.36941898);\">:</span> <span style=\"background-color:rgba(135,206,250,0.5242205);\">paradise</span> <span style=\"background-color:rgba(135,206,250,0.2875718);\">in</span>"
      ],
      "text/plain": [
       "<IPython.core.display.HTML object>"
      ]
     },
     "metadata": {},
     "output_type": "display_data"
    },
    {
     "name": "stdout",
     "output_type": "stream",
     "text": [
      "a:   \t70.68%\n",
      "the:   \t10.54%\n",
      "time:   \t9.91%\n",
      "love:   \t6.97%\n",
      "-:   \t1.02%\n",
      "--------\n",
      "\n"
     ]
    },
    {
     "data": {
      "text/html": [
       "<span style=\"background-color:rgba(135,206,250,0.6063242);\">K-Drama</span> <span style=\"background-color:rgba(135,206,250,0.336096);\">title</span> <span style=\"background-color:rgba(135,206,250,0.16828609);\">:</span> <span style=\"background-color:rgba(135,206,250,0.82445896);\">Star</span> <span style=\"background-color:rgba(135,206,250,1.0);\">Struck</span> <span style=\"background-color:rgba(135,206,250,0.25632545);\">:</span> <span style=\"background-color:rgba(135,206,250,0.5040813);\">K-Drama</span> <span style=\"background-color:rgba(135,206,250,0.2906297);\">review</span> <span style=\"background-color:rgba(135,206,250,0.16635948);\">:</span> <span style=\"background-color:rgba(135,206,250,0.3335215);\">paradise</span> <span style=\"background-color:rgba(135,206,250,0.42613834);\">in</span> <span style=\"background-color:rgba(135,206,250,0.20555578);\">a</span>"
      ],
      "text/plain": [
       "<IPython.core.display.HTML object>"
      ]
     },
     "metadata": {},
     "output_type": "display_data"
    },
    {
     "name": "stdout",
     "output_type": "stream",
     "text": [
      "drama:   \t58.93%\n",
      "mere:   \t15.16%\n",
      "terminally:   \t5.27%\n",
      "thousand:   \t4.49%\n",
      "::   \t4.36%\n",
      "--------\n",
      "\n"
     ]
    },
    {
     "data": {
      "text/html": [
       "<span style=\"background-color:rgba(135,206,250,0.49661493);\">K-Drama</span> <span style=\"background-color:rgba(135,206,250,0.26089582);\">title</span> <span style=\"background-color:rgba(135,206,250,0.14081298);\">:</span> <span style=\"background-color:rgba(135,206,250,1.0);\">Star</span> <span style=\"background-color:rgba(135,206,250,0.4155065);\">Struck</span> <span style=\"background-color:rgba(135,206,250,0.06433479);\">:</span> <span style=\"background-color:rgba(135,206,250,0.11197923);\">K-Drama</span> <span style=\"background-color:rgba(135,206,250,0.2161861);\">review</span> <span style=\"background-color:rgba(135,206,250,0.07685631);\">:</span> <span style=\"background-color:rgba(135,206,250,0.18017371);\">paradise</span> <span style=\"background-color:rgba(135,206,250,0.4422912);\">in</span> <span style=\"background-color:rgba(135,206,250,0.37723488);\">a</span> <span style=\"background-color:rgba(135,206,250,0.19233231);\">drama</span>"
      ],
      "text/plain": [
       "<IPython.core.display.HTML object>"
      ]
     },
     "metadata": {},
     "output_type": "display_data"
    },
    {
     "name": "stdout",
     "output_type": "stream",
     "text": [
      "review:   \t99.99%\n",
      "::   \t0.01%\n",
      "serie:   \t0.0%\n",
      "slump:   \t0.0%\n",
      "hole:   \t0.0%\n",
      "--------\n",
      "\n"
     ]
    },
    {
     "data": {
      "text/html": [
       "<span style=\"background-color:rgba(135,206,250,0.40664688);\">K-Drama</span> <span style=\"background-color:rgba(135,206,250,0.23861101);\">title</span> <span style=\"background-color:rgba(135,206,250,0.18147054);\">:</span> <span style=\"background-color:rgba(135,206,250,1.0);\">Star</span> <span style=\"background-color:rgba(135,206,250,0.38379076);\">Struck</span> <span style=\"background-color:rgba(135,206,250,0.087550685);\">:</span> <span style=\"background-color:rgba(135,206,250,0.12002859);\">K-Drama</span> <span style=\"background-color:rgba(135,206,250,0.1991121);\">review</span> <span style=\"background-color:rgba(135,206,250,0.123567484);\">:</span> <span style=\"background-color:rgba(135,206,250,0.16915233);\">paradise</span> <span style=\"background-color:rgba(135,206,250,0.50081736);\">in</span> <span style=\"background-color:rgba(135,206,250,0.3961167);\">a</span> <span style=\"background-color:rgba(135,206,250,0.2595227);\">drama</span> <span style=\"background-color:rgba(135,206,250,0.34000644);\">review</span>"
      ],
      "text/plain": [
       "<IPython.core.display.HTML object>"
      ]
     },
     "metadata": {},
     "output_type": "display_data"
    },
    {
     "name": "stdout",
     "output_type": "stream",
     "text": [
      "::   \t100.0%\n",
      "helpful:   \t0.0%\n",
      "season:   \t0.0%\n",
      "day:   \t0.0%\n",
      "life:   \t0.0%\n",
      "--------\n",
      "\n"
     ]
    },
    {
     "data": {
      "text/html": [
       "<span style=\"background-color:rgba(135,206,250,0.6982894);\">K-Drama</span> <span style=\"background-color:rgba(135,206,250,0.44892293);\">title</span> <span style=\"background-color:rgba(135,206,250,0.1590395);\">:</span> <span style=\"background-color:rgba(135,206,250,0.6643024);\">Star</span> <span style=\"background-color:rgba(135,206,250,1.0);\">Struck</span> <span style=\"background-color:rgba(135,206,250,0.22002928);\">:</span> <span style=\"background-color:rgba(135,206,250,0.5151386);\">K-Drama</span> <span style=\"background-color:rgba(135,206,250,0.38994);\">review</span> <span style=\"background-color:rgba(135,206,250,0.15558887);\">:</span> <span style=\"background-color:rgba(135,206,250,0.38831207);\">paradise</span> <span style=\"background-color:rgba(135,206,250,0.43054885);\">in</span> <span style=\"background-color:rgba(135,206,250,0.31710234);\">a</span> <span style=\"background-color:rgba(135,206,250,0.43818295);\">drama</span> <span style=\"background-color:rgba(135,206,250,0.6539968);\">review</span> <span style=\"background-color:rgba(135,206,250,0.26675856);\">:</span>"
      ],
      "text/plain": [
       "<IPython.core.display.HTML object>"
      ]
     },
     "metadata": {},
     "output_type": "display_data"
    },
    {
     "name": "stdout",
     "output_type": "stream",
     "text": [
      "i:   \t22.35%\n",
      "a:   \t22.11%\n",
      "sabe:   \t16.7%\n",
      "\":   \t8.75%\n",
      "great:   \t6.07%\n",
      "--------\n",
      "\n"
     ]
    },
    {
     "data": {
      "text/html": [
       "<span style=\"background-color:rgba(135,206,250,0.4169969);\">K-Drama</span> <span style=\"background-color:rgba(135,206,250,0.12905574);\">title</span> <span style=\"background-color:rgba(135,206,250,0.07575595);\">:</span> <span style=\"background-color:rgba(135,206,250,1.0);\">Star</span> <span style=\"background-color:rgba(135,206,250,0.5276228);\">Struck</span> <span style=\"background-color:rgba(135,206,250,0.071748056);\">:</span> <span style=\"background-color:rgba(135,206,250,0.19366114);\">K-Drama</span> <span style=\"background-color:rgba(135,206,250,0.09660262);\">review</span> <span style=\"background-color:rgba(135,206,250,0.061597597);\">:</span> <span style=\"background-color:rgba(135,206,250,0.18286143);\">paradise</span> <span style=\"background-color:rgba(135,206,250,0.20492987);\">in</span> <span style=\"background-color:rgba(135,206,250,0.17520885);\">a</span> <span style=\"background-color:rgba(135,206,250,0.17963861);\">drama</span> <span style=\"background-color:rgba(135,206,250,0.22598085);\">review</span> <span style=\"background-color:rgba(135,206,250,0.1547736);\">:</span> <span style=\"background-color:rgba(135,206,250,0.34748706);\">not</span>"
      ],
      "text/plain": [
       "<IPython.core.display.HTML object>"
      ]
     },
     "metadata": {},
     "output_type": "display_data"
    },
    {
     "name": "stdout",
     "output_type": "stream",
     "text": [
      "much:   \t66.87%\n",
      "great:   \t9.17%\n",
      "good:   \t6.25%\n",
      "a:   \t5.06%\n",
      "eng:   \t4.2%\n",
      "--------\n",
      "\n"
     ]
    },
    {
     "data": {
      "text/html": [
       "<span style=\"background-color:rgba(135,206,250,0.3973912);\">K-Drama</span> <span style=\"background-color:rgba(135,206,250,0.14825141);\">title</span> <span style=\"background-color:rgba(135,206,250,0.095580965);\">:</span> <span style=\"background-color:rgba(135,206,250,1.0);\">Star</span> <span style=\"background-color:rgba(135,206,250,0.5835621);\">Struck</span> <span style=\"background-color:rgba(135,206,250,0.08493235);\">:</span> <span style=\"background-color:rgba(135,206,250,0.2671611);\">K-Drama</span> <span style=\"background-color:rgba(135,206,250,0.11172578);\">review</span> <span style=\"background-color:rgba(135,206,250,0.07797154);\">:</span> <span style=\"background-color:rgba(135,206,250,0.24415582);\">paradise</span> <span style=\"background-color:rgba(135,206,250,0.25406265);\">in</span> <span style=\"background-color:rgba(135,206,250,0.25066996);\">a</span> <span style=\"background-color:rgba(135,206,250,0.30128047);\">drama</span> <span style=\"background-color:rgba(135,206,250,0.2893806);\">review</span> <span style=\"background-color:rgba(135,206,250,0.1944426);\">:</span> <span style=\"background-color:rgba(135,206,250,0.4988061);\">not</span> <span style=\"background-color:rgba(135,206,250,0.32266742);\">good</span>"
      ],
      "text/plain": [
       "<IPython.core.display.HTML object>"
      ]
     },
     "metadata": {},
     "output_type": "display_data"
    },
    {
     "name": "stdout",
     "output_type": "stream",
     "text": [
      "measure:   \t16.05%\n",
      "drama:   \t13.48%\n",
      "looking:   \t11.96%\n",
      "series:   \t8.06%\n",
      ".:   \t7.08%\n",
      "--------\n",
      "\n"
     ]
    },
    {
     "data": {
      "text/html": [
       "<span style=\"background-color:rgba(135,206,250,0.44357207);\">K-Drama</span> <span style=\"background-color:rgba(135,206,250,0.18482745);\">title</span> <span style=\"background-color:rgba(135,206,250,0.09349183);\">:</span> <span style=\"background-color:rgba(135,206,250,1.0);\">Star</span> <span style=\"background-color:rgba(135,206,250,0.4396162);\">Struck</span> <span style=\"background-color:rgba(135,206,250,0.042694602);\">:</span> <span style=\"background-color:rgba(135,206,250,0.11378958);\">K-Drama</span> <span style=\"background-color:rgba(135,206,250,0.14012653);\">review</span> <span style=\"background-color:rgba(135,206,250,0.05434883);\">:</span> <span style=\"background-color:rgba(135,206,250,0.17517981);\">paradise</span> <span style=\"background-color:rgba(135,206,250,0.30023497);\">in</span> <span style=\"background-color:rgba(135,206,250,0.28354502);\">a</span> <span style=\"background-color:rgba(135,206,250,0.1501222);\">drama</span> <span style=\"background-color:rgba(135,206,250,0.2746671);\">review</span> <span style=\"background-color:rgba(135,206,250,0.16223952);\">:</span> <span style=\"background-color:rgba(135,206,250,0.5107609);\">not</span> <span style=\"background-color:rgba(135,206,250,0.5537293);\">good</span> <span style=\"background-color:rgba(135,206,250,0.3000414);\">drama</span>"
      ],
      "text/plain": [
       "<IPython.core.display.HTML object>"
      ]
     },
     "metadata": {},
     "output_type": "display_data"
    },
    {
     "name": "stdout",
     "output_type": "stream",
     "text": [
      ".:   \t65.04%\n",
      ",:   \t14.26%\n",
      "but:   \t10.2%\n",
      "i:   \t4.89%\n",
      "!:   \t3.07%\n",
      "--------\n",
      "\n"
     ]
    },
    {
     "data": {
      "text/html": [
       "<span style=\"background-color:rgba(135,206,250,0.6290424);\">K-Drama</span> <span style=\"background-color:rgba(135,206,250,0.40823612);\">title</span> <span style=\"background-color:rgba(135,206,250,0.22926246);\">:</span> <span style=\"background-color:rgba(135,206,250,0.64978415);\">Star</span> <span style=\"background-color:rgba(135,206,250,1.0);\">Struck</span> <span style=\"background-color:rgba(135,206,250,0.2128386);\">:</span> <span style=\"background-color:rgba(135,206,250,0.5593534);\">K-Drama</span> <span style=\"background-color:rgba(135,206,250,0.2787537);\">review</span> <span style=\"background-color:rgba(135,206,250,0.21923766);\">:</span> <span style=\"background-color:rgba(135,206,250,0.6606077);\">paradise</span> <span style=\"background-color:rgba(135,206,250,0.29058632);\">in</span> <span style=\"background-color:rgba(135,206,250,0.35473406);\">a</span> <span style=\"background-color:rgba(135,206,250,0.50397897);\">drama</span> <span style=\"background-color:rgba(135,206,250,0.49858177);\">review</span> <span style=\"background-color:rgba(135,206,250,0.34680766);\">:</span> <span style=\"background-color:rgba(135,206,250,0.6001631);\">not</span> <span style=\"background-color:rgba(135,206,250,0.64556634);\">good</span> <span style=\"background-color:rgba(135,206,250,0.71099806);\">drama</span> <span style=\"background-color:rgba(135,206,250,0.5051074);\">.</span>"
      ],
      "text/plain": [
       "<IPython.core.display.HTML object>"
      ]
     },
     "metadata": {},
     "output_type": "display_data"
    },
    {
     "name": "stdout",
     "output_type": "stream",
     "text": [
      ".:   \t98.21%\n",
      "i:   \t0.81%\n",
      "it:   \t0.5%\n",
      "the:   \t0.15%\n",
      "but:   \t0.12%\n",
      "--------\n",
      "\n"
     ]
    },
    {
     "data": {
      "text/html": [
       "<span style=\"background-color:rgba(135,206,250,0.663048);\">K-Drama</span> <span style=\"background-color:rgba(135,206,250,0.40005082);\">title</span> <span style=\"background-color:rgba(135,206,250,0.22346811);\">:</span> <span style=\"background-color:rgba(135,206,250,0.69447446);\">Star</span> <span style=\"background-color:rgba(135,206,250,1.0);\">Struck</span> <span style=\"background-color:rgba(135,206,250,0.20563354);\">:</span> <span style=\"background-color:rgba(135,206,250,0.5435875);\">K-Drama</span> <span style=\"background-color:rgba(135,206,250,0.2903733);\">review</span> <span style=\"background-color:rgba(135,206,250,0.21822749);\">:</span> <span style=\"background-color:rgba(135,206,250,0.6418248);\">paradise</span> <span style=\"background-color:rgba(135,206,250,0.3106254);\">in</span> <span style=\"background-color:rgba(135,206,250,0.37261987);\">a</span> <span style=\"background-color:rgba(135,206,250,0.52879584);\">drama</span> <span style=\"background-color:rgba(135,206,250,0.53862375);\">review</span> <span style=\"background-color:rgba(135,206,250,0.35025686);\">:</span> <span style=\"background-color:rgba(135,206,250,0.62773395);\">not</span> <span style=\"background-color:rgba(135,206,250,0.6014963);\">good</span> <span style=\"background-color:rgba(135,206,250,0.75478935);\">drama</span> <span style=\"background-color:rgba(135,206,250,0.53531444);\">.</span> <span style=\"background-color:rgba(135,206,250,0.5733263);\">.</span>"
      ],
      "text/plain": [
       "<IPython.core.display.HTML object>"
      ]
     },
     "metadata": {},
     "output_type": "display_data"
    },
    {
     "name": "stdout",
     "output_type": "stream",
     "text": [
      ".:   \t99.0%\n",
      "it:   \t0.29%\n",
      "i:   \t0.25%\n",
      "the:   \t0.23%\n",
      "but:   \t0.1%\n",
      "--------\n",
      "\n"
     ]
    },
    {
     "data": {
      "text/html": [
       "<span style=\"background-color:rgba(135,206,250,0.64574015);\">K-Drama</span> <span style=\"background-color:rgba(135,206,250,0.41957626);\">title</span> <span style=\"background-color:rgba(135,206,250,0.23584828);\">:</span> <span style=\"background-color:rgba(135,206,250,0.6791835);\">Star</span> <span style=\"background-color:rgba(135,206,250,1.0);\">Struck</span> <span style=\"background-color:rgba(135,206,250,0.225235);\">:</span> <span style=\"background-color:rgba(135,206,250,0.5964134);\">K-Drama</span> <span style=\"background-color:rgba(135,206,250,0.30998173);\">review</span> <span style=\"background-color:rgba(135,206,250,0.2386083);\">:</span> <span style=\"background-color:rgba(135,206,250,0.7220568);\">paradise</span> <span style=\"background-color:rgba(135,206,250,0.3016878);\">in</span> <span style=\"background-color:rgba(135,206,250,0.35992607);\">a</span> <span style=\"background-color:rgba(135,206,250,0.52082044);\">drama</span> <span style=\"background-color:rgba(135,206,250,0.53181654);\">review</span> <span style=\"background-color:rgba(135,206,250,0.3522727);\">:</span> <span style=\"background-color:rgba(135,206,250,0.5676819);\">not</span> <span style=\"background-color:rgba(135,206,250,0.5937291);\">good</span> <span style=\"background-color:rgba(135,206,250,0.69943357);\">drama</span> <span style=\"background-color:rgba(135,206,250,0.5231716);\">.</span> <span style=\"background-color:rgba(135,206,250,0.57593435);\">.</span> <span style=\"background-color:rgba(135,206,250,0.58749026);\">.</span>"
      ],
      "text/plain": [
       "<IPython.core.display.HTML object>"
      ]
     },
     "metadata": {},
     "output_type": "display_data"
    },
    {
     "name": "stdout",
     "output_type": "stream",
     "text": [
      ".:   \t99.88%\n",
      "i:   \t0.03%\n",
      "but:   \t0.02%\n",
      "the:   \t0.02%\n",
      "first:   \t0.01%\n",
      "--------\n",
      "\n"
     ]
    },
    {
     "data": {
      "text/html": [
       "<span style=\"background-color:rgba(135,206,250,0.6141796);\">K-Drama</span> <span style=\"background-color:rgba(135,206,250,0.34201586);\">title</span> <span style=\"background-color:rgba(135,206,250,0.22333832);\">:</span> <span style=\"background-color:rgba(135,206,250,0.64290166);\">Star</span> <span style=\"background-color:rgba(135,206,250,1.0);\">Struck</span> <span style=\"background-color:rgba(135,206,250,0.19221808);\">:</span> <span style=\"background-color:rgba(135,206,250,0.540203);\">K-Drama</span> <span style=\"background-color:rgba(135,206,250,0.24215087);\">review</span> <span style=\"background-color:rgba(135,206,250,0.21744472);\">:</span> <span style=\"background-color:rgba(135,206,250,0.59602445);\">paradise</span> <span style=\"background-color:rgba(135,206,250,0.2571372);\">in</span> <span style=\"background-color:rgba(135,206,250,0.34700355);\">a</span> <span style=\"background-color:rgba(135,206,250,0.48513287);\">drama</span> <span style=\"background-color:rgba(135,206,250,0.43032604);\">review</span> <span style=\"background-color:rgba(135,206,250,0.33831424);\">:</span> <span style=\"background-color:rgba(135,206,250,0.5362685);\">not</span> <span style=\"background-color:rgba(135,206,250,0.53349626);\">good</span> <span style=\"background-color:rgba(135,206,250,0.6365408);\">drama</span> <span style=\"background-color:rgba(135,206,250,0.51232785);\">.</span> <span style=\"background-color:rgba(135,206,250,0.5665886);\">.</span> <span style=\"background-color:rgba(135,206,250,0.60442185);\">.</span> <span style=\"background-color:rgba(135,206,250,0.6228633);\">.</span>"
      ],
      "text/plain": [
       "<IPython.core.display.HTML object>"
      ]
     },
     "metadata": {},
     "output_type": "display_data"
    },
    {
     "name": "stdout",
     "output_type": "stream",
     "text": [
      ".:   \t99.89%\n",
      "i:   \t0.02%\n",
      "but:   \t0.02%\n",
      "the:   \t0.01%\n",
      "it:   \t0.01%\n",
      "--------\n",
      "\n"
     ]
    },
    {
     "data": {
      "text/html": [
       "<span style=\"background-color:rgba(135,206,250,0.65726614);\">K-Drama</span> <span style=\"background-color:rgba(135,206,250,0.39761725);\">title</span> <span style=\"background-color:rgba(135,206,250,0.21593484);\">:</span> <span style=\"background-color:rgba(135,206,250,0.6770958);\">Star</span> <span style=\"background-color:rgba(135,206,250,1.0);\">Struck</span> <span style=\"background-color:rgba(135,206,250,0.19778228);\">:</span> <span style=\"background-color:rgba(135,206,250,0.58129257);\">K-Drama</span> <span style=\"background-color:rgba(135,206,250,0.28573117);\">review</span> <span style=\"background-color:rgba(135,206,250,0.21986534);\">:</span> <span style=\"background-color:rgba(135,206,250,0.7645247);\">paradise</span> <span style=\"background-color:rgba(135,206,250,0.27594846);\">in</span> <span style=\"background-color:rgba(135,206,250,0.3515004);\">a</span> <span style=\"background-color:rgba(135,206,250,0.49900103);\">drama</span> <span style=\"background-color:rgba(135,206,250,0.49962392);\">review</span> <span style=\"background-color:rgba(135,206,250,0.33230507);\">:</span> <span style=\"background-color:rgba(135,206,250,0.52543336);\">not</span> <span style=\"background-color:rgba(135,206,250,0.5341082);\">good</span> <span style=\"background-color:rgba(135,206,250,0.6670159);\">drama</span> <span style=\"background-color:rgba(135,206,250,0.48151764);\">.</span> <span style=\"background-color:rgba(135,206,250,0.531051);\">.</span> <span style=\"background-color:rgba(135,206,250,0.5431122);\">.</span> <span style=\"background-color:rgba(135,206,250,0.59402895);\">.</span> <span style=\"background-color:rgba(135,206,250,0.62721777);\">.</span>"
      ],
      "text/plain": [
       "<IPython.core.display.HTML object>"
      ]
     },
     "metadata": {},
     "output_type": "display_data"
    },
    {
     "name": "stdout",
     "output_type": "stream",
     "text": [
      ".:   \t99.91%\n",
      "i:   \t0.02%\n",
      "but:   \t0.02%\n",
      "it:   \t0.01%\n",
      "the:   \t0.01%\n",
      "--------\n",
      "\n"
     ]
    },
    {
     "data": {
      "text/html": [
       "<span style=\"background-color:rgba(135,206,250,0.6494711);\">K-Drama</span> <span style=\"background-color:rgba(135,206,250,0.42129406);\">title</span> <span style=\"background-color:rgba(135,206,250,0.21751142);\">:</span> <span style=\"background-color:rgba(135,206,250,0.70048845);\">Star</span> <span style=\"background-color:rgba(135,206,250,1.0);\">Struck</span> <span style=\"background-color:rgba(135,206,250,0.18900958);\">:</span> <span style=\"background-color:rgba(135,206,250,0.58421034);\">K-Drama</span> <span style=\"background-color:rgba(135,206,250,0.3133696);\">review</span> <span style=\"background-color:rgba(135,206,250,0.22523244);\">:</span> <span style=\"background-color:rgba(135,206,250,0.7857934);\">paradise</span> <span style=\"background-color:rgba(135,206,250,0.28104946);\">in</span> <span style=\"background-color:rgba(135,206,250,0.37378812);\">a</span> <span style=\"background-color:rgba(135,206,250,0.524492);\">drama</span> <span style=\"background-color:rgba(135,206,250,0.5327711);\">review</span> <span style=\"background-color:rgba(135,206,250,0.3240504);\">:</span> <span style=\"background-color:rgba(135,206,250,0.50323164);\">not</span> <span style=\"background-color:rgba(135,206,250,0.50762475);\">good</span> <span style=\"background-color:rgba(135,206,250,0.65219384);\">drama</span> <span style=\"background-color:rgba(135,206,250,0.4905196);\">.</span> <span style=\"background-color:rgba(135,206,250,0.54322803);\">.</span> <span style=\"background-color:rgba(135,206,250,0.55793375);\">.</span> <span style=\"background-color:rgba(135,206,250,0.5904994);\">.</span> <span style=\"background-color:rgba(135,206,250,0.6527247);\">.</span> <span style=\"background-color:rgba(135,206,250,0.76857543);\">.</span>"
      ],
      "text/plain": [
       "<IPython.core.display.HTML object>"
      ]
     },
     "metadata": {},
     "output_type": "display_data"
    },
    {
     "name": "stdout",
     "output_type": "stream",
     "text": [
      ".:   \t99.89%\n",
      "i:   \t0.03%\n",
      "but:   \t0.02%\n",
      "it:   \t0.01%\n",
      "\":   \t0.01%\n",
      "--------\n",
      "\n"
     ]
    },
    {
     "data": {
      "text/html": [
       "<span style=\"background-color:rgba(135,206,250,0.67762136);\">K-Drama</span> <span style=\"background-color:rgba(135,206,250,0.44426534);\">title</span> <span style=\"background-color:rgba(135,206,250,0.25805748);\">:</span> <span style=\"background-color:rgba(135,206,250,0.7318735);\">Star</span> <span style=\"background-color:rgba(135,206,250,1.0);\">Struck</span> <span style=\"background-color:rgba(135,206,250,0.23080057);\">:</span> <span style=\"background-color:rgba(135,206,250,0.644197);\">K-Drama</span> <span style=\"background-color:rgba(135,206,250,0.34042424);\">review</span> <span style=\"background-color:rgba(135,206,250,0.27694222);\">:</span> <span style=\"background-color:rgba(135,206,250,0.8946266);\">paradise</span> <span style=\"background-color:rgba(135,206,250,0.30600283);\">in</span> <span style=\"background-color:rgba(135,206,250,0.42471892);\">a</span> <span style=\"background-color:rgba(135,206,250,0.56461185);\">drama</span> <span style=\"background-color:rgba(135,206,250,0.5531736);\">review</span> <span style=\"background-color:rgba(135,206,250,0.36987162);\">:</span> <span style=\"background-color:rgba(135,206,250,0.53195393);\">not</span> <span style=\"background-color:rgba(135,206,250,0.51787436);\">good</span> <span style=\"background-color:rgba(135,206,250,0.6643412);\">drama</span> <span style=\"background-color:rgba(135,206,250,0.5078454);\">.</span> <span style=\"background-color:rgba(135,206,250,0.5623432);\">.</span> <span style=\"background-color:rgba(135,206,250,0.5690046);\">.</span> <span style=\"background-color:rgba(135,206,250,0.59368765);\">.</span> <span style=\"background-color:rgba(135,206,250,0.6467467);\">.</span> <span style=\"background-color:rgba(135,206,250,0.78559744);\">.</span> <span style=\"background-color:rgba(135,206,250,0.7834628);\">.</span>"
      ],
      "text/plain": [
       "<IPython.core.display.HTML object>"
      ]
     },
     "metadata": {},
     "output_type": "display_data"
    },
    {
     "name": "stdout",
     "output_type": "stream",
     "text": [
      ".:   \t99.93%\n",
      "i:   \t0.01%\n",
      "but:   \t0.01%\n",
      "it:   \t0.01%\n",
      "the:   \t0.0%\n",
      "--------\n",
      "\n"
     ]
    },
    {
     "data": {
      "text/html": [
       "<span style=\"background-color:rgba(135,206,250,0.6447011);\">K-Drama</span> <span style=\"background-color:rgba(135,206,250,0.3840589);\">title</span> <span style=\"background-color:rgba(135,206,250,0.22056259);\">:</span> <span style=\"background-color:rgba(135,206,250,0.6981376);\">Star</span> <span style=\"background-color:rgba(135,206,250,1.0);\">Struck</span> <span style=\"background-color:rgba(135,206,250,0.1869599);\">:</span> <span style=\"background-color:rgba(135,206,250,0.59872824);\">K-Drama</span> <span style=\"background-color:rgba(135,206,250,0.27917907);\">review</span> <span style=\"background-color:rgba(135,206,250,0.23675299);\">:</span> <span style=\"background-color:rgba(135,206,250,0.8391813);\">paradise</span> <span style=\"background-color:rgba(135,206,250,0.26809743);\">in</span> <span style=\"background-color:rgba(135,206,250,0.35811943);\">a</span> <span style=\"background-color:rgba(135,206,250,0.5192257);\">drama</span> <span style=\"background-color:rgba(135,206,250,0.47441828);\">review</span> <span style=\"background-color:rgba(135,206,250,0.33102393);\">:</span> <span style=\"background-color:rgba(135,206,250,0.47856826);\">not</span> <span style=\"background-color:rgba(135,206,250,0.45484206);\">good</span> <span style=\"background-color:rgba(135,206,250,0.6305218);\">drama</span> <span style=\"background-color:rgba(135,206,250,0.4689594);\">.</span> <span style=\"background-color:rgba(135,206,250,0.5263172);\">.</span> <span style=\"background-color:rgba(135,206,250,0.54599965);\">.</span> <span style=\"background-color:rgba(135,206,250,0.56127864);\">.</span> <span style=\"background-color:rgba(135,206,250,0.63494486);\">.</span> <span style=\"background-color:rgba(135,206,250,0.7837936);\">.</span> <span style=\"background-color:rgba(135,206,250,0.8068312);\">.</span> <span style=\"background-color:rgba(135,206,250,0.8315303);\">.</span>"
      ],
      "text/plain": [
       "<IPython.core.display.HTML object>"
      ]
     },
     "metadata": {},
     "output_type": "display_data"
    },
    {
     "name": "stdout",
     "output_type": "stream",
     "text": [
      ".:   \t99.96%\n",
      "goddamn:   \t0.01%\n",
      "\":   \t0.0%\n",
      "i:   \t0.0%\n",
      "but:   \t0.0%\n",
      "--------\n",
      "\n"
     ]
    },
    {
     "data": {
      "text/html": [
       "<span style=\"background-color:rgba(135,206,250,0.6351998);\">K-Drama</span> <span style=\"background-color:rgba(135,206,250,0.38316417);\">title</span> <span style=\"background-color:rgba(135,206,250,0.23084384);\">:</span> <span style=\"background-color:rgba(135,206,250,0.6816794);\">Star</span> <span style=\"background-color:rgba(135,206,250,1.0);\">Struck</span> <span style=\"background-color:rgba(135,206,250,0.20304523);\">:</span> <span style=\"background-color:rgba(135,206,250,0.6369333);\">K-Drama</span> <span style=\"background-color:rgba(135,206,250,0.28590587);\">review</span> <span style=\"background-color:rgba(135,206,250,0.25459808);\">:</span> <span style=\"background-color:rgba(135,206,250,0.86079264);\">paradise</span> <span style=\"background-color:rgba(135,206,250,0.26937145);\">in</span> <span style=\"background-color:rgba(135,206,250,0.35685968);\">a</span> <span style=\"background-color:rgba(135,206,250,0.5341499);\">drama</span> <span style=\"background-color:rgba(135,206,250,0.47861463);\">review</span> <span style=\"background-color:rgba(135,206,250,0.34185338);\">:</span> <span style=\"background-color:rgba(135,206,250,0.46757472);\">not</span> <span style=\"background-color:rgba(135,206,250,0.44471765);\">good</span> <span style=\"background-color:rgba(135,206,250,0.6343502);\">drama</span> <span style=\"background-color:rgba(135,206,250,0.46958312);\">.</span> <span style=\"background-color:rgba(135,206,250,0.5230984);\">.</span> <span style=\"background-color:rgba(135,206,250,0.54242307);\">.</span> <span style=\"background-color:rgba(135,206,250,0.54455745);\">.</span> <span style=\"background-color:rgba(135,206,250,0.6272908);\">.</span> <span style=\"background-color:rgba(135,206,250,0.77110785);\">.</span> <span style=\"background-color:rgba(135,206,250,0.7956032);\">.</span> <span style=\"background-color:rgba(135,206,250,0.8259268);\">.</span> <span style=\"background-color:rgba(135,206,250,0.9952603);\">.</span>"
      ],
      "text/plain": [
       "<IPython.core.display.HTML object>"
      ]
     },
     "metadata": {},
     "output_type": "display_data"
    },
    {
     "name": "stdout",
     "output_type": "stream",
     "text": [
      ".:   \t99.97%\n",
      "and:   \t0.0%\n",
      "i:   \t0.0%\n",
      "but:   \t0.0%\n",
      ",:   \t0.0%\n",
      "--------\n",
      "\n"
     ]
    },
    {
     "data": {
      "text/html": [
       "<span style=\"background-color:rgba(135,206,250,0.62367475);\">K-Drama</span> <span style=\"background-color:rgba(135,206,250,0.37440878);\">title</span> <span style=\"background-color:rgba(135,206,250,0.2146059);\">:</span> <span style=\"background-color:rgba(135,206,250,0.6671143);\">Star</span> <span style=\"background-color:rgba(135,206,250,0.9881675);\">Struck</span> <span style=\"background-color:rgba(135,206,250,0.17636658);\">:</span> <span style=\"background-color:rgba(135,206,250,0.6076644);\">K-Drama</span> <span style=\"background-color:rgba(135,206,250,0.27302068);\">review</span> <span style=\"background-color:rgba(135,206,250,0.23242348);\">:</span> <span style=\"background-color:rgba(135,206,250,0.8490488);\">paradise</span> <span style=\"background-color:rgba(135,206,250,0.24375428);\">in</span> <span style=\"background-color:rgba(135,206,250,0.3419545);\">a</span> <span style=\"background-color:rgba(135,206,250,0.49436298);\">drama</span> <span style=\"background-color:rgba(135,206,250,0.4419401);\">review</span> <span style=\"background-color:rgba(135,206,250,0.32002282);\">:</span> <span style=\"background-color:rgba(135,206,250,0.42584807);\">not</span> <span style=\"background-color:rgba(135,206,250,0.407891);\">good</span> <span style=\"background-color:rgba(135,206,250,0.5828473);\">drama</span> <span style=\"background-color:rgba(135,206,250,0.44634822);\">.</span> <span style=\"background-color:rgba(135,206,250,0.5031785);\">.</span> <span style=\"background-color:rgba(135,206,250,0.5252225);\">.</span> <span style=\"background-color:rgba(135,206,250,0.52588564);\">.</span> <span style=\"background-color:rgba(135,206,250,0.605087);\">.</span> <span style=\"background-color:rgba(135,206,250,0.7499121);\">.</span> <span style=\"background-color:rgba(135,206,250,0.77106065);\">.</span> <span style=\"background-color:rgba(135,206,250,0.80193084);\">.</span> <span style=\"background-color:rgba(135,206,250,1.0);\">.</span> <span style=\"background-color:rgba(135,206,250,0.8927597);\">.</span>"
      ],
      "text/plain": [
       "<IPython.core.display.HTML object>"
      ]
     },
     "metadata": {},
     "output_type": "display_data"
    },
    {
     "name": "stdout",
     "output_type": "stream",
     "text": [
      ".:   \t99.96%\n",
      "but:   \t0.01%\n",
      ",:   \t0.0%\n",
      "i:   \t0.0%\n",
      "the:   \t0.0%\n",
      "--------\n",
      "\n"
     ]
    },
    {
     "data": {
      "text/html": [
       "<span style=\"background-color:rgba(135,206,250,0.57451564);\">K-Drama</span> <span style=\"background-color:rgba(135,206,250,0.34637353);\">title</span> <span style=\"background-color:rgba(135,206,250,0.1909616);\">:</span> <span style=\"background-color:rgba(135,206,250,0.61628973);\">Star</span> <span style=\"background-color:rgba(135,206,250,0.82000756);\">Struck</span> <span style=\"background-color:rgba(135,206,250,0.15095994);\">:</span> <span style=\"background-color:rgba(135,206,250,0.4682174);\">K-Drama</span> <span style=\"background-color:rgba(135,206,250,0.24548356);\">review</span> <span style=\"background-color:rgba(135,206,250,0.19595018);\">:</span> <span style=\"background-color:rgba(135,206,250,0.6941092);\">paradise</span> <span style=\"background-color:rgba(135,206,250,0.2289586);\">in</span> <span style=\"background-color:rgba(135,206,250,0.3294665);\">a</span> <span style=\"background-color:rgba(135,206,250,0.41999975);\">drama</span> <span style=\"background-color:rgba(135,206,250,0.427114);\">review</span> <span style=\"background-color:rgba(135,206,250,0.2879681);\">:</span> <span style=\"background-color:rgba(135,206,250,0.3872972);\">not</span> <span style=\"background-color:rgba(135,206,250,0.36905548);\">good</span> <span style=\"background-color:rgba(135,206,250,0.51273245);\">drama</span> <span style=\"background-color:rgba(135,206,250,0.40991715);\">.</span> <span style=\"background-color:rgba(135,206,250,0.46356428);\">.</span> <span style=\"background-color:rgba(135,206,250,0.48031554);\">.</span> <span style=\"background-color:rgba(135,206,250,0.5002637);\">.</span> <span style=\"background-color:rgba(135,206,250,0.56132054);\">.</span> <span style=\"background-color:rgba(135,206,250,0.69026077);\">.</span> <span style=\"background-color:rgba(135,206,250,0.70240015);\">.</span> <span style=\"background-color:rgba(135,206,250,0.7284669);\">.</span> <span style=\"background-color:rgba(135,206,250,0.8967943);\">.</span> <span style=\"background-color:rgba(135,206,250,0.8463611);\">.</span> <span style=\"background-color:rgba(135,206,250,1.0);\">.</span>"
      ],
      "text/plain": [
       "<IPython.core.display.HTML object>"
      ]
     },
     "metadata": {},
     "output_type": "display_data"
    },
    {
     "name": "stdout",
     "output_type": "stream",
     "text": [
      ".:   \t99.96%\n",
      "\":   \t0.0%\n",
      "i:   \t0.0%\n",
      ",:   \t0.0%\n",
      "the:   \t0.0%\n",
      "--------\n",
      "\n"
     ]
    },
    {
     "data": {
      "text/html": [
       "<span style=\"background-color:rgba(135,206,250,0.64834964);\">K-Drama</span> <span style=\"background-color:rgba(135,206,250,0.4052473);\">title</span> <span style=\"background-color:rgba(135,206,250,0.22830535);\">:</span> <span style=\"background-color:rgba(135,206,250,0.6698218);\">Star</span> <span style=\"background-color:rgba(135,206,250,1.0);\">Struck</span> <span style=\"background-color:rgba(135,206,250,0.21307983);\">:</span> <span style=\"background-color:rgba(135,206,250,0.6752494);\">K-Drama</span> <span style=\"background-color:rgba(135,206,250,0.31268474);\">review</span> <span style=\"background-color:rgba(135,206,250,0.255895);\">:</span> <span style=\"background-color:rgba(135,206,250,0.9149812);\">paradise</span> <span style=\"background-color:rgba(135,206,250,0.28010002);\">in</span> <span style=\"background-color:rgba(135,206,250,0.36034337);\">a</span> <span style=\"background-color:rgba(135,206,250,0.5380454);\">drama</span> <span style=\"background-color:rgba(135,206,250,0.4925813);\">review</span> <span style=\"background-color:rgba(135,206,250,0.33874297);\">:</span> <span style=\"background-color:rgba(135,206,250,0.49550036);\">not</span> <span style=\"background-color:rgba(135,206,250,0.49178013);\">good</span> <span style=\"background-color:rgba(135,206,250,0.63696605);\">drama</span> <span style=\"background-color:rgba(135,206,250,0.44286036);\">.</span> <span style=\"background-color:rgba(135,206,250,0.48858148);\">.</span> <span style=\"background-color:rgba(135,206,250,0.49524382);\">.</span> <span style=\"background-color:rgba(135,206,250,0.51353675);\">.</span> <span style=\"background-color:rgba(135,206,250,0.557893);\">.</span> <span style=\"background-color:rgba(135,206,250,0.6794457);\">.</span> <span style=\"background-color:rgba(135,206,250,0.68211615);\">.</span> <span style=\"background-color:rgba(135,206,250,0.698911);\">.</span> <span style=\"background-color:rgba(135,206,250,0.8305705);\">.</span> <span style=\"background-color:rgba(135,206,250,0.7549583);\">.</span> <span style=\"background-color:rgba(135,206,250,0.91813123);\">.</span> <span style=\"background-color:rgba(135,206,250,0.9415828);\">.</span>"
      ],
      "text/plain": [
       "<IPython.core.display.HTML object>"
      ]
     },
     "metadata": {},
     "output_type": "display_data"
    },
    {
     "name": "stdout",
     "output_type": "stream",
     "text": [
      ".:   \t99.96%\n",
      "i:   \t0.0%\n",
      "\":   \t0.0%\n",
      "but:   \t0.0%\n",
      ",:   \t0.0%\n",
      "--------\n",
      "\n"
     ]
    },
    {
     "data": {
      "text/html": [
       "<span style=\"background-color:rgba(135,206,250,0.6068056);\">K-Drama</span> <span style=\"background-color:rgba(135,206,250,0.38769412);\">title</span> <span style=\"background-color:rgba(135,206,250,0.2427628);\">:</span> <span style=\"background-color:rgba(135,206,250,0.6426231);\">Star</span> <span style=\"background-color:rgba(135,206,250,0.9153509);\">Struck</span> <span style=\"background-color:rgba(135,206,250,0.21019669);\">:</span> <span style=\"background-color:rgba(135,206,250,0.6330369);\">K-Drama</span> <span style=\"background-color:rgba(135,206,250,0.29857767);\">review</span> <span style=\"background-color:rgba(135,206,250,0.2740674);\">:</span> <span style=\"background-color:rgba(135,206,250,0.93951774);\">paradise</span> <span style=\"background-color:rgba(135,206,250,0.25112486);\">in</span> <span style=\"background-color:rgba(135,206,250,0.3641333);\">a</span> <span style=\"background-color:rgba(135,206,250,0.5002108);\">drama</span> <span style=\"background-color:rgba(135,206,250,0.4553272);\">review</span> <span style=\"background-color:rgba(135,206,250,0.34082443);\">:</span> <span style=\"background-color:rgba(135,206,250,0.40845206);\">not</span> <span style=\"background-color:rgba(135,206,250,0.3889445);\">good</span> <span style=\"background-color:rgba(135,206,250,0.5450017);\">drama</span> <span style=\"background-color:rgba(135,206,250,0.42349294);\">.</span> <span style=\"background-color:rgba(135,206,250,0.47265014);\">.</span> <span style=\"background-color:rgba(135,206,250,0.4815152);\">.</span> <span style=\"background-color:rgba(135,206,250,0.47549945);\">.</span> <span style=\"background-color:rgba(135,206,250,0.53616995);\">.</span> <span style=\"background-color:rgba(135,206,250,0.66270006);\">.</span> <span style=\"background-color:rgba(135,206,250,0.67856914);\">.</span> <span style=\"background-color:rgba(135,206,250,0.6921968);\">.</span> <span style=\"background-color:rgba(135,206,250,0.8304212);\">.</span> <span style=\"background-color:rgba(135,206,250,0.7347506);\">.</span> <span style=\"background-color:rgba(135,206,250,0.88467205);\">.</span> <span style=\"background-color:rgba(135,206,250,1.0);\">.</span> <span style=\"background-color:rgba(135,206,250,0.98007965);\">.</span>"
      ],
      "text/plain": [
       "<IPython.core.display.HTML object>"
      ]
     },
     "metadata": {},
     "output_type": "display_data"
    },
    {
     "name": "stdout",
     "output_type": "stream",
     "text": [
      ".:   \t99.97%\n",
      "\":   \t0.0%\n",
      "fireyaaaaaa:   \t0.0%\n",
      "i:   \t0.0%\n",
      ",:   \t0.0%\n",
      "--------\n",
      "\n"
     ]
    },
    {
     "data": {
      "text/html": [
       "<span style=\"background-color:rgba(135,206,250,0.53254986);\">K-Drama</span> <span style=\"background-color:rgba(135,206,250,0.33954);\">title</span> <span style=\"background-color:rgba(135,206,250,0.20634155);\">:</span> <span style=\"background-color:rgba(135,206,250,0.56043994);\">Star</span> <span style=\"background-color:rgba(135,206,250,0.8164971);\">Struck</span> <span style=\"background-color:rgba(135,206,250,0.18040402);\">:</span> <span style=\"background-color:rgba(135,206,250,0.54660517);\">K-Drama</span> <span style=\"background-color:rgba(135,206,250,0.25218436);\">review</span> <span style=\"background-color:rgba(135,206,250,0.22560705);\">:</span> <span style=\"background-color:rgba(135,206,250,0.7759641);\">paradise</span> <span style=\"background-color:rgba(135,206,250,0.22274145);\">in</span> <span style=\"background-color:rgba(135,206,250,0.29143736);\">a</span> <span style=\"background-color:rgba(135,206,250,0.41500297);\">drama</span> <span style=\"background-color:rgba(135,206,250,0.38922542);\">review</span> <span style=\"background-color:rgba(135,206,250,0.29645374);\">:</span> <span style=\"background-color:rgba(135,206,250,0.35752857);\">not</span> <span style=\"background-color:rgba(135,206,250,0.36768445);\">good</span> <span style=\"background-color:rgba(135,206,250,0.4769364);\">drama</span> <span style=\"background-color:rgba(135,206,250,0.37558654);\">.</span> <span style=\"background-color:rgba(135,206,250,0.4238477);\">.</span> <span style=\"background-color:rgba(135,206,250,0.43323913);\">.</span> <span style=\"background-color:rgba(135,206,250,0.43359268);\">.</span> <span style=\"background-color:rgba(135,206,250,0.48493478);\">.</span> <span style=\"background-color:rgba(135,206,250,0.59156907);\">.</span> <span style=\"background-color:rgba(135,206,250,0.6091055);\">.</span> <span style=\"background-color:rgba(135,206,250,0.61974293);\">.</span> <span style=\"background-color:rgba(135,206,250,0.7491891);\">.</span> <span style=\"background-color:rgba(135,206,250,0.6756275);\">.</span> <span style=\"background-color:rgba(135,206,250,0.80879515);\">.</span> <span style=\"background-color:rgba(135,206,250,0.8971038);\">.</span> <span style=\"background-color:rgba(135,206,250,0.90141475);\">.</span> <span style=\"background-color:rgba(135,206,250,1.0);\">.</span>"
      ],
      "text/plain": [
       "<IPython.core.display.HTML object>"
      ]
     },
     "metadata": {},
     "output_type": "display_data"
    },
    {
     "name": "stdout",
     "output_type": "stream",
     "text": [
      ".:   \t99.9%\n",
      "hmm:   \t0.05%\n",
      "calmly:   \t0.02%\n",
      ",:   \t0.01%\n",
      "unpardonably:   \t0.01%\n",
      "--------\n",
      "\n"
     ]
    },
    {
     "data": {
      "text/html": [
       "<span style=\"background-color:rgba(135,206,250,0.4982452);\">K-Drama</span> <span style=\"background-color:rgba(135,206,250,0.33160296);\">title</span> <span style=\"background-color:rgba(135,206,250,0.17812207);\">:</span> <span style=\"background-color:rgba(135,206,250,0.5437862);\">Star</span> <span style=\"background-color:rgba(135,206,250,0.7300542);\">Struck</span> <span style=\"background-color:rgba(135,206,250,0.13796565);\">:</span> <span style=\"background-color:rgba(135,206,250,0.4638807);\">K-Drama</span> <span style=\"background-color:rgba(135,206,250,0.2394031);\">review</span> <span style=\"background-color:rgba(135,206,250,0.19322158);\">:</span> <span style=\"background-color:rgba(135,206,250,0.75215);\">paradise</span> <span style=\"background-color:rgba(135,206,250,0.19334777);\">in</span> <span style=\"background-color:rgba(135,206,250,0.25122675);\">a</span> <span style=\"background-color:rgba(135,206,250,0.3762343);\">drama</span> <span style=\"background-color:rgba(135,206,250,0.38120112);\">review</span> <span style=\"background-color:rgba(135,206,250,0.26266992);\">:</span> <span style=\"background-color:rgba(135,206,250,0.3084759);\">not</span> <span style=\"background-color:rgba(135,206,250,0.30334476);\">good</span> <span style=\"background-color:rgba(135,206,250,0.44096568);\">drama</span> <span style=\"background-color:rgba(135,206,250,0.33280012);\">.</span> <span style=\"background-color:rgba(135,206,250,0.37380195);\">.</span> <span style=\"background-color:rgba(135,206,250,0.38036427);\">.</span> <span style=\"background-color:rgba(135,206,250,0.38951114);\">.</span> <span style=\"background-color:rgba(135,206,250,0.4340313);\">.</span> <span style=\"background-color:rgba(135,206,250,0.54340655);\">.</span> <span style=\"background-color:rgba(135,206,250,0.5636001);\">.</span> <span style=\"background-color:rgba(135,206,250,0.58060545);\">.</span> <span style=\"background-color:rgba(135,206,250,0.70061606);\">.</span> <span style=\"background-color:rgba(135,206,250,0.62139434);\">.</span> <span style=\"background-color:rgba(135,206,250,0.7686832);\">.</span> <span style=\"background-color:rgba(135,206,250,0.8471407);\">.</span> <span style=\"background-color:rgba(135,206,250,0.85698);\">.</span> <span style=\"background-color:rgba(135,206,250,1.0);\">.</span> <span style=\"background-color:rgba(135,206,250,0.883079);\">.</span>"
      ],
      "text/plain": [
       "<IPython.core.display.HTML object>"
      ]
     },
     "metadata": {},
     "output_type": "display_data"
    },
    {
     "name": "stdout",
     "output_type": "stream",
     "text": [
      ".:   \t99.95%\n",
      ",:   \t0.01%\n",
      "the:   \t0.01%\n",
      "and:   \t0.0%\n",
      "bruhhh:   \t0.0%\n",
      "--------\n",
      "\n"
     ]
    },
    {
     "data": {
      "text/html": [
       "<span style=\"background-color:rgba(135,206,250,0.4622504);\">K-Drama</span> <span style=\"background-color:rgba(135,206,250,0.28228188);\">title</span> <span style=\"background-color:rgba(135,206,250,0.15137176);\">:</span> <span style=\"background-color:rgba(135,206,250,0.4774115);\">Star</span> <span style=\"background-color:rgba(135,206,250,0.69934237);\">Struck</span> <span style=\"background-color:rgba(135,206,250,0.12270694);\">:</span> <span style=\"background-color:rgba(135,206,250,0.45761985);\">K-Drama</span> <span style=\"background-color:rgba(135,206,250,0.20451754);\">review</span> <span style=\"background-color:rgba(135,206,250,0.17034224);\">:</span> <span style=\"background-color:rgba(135,206,250,0.706001);\">paradise</span> <span style=\"background-color:rgba(135,206,250,0.16608253);\">in</span> <span style=\"background-color:rgba(135,206,250,0.22534637);\">a</span> <span style=\"background-color:rgba(135,206,250,0.33663476);\">drama</span> <span style=\"background-color:rgba(135,206,250,0.31837896);\">review</span> <span style=\"background-color:rgba(135,206,250,0.2276828);\">:</span> <span style=\"background-color:rgba(135,206,250,0.26415226);\">not</span> <span style=\"background-color:rgba(135,206,250,0.25474855);\">good</span> <span style=\"background-color:rgba(135,206,250,0.38083082);\">drama</span> <span style=\"background-color:rgba(135,206,250,0.28598356);\">.</span> <span style=\"background-color:rgba(135,206,250,0.32392877);\">.</span> <span style=\"background-color:rgba(135,206,250,0.3331564);\">.</span> <span style=\"background-color:rgba(135,206,250,0.3283019);\">.</span> <span style=\"background-color:rgba(135,206,250,0.37645504);\">.</span> <span style=\"background-color:rgba(135,206,250,0.4745047);\">.</span> <span style=\"background-color:rgba(135,206,250,0.4950684);\">.</span> <span style=\"background-color:rgba(135,206,250,0.50470865);\">.</span> <span style=\"background-color:rgba(135,206,250,0.6204141);\">.</span> <span style=\"background-color:rgba(135,206,250,0.54206717);\">.</span> <span style=\"background-color:rgba(135,206,250,0.6698449);\">.</span> <span style=\"background-color:rgba(135,206,250,0.76637286);\">.</span> <span style=\"background-color:rgba(135,206,250,0.7730705);\">.</span> <span style=\"background-color:rgba(135,206,250,0.89744025);\">.</span> <span style=\"background-color:rgba(135,206,250,0.8101037);\">.</span> <span style=\"background-color:rgba(135,206,250,1.0);\">.</span>"
      ],
      "text/plain": [
       "<IPython.core.display.HTML object>"
      ]
     },
     "metadata": {},
     "output_type": "display_data"
    },
    {
     "name": "stdout",
     "output_type": "stream",
     "text": [
      ".:   \t99.93%\n",
      ",:   \t0.01%\n",
      "~:   \t0.01%\n",
      "and:   \t0.01%\n",
      "i:   \t0.0%\n",
      "--------\n",
      "\n"
     ]
    },
    {
     "data": {
      "text/html": [
       "<span style=\"background-color:rgba(135,206,250,0.47016814);\">K-Drama</span> <span style=\"background-color:rgba(135,206,250,0.3052898);\">title</span> <span style=\"background-color:rgba(135,206,250,0.14759602);\">:</span> <span style=\"background-color:rgba(135,206,250,0.4994718);\">Star</span> <span style=\"background-color:rgba(135,206,250,0.6868196);\">Struck</span> <span style=\"background-color:rgba(135,206,250,0.1144164);\">:</span> <span style=\"background-color:rgba(135,206,250,0.43034828);\">K-Drama</span> <span style=\"background-color:rgba(135,206,250,0.21973759);\">review</span> <span style=\"background-color:rgba(135,206,250,0.16266762);\">:</span> <span style=\"background-color:rgba(135,206,250,0.71205515);\">paradise</span> <span style=\"background-color:rgba(135,206,250,0.17264998);\">in</span> <span style=\"background-color:rgba(135,206,250,0.23561451);\">a</span> <span style=\"background-color:rgba(135,206,250,0.33634147);\">drama</span> <span style=\"background-color:rgba(135,206,250,0.3484951);\">review</span> <span style=\"background-color:rgba(135,206,250,0.22345236);\">:</span> <span style=\"background-color:rgba(135,206,250,0.26973984);\">not</span> <span style=\"background-color:rgba(135,206,250,0.2689983);\">good</span> <span style=\"background-color:rgba(135,206,250,0.386729);\">drama</span> <span style=\"background-color:rgba(135,206,250,0.29042816);\">.</span> <span style=\"background-color:rgba(135,206,250,0.32936963);\">.</span> <span style=\"background-color:rgba(135,206,250,0.33449173);\">.</span> <span style=\"background-color:rgba(135,206,250,0.343699);\">.</span> <span style=\"background-color:rgba(135,206,250,0.38087973);\">.</span> <span style=\"background-color:rgba(135,206,250,0.4781238);\">.</span> <span style=\"background-color:rgba(135,206,250,0.49035025);\">.</span> <span style=\"background-color:rgba(135,206,250,0.5024891);\">.</span> <span style=\"background-color:rgba(135,206,250,0.6186282);\">.</span> <span style=\"background-color:rgba(135,206,250,0.54771465);\">.</span> <span style=\"background-color:rgba(135,206,250,0.67223656);\">.</span> <span style=\"background-color:rgba(135,206,250,0.74007154);\">.</span> <span style=\"background-color:rgba(135,206,250,0.748136);\">.</span> <span style=\"background-color:rgba(135,206,250,0.8674281);\">.</span> <span style=\"background-color:rgba(135,206,250,0.7719335);\">.</span> <span style=\"background-color:rgba(135,206,250,1.0);\">.</span> <span style=\"background-color:rgba(135,206,250,0.82788384);\">.</span>"
      ],
      "text/plain": [
       "<IPython.core.display.HTML object>"
      ]
     },
     "metadata": {},
     "output_type": "display_data"
    },
    {
     "name": "stdout",
     "output_type": "stream",
     "text": [
      ".:   \t99.92%\n",
      "i:   \t0.01%\n",
      ",:   \t0.01%\n",
      "the:   \t0.01%\n",
      "andfor:   \t0.01%\n",
      "--------\n",
      "\n"
     ]
    },
    {
     "data": {
      "text/html": [
       "<span style=\"background-color:rgba(135,206,250,0.5519653);\">K-Drama</span> <span style=\"background-color:rgba(135,206,250,0.33200026);\">title</span> <span style=\"background-color:rgba(135,206,250,0.20240295);\">:</span> <span style=\"background-color:rgba(135,206,250,0.5569765);\">Star</span> <span style=\"background-color:rgba(135,206,250,0.8364118);\">Struck</span> <span style=\"background-color:rgba(135,206,250,0.18049592);\">:</span> <span style=\"background-color:rgba(135,206,250,0.5762309);\">K-Drama</span> <span style=\"background-color:rgba(135,206,250,0.24935916);\">review</span> <span style=\"background-color:rgba(135,206,250,0.23111455);\">:</span> <span style=\"background-color:rgba(135,206,250,0.8701731);\">paradise</span> <span style=\"background-color:rgba(135,206,250,0.21454915);\">in</span> <span style=\"background-color:rgba(135,206,250,0.29487962);\">a</span> <span style=\"background-color:rgba(135,206,250,0.39660534);\">drama</span> <span style=\"background-color:rgba(135,206,250,0.37240675);\">review</span> <span style=\"background-color:rgba(135,206,250,0.2896068);\">:</span> <span style=\"background-color:rgba(135,206,250,0.32975832);\">not</span> <span style=\"background-color:rgba(135,206,250,0.33491555);\">good</span> <span style=\"background-color:rgba(135,206,250,0.4342239);\">drama</span> <span style=\"background-color:rgba(135,206,250,0.3466377);\">.</span> <span style=\"background-color:rgba(135,206,250,0.39189744);\">.</span> <span style=\"background-color:rgba(135,206,250,0.397365);\">.</span> <span style=\"background-color:rgba(135,206,250,0.38779074);\">.</span> <span style=\"background-color:rgba(135,206,250,0.43789017);\">.</span> <span style=\"background-color:rgba(135,206,250,0.5434174);\">.</span> <span style=\"background-color:rgba(135,206,250,0.5596431);\">.</span> <span style=\"background-color:rgba(135,206,250,0.5671861);\">.</span> <span style=\"background-color:rgba(135,206,250,0.6776603);\">.</span> <span style=\"background-color:rgba(135,206,250,0.5980105);\">.</span> <span style=\"background-color:rgba(135,206,250,0.71327066);\">.</span> <span style=\"background-color:rgba(135,206,250,0.81079865);\">.</span> <span style=\"background-color:rgba(135,206,250,0.7944029);\">.</span> <span style=\"background-color:rgba(135,206,250,0.89358383);\">.</span> <span style=\"background-color:rgba(135,206,250,0.802229);\">.</span> <span style=\"background-color:rgba(135,206,250,0.9850029);\">.</span> <span style=\"background-color:rgba(135,206,250,0.8777753);\">.</span> <span style=\"background-color:rgba(135,206,250,1.0);\">.</span>"
      ],
      "text/plain": [
       "<IPython.core.display.HTML object>"
      ]
     },
     "metadata": {},
     "output_type": "display_data"
    },
    {
     "name": "stdout",
     "output_type": "stream",
     "text": [
      ".:   \t99.9%\n",
      "gs:   \t0.05%\n",
      "~:   \t0.02%\n",
      "meh:   \t0.01%\n",
      ",:   \t0.0%\n",
      "--------\n",
      "\n"
     ]
    },
    {
     "data": {
      "text/html": [
       "<span style=\"background-color:rgba(135,206,250,0.47615394);\">K-Drama</span> <span style=\"background-color:rgba(135,206,250,0.3350074);\">title</span> <span style=\"background-color:rgba(135,206,250,0.17915024);\">:</span> <span style=\"background-color:rgba(135,206,250,0.5110676);\">Star</span> <span style=\"background-color:rgba(135,206,250,0.69460005);\">Struck</span> <span style=\"background-color:rgba(135,206,250,0.14406241);\">:</span> <span style=\"background-color:rgba(135,206,250,0.47436798);\">K-Drama</span> <span style=\"background-color:rgba(135,206,250,0.24814352);\">review</span> <span style=\"background-color:rgba(135,206,250,0.19604959);\">:</span> <span style=\"background-color:rgba(135,206,250,0.7593974);\">paradise</span> <span style=\"background-color:rgba(135,206,250,0.19069393);\">in</span> <span style=\"background-color:rgba(135,206,250,0.25654078);\">a</span> <span style=\"background-color:rgba(135,206,250,0.362532);\">drama</span> <span style=\"background-color:rgba(135,206,250,0.37588727);\">review</span> <span style=\"background-color:rgba(135,206,250,0.25640333);\">:</span> <span style=\"background-color:rgba(135,206,250,0.28266463);\">not</span> <span style=\"background-color:rgba(135,206,250,0.30077234);\">good</span> <span style=\"background-color:rgba(135,206,250,0.41167176);\">drama</span> <span style=\"background-color:rgba(135,206,250,0.31313065);\">.</span> <span style=\"background-color:rgba(135,206,250,0.3531581);\">.</span> <span style=\"background-color:rgba(135,206,250,0.352378);\">.</span> <span style=\"background-color:rgba(135,206,250,0.36179483);\">.</span> <span style=\"background-color:rgba(135,206,250,0.39129606);\">.</span> <span style=\"background-color:rgba(135,206,250,0.48364523);\">.</span> <span style=\"background-color:rgba(135,206,250,0.49409753);\">.</span> <span style=\"background-color:rgba(135,206,250,0.50334865);\">.</span> <span style=\"background-color:rgba(135,206,250,0.59978986);\">.</span> <span style=\"background-color:rgba(135,206,250,0.5349038);\">.</span> <span style=\"background-color:rgba(135,206,250,0.6431456);\">.</span> <span style=\"background-color:rgba(135,206,250,0.70336586);\">.</span> <span style=\"background-color:rgba(135,206,250,0.6933538);\">.</span> <span style=\"background-color:rgba(135,206,250,0.7941062);\">.</span> <span style=\"background-color:rgba(135,206,250,0.7058262);\">.</span> <span style=\"background-color:rgba(135,206,250,0.8926297);\">.</span> <span style=\"background-color:rgba(135,206,250,0.76280355);\">.</span> <span style=\"background-color:rgba(135,206,250,0.9292069);\">.</span> <span style=\"background-color:rgba(135,206,250,1.0);\">.</span>"
      ],
      "text/plain": [
       "<IPython.core.display.HTML object>"
      ]
     },
     "metadata": {},
     "output_type": "display_data"
    },
    {
     "name": "stdout",
     "output_type": "stream",
     "text": [
      ".:   \t99.93%\n",
      ",:   \t0.01%\n",
      "and:   \t0.01%\n",
      "calmly:   \t0.0%\n",
      "~:   \t0.0%\n",
      "--------\n",
      "\n"
     ]
    },
    {
     "data": {
      "text/html": [
       "<span style=\"background-color:rgba(135,206,250,0.38889396);\">K-Drama</span> <span style=\"background-color:rgba(135,206,250,0.24324489);\">title</span> <span style=\"background-color:rgba(135,206,250,0.14881945);\">:</span> <span style=\"background-color:rgba(135,206,250,0.39952403);\">Star</span> <span style=\"background-color:rgba(135,206,250,0.603576);\">Struck</span> <span style=\"background-color:rgba(135,206,250,0.11980954);\">:</span> <span style=\"background-color:rgba(135,206,250,0.42550346);\">K-Drama</span> <span style=\"background-color:rgba(135,206,250,0.17426217);\">review</span> <span style=\"background-color:rgba(135,206,250,0.16834094);\">:</span> <span style=\"background-color:rgba(135,206,250,0.65276957);\">paradise</span> <span style=\"background-color:rgba(135,206,250,0.14279978);\">in</span> <span style=\"background-color:rgba(135,206,250,0.18952239);\">a</span> <span style=\"background-color:rgba(135,206,250,0.286822);\">drama</span> <span style=\"background-color:rgba(135,206,250,0.2552176);\">review</span> <span style=\"background-color:rgba(135,206,250,0.21422279);\">:</span> <span style=\"background-color:rgba(135,206,250,0.21124323);\">not</span> <span style=\"background-color:rgba(135,206,250,0.2210913);\">good</span> <span style=\"background-color:rgba(135,206,250,0.31238285);\">drama</span> <span style=\"background-color:rgba(135,206,250,0.23850334);\">.</span> <span style=\"background-color:rgba(135,206,250,0.2693911);\">.</span> <span style=\"background-color:rgba(135,206,250,0.27526507);\">.</span> <span style=\"background-color:rgba(135,206,250,0.2655705);\">.</span> <span style=\"background-color:rgba(135,206,250,0.30124035);\">.</span> <span style=\"background-color:rgba(135,206,250,0.3792884);\">.</span> <span style=\"background-color:rgba(135,206,250,0.39907485);\">.</span> <span style=\"background-color:rgba(135,206,250,0.40132457);\">.</span> <span style=\"background-color:rgba(135,206,250,0.48403072);\">.</span> <span style=\"background-color:rgba(135,206,250,0.41452092);\">.</span> <span style=\"background-color:rgba(135,206,250,0.505945);\">.</span> <span style=\"background-color:rgba(135,206,250,0.58595693);\">.</span> <span style=\"background-color:rgba(135,206,250,0.57436734);\">.</span> <span style=\"background-color:rgba(135,206,250,0.65727496);\">.</span> <span style=\"background-color:rgba(135,206,250,0.5844402);\">.</span> <span style=\"background-color:rgba(135,206,250,0.7232044);\">.</span> <span style=\"background-color:rgba(135,206,250,0.6335533);\">.</span> <span style=\"background-color:rgba(135,206,250,0.75901645);\">.</span> <span style=\"background-color:rgba(135,206,250,0.8902493);\">.</span> <span style=\"background-color:rgba(135,206,250,1.0);\">.</span>"
      ],
      "text/plain": [
       "<IPython.core.display.HTML object>"
      ]
     },
     "metadata": {},
     "output_type": "display_data"
    },
    {
     "name": "stdout",
     "output_type": "stream",
     "text": [
      ".:   \t99.92%\n",
      ",:   \t0.02%\n",
      "and:   \t0.01%\n",
      "i:   \t0.01%\n",
      "unpardonably:   \t0.01%\n",
      "--------\n",
      "\n"
     ]
    },
    {
     "data": {
      "text/html": [
       "<span style=\"background-color:rgba(135,206,250,0.38833877);\">K-Drama</span> <span style=\"background-color:rgba(135,206,250,0.25308782);\">title</span> <span style=\"background-color:rgba(135,206,250,0.14466392);\">:</span> <span style=\"background-color:rgba(135,206,250,0.40077737);\">Star</span> <span style=\"background-color:rgba(135,206,250,0.58670074);\">Struck</span> <span style=\"background-color:rgba(135,206,250,0.10954146);\">:</span> <span style=\"background-color:rgba(135,206,250,0.38169336);\">K-Drama</span> <span style=\"background-color:rgba(135,206,250,0.17326562);\">review</span> <span style=\"background-color:rgba(135,206,250,0.15337515);\">:</span> <span style=\"background-color:rgba(135,206,250,0.6333792);\">paradise</span> <span style=\"background-color:rgba(135,206,250,0.13646288);\">in</span> <span style=\"background-color:rgba(135,206,250,0.19648886);\">a</span> <span style=\"background-color:rgba(135,206,250,0.25935525);\">drama</span> <span style=\"background-color:rgba(135,206,250,0.25961062);\">review</span> <span style=\"background-color:rgba(135,206,250,0.20713817);\">:</span> <span style=\"background-color:rgba(135,206,250,0.20459667);\">not</span> <span style=\"background-color:rgba(135,206,250,0.22254613);\">good</span> <span style=\"background-color:rgba(135,206,250,0.28789783);\">drama</span> <span style=\"background-color:rgba(135,206,250,0.2373706);\">.</span> <span style=\"background-color:rgba(135,206,250,0.27258167);\">.</span> <span style=\"background-color:rgba(135,206,250,0.27430022);\">.</span> <span style=\"background-color:rgba(135,206,250,0.27254826);\">.</span> <span style=\"background-color:rgba(135,206,250,0.30079564);\">.</span> <span style=\"background-color:rgba(135,206,250,0.37342095);\">.</span> <span style=\"background-color:rgba(135,206,250,0.38791567);\">.</span> <span style=\"background-color:rgba(135,206,250,0.3935075);\">.</span> <span style=\"background-color:rgba(135,206,250,0.47541296);\">.</span> <span style=\"background-color:rgba(135,206,250,0.4190934);\">.</span> <span style=\"background-color:rgba(135,206,250,0.49669272);\">.</span> <span style=\"background-color:rgba(135,206,250,0.57097435);\">.</span> <span style=\"background-color:rgba(135,206,250,0.55482626);\">.</span> <span style=\"background-color:rgba(135,206,250,0.6289601);\">.</span> <span style=\"background-color:rgba(135,206,250,0.5618664);\">.</span> <span style=\"background-color:rgba(135,206,250,0.7030944);\">.</span> <span style=\"background-color:rgba(135,206,250,0.61061686);\">.</span> <span style=\"background-color:rgba(135,206,250,0.7076874);\">.</span> <span style=\"background-color:rgba(135,206,250,0.81324816);\">.</span> <span style=\"background-color:rgba(135,206,250,0.9674974);\">.</span> <span style=\"background-color:rgba(135,206,250,1.0);\">.</span>"
      ],
      "text/plain": [
       "<IPython.core.display.HTML object>"
      ]
     },
     "metadata": {},
     "output_type": "display_data"
    },
    {
     "name": "stdout",
     "output_type": "stream",
     "text": [
      ".:   \t99.95%\n",
      "unpardonably:   \t0.01%\n",
      ",:   \t0.01%\n",
      "calmly:   \t0.0%\n",
      "and:   \t0.0%\n",
      "--------\n",
      "\n"
     ]
    },
    {
     "data": {
      "text/html": [
       "<span style=\"background-color:rgba(135,206,250,0.37176096);\">K-Drama</span> <span style=\"background-color:rgba(135,206,250,0.22574864);\">title</span> <span style=\"background-color:rgba(135,206,250,0.12316129);\">:</span> <span style=\"background-color:rgba(135,206,250,0.37274382);\">Star</span> <span style=\"background-color:rgba(135,206,250,0.5745246);\">Struck</span> <span style=\"background-color:rgba(135,206,250,0.09685891);\">:</span> <span style=\"background-color:rgba(135,206,250,0.3731355);\">K-Drama</span> <span style=\"background-color:rgba(135,206,250,0.15875106);\">review</span> <span style=\"background-color:rgba(135,206,250,0.13501182);\">:</span> <span style=\"background-color:rgba(135,206,250,0.58320296);\">paradise</span> <span style=\"background-color:rgba(135,206,250,0.13042776);\">in</span> <span style=\"background-color:rgba(135,206,250,0.16934511);\">a</span> <span style=\"background-color:rgba(135,206,250,0.24247697);\">drama</span> <span style=\"background-color:rgba(135,206,250,0.23865725);\">review</span> <span style=\"background-color:rgba(135,206,250,0.18596455);\">:</span> <span style=\"background-color:rgba(135,206,250,0.19968764);\">not</span> <span style=\"background-color:rgba(135,206,250,0.20866986);\">good</span> <span style=\"background-color:rgba(135,206,250,0.2765512);\">drama</span> <span style=\"background-color:rgba(135,206,250,0.21514493);\">.</span> <span style=\"background-color:rgba(135,206,250,0.24423115);\">.</span> <span style=\"background-color:rgba(135,206,250,0.24863398);\">.</span> <span style=\"background-color:rgba(135,206,250,0.24858434);\">.</span> <span style=\"background-color:rgba(135,206,250,0.27479696);\">.</span> <span style=\"background-color:rgba(135,206,250,0.34240595);\">.</span> <span style=\"background-color:rgba(135,206,250,0.35897923);\">.</span> <span style=\"background-color:rgba(135,206,250,0.3623885);\">.</span> <span style=\"background-color:rgba(135,206,250,0.44055903);\">.</span> <span style=\"background-color:rgba(135,206,250,0.3867124);\">.</span> <span style=\"background-color:rgba(135,206,250,0.46522567);\">.</span> <span style=\"background-color:rgba(135,206,250,0.5293309);\">.</span> <span style=\"background-color:rgba(135,206,250,0.5219516);\">.</span> <span style=\"background-color:rgba(135,206,250,0.59382105);\">.</span> <span style=\"background-color:rgba(135,206,250,0.53018105);\">.</span> <span style=\"background-color:rgba(135,206,250,0.66691047);\">.</span> <span style=\"background-color:rgba(135,206,250,0.57436013);\">.</span> <span style=\"background-color:rgba(135,206,250,0.68817085);\">.</span> <span style=\"background-color:rgba(135,206,250,0.7867677);\">.</span> <span style=\"background-color:rgba(135,206,250,0.9206215);\">.</span> <span style=\"background-color:rgba(135,206,250,0.9941414);\">.</span> <span style=\"background-color:rgba(135,206,250,1.0);\">.</span>"
      ],
      "text/plain": [
       "<IPython.core.display.HTML object>"
      ]
     },
     "metadata": {},
     "output_type": "display_data"
    },
    {
     "name": "stdout",
     "output_type": "stream",
     "text": [
      ".:   \t99.92%\n",
      "the:   \t0.01%\n",
      "calmly:   \t0.01%\n",
      ",:   \t0.01%\n",
      "~:   \t0.01%\n",
      "--------\n",
      "\n"
     ]
    },
    {
     "data": {
      "text/html": [
       "<span style=\"background-color:rgba(135,206,250,0.35801172);\">K-Drama</span> <span style=\"background-color:rgba(135,206,250,0.22392946);\">title</span> <span style=\"background-color:rgba(135,206,250,0.13339046);\">:</span> <span style=\"background-color:rgba(135,206,250,0.36803675);\">Star</span> <span style=\"background-color:rgba(135,206,250,0.5343836);\">Struck</span> <span style=\"background-color:rgba(135,206,250,0.09903467);\">:</span> <span style=\"background-color:rgba(135,206,250,0.36421242);\">K-Drama</span> <span style=\"background-color:rgba(135,206,250,0.15329987);\">review</span> <span style=\"background-color:rgba(135,206,250,0.14972056);\">:</span> <span style=\"background-color:rgba(135,206,250,0.6404367);\">paradise</span> <span style=\"background-color:rgba(135,206,250,0.12240221);\">in</span> <span style=\"background-color:rgba(135,206,250,0.1728926);\">a</span> <span style=\"background-color:rgba(135,206,250,0.23781715);\">drama</span> <span style=\"background-color:rgba(135,206,250,0.22140084);\">review</span> <span style=\"background-color:rgba(135,206,250,0.18986537);\">:</span> <span style=\"background-color:rgba(135,206,250,0.17878208);\">not</span> <span style=\"background-color:rgba(135,206,250,0.18571454);\">good</span> <span style=\"background-color:rgba(135,206,250,0.25010896);\">drama</span> <span style=\"background-color:rgba(135,206,250,0.20197137);\">.</span> <span style=\"background-color:rgba(135,206,250,0.23237191);\">.</span> <span style=\"background-color:rgba(135,206,250,0.2338675);\">.</span> <span style=\"background-color:rgba(135,206,250,0.22682056);\">.</span> <span style=\"background-color:rgba(135,206,250,0.25296238);\">.</span> <span style=\"background-color:rgba(135,206,250,0.32583666);\">.</span> <span style=\"background-color:rgba(135,206,250,0.3466362);\">.</span> <span style=\"background-color:rgba(135,206,250,0.34464204);\">.</span> <span style=\"background-color:rgba(135,206,250,0.41947204);\">.</span> <span style=\"background-color:rgba(135,206,250,0.35535833);\">.</span> <span style=\"background-color:rgba(135,206,250,0.42874512);\">.</span> <span style=\"background-color:rgba(135,206,250,0.5152623);\">.</span> <span style=\"background-color:rgba(135,206,250,0.49519604);\">.</span> <span style=\"background-color:rgba(135,206,250,0.5646286);\">.</span> <span style=\"background-color:rgba(135,206,250,0.50260687);\">.</span> <span style=\"background-color:rgba(135,206,250,0.623526);\">.</span> <span style=\"background-color:rgba(135,206,250,0.54373974);\">.</span> <span style=\"background-color:rgba(135,206,250,0.6358725);\">.</span> <span style=\"background-color:rgba(135,206,250,0.75722724);\">.</span> <span style=\"background-color:rgba(135,206,250,0.8733892);\">.</span> <span style=\"background-color:rgba(135,206,250,0.9599131);\">.</span> <span style=\"background-color:rgba(135,206,250,1.0);\">.</span> <span style=\"background-color:rgba(135,206,250,0.87808955);\">.</span>"
      ],
      "text/plain": [
       "<IPython.core.display.HTML object>"
      ]
     },
     "metadata": {},
     "output_type": "display_data"
    },
    {
     "name": "stdout",
     "output_type": "stream",
     "text": [
      ".:   \t99.9%\n",
      ",:   \t0.01%\n",
      "unpardonably:   \t0.01%\n",
      "and:   \t0.01%\n",
      "the:   \t0.01%\n",
      "--------\n",
      "\n"
     ]
    },
    {
     "data": {
      "text/html": [
       "<span style=\"background-color:rgba(135,206,250,0.3646377);\">K-Drama</span> <span style=\"background-color:rgba(135,206,250,0.22655098);\">title</span> <span style=\"background-color:rgba(135,206,250,0.1204168);\">:</span> <span style=\"background-color:rgba(135,206,250,0.37389156);\">Star</span> <span style=\"background-color:rgba(135,206,250,0.5286003);\">Struck</span> <span style=\"background-color:rgba(135,206,250,0.08794187);\">:</span> <span style=\"background-color:rgba(135,206,250,0.33893013);\">K-Drama</span> <span style=\"background-color:rgba(135,206,250,0.15565191);\">review</span> <span style=\"background-color:rgba(135,206,250,0.13222803);\">:</span> <span style=\"background-color:rgba(135,206,250,0.6076265);\">paradise</span> <span style=\"background-color:rgba(135,206,250,0.12160689);\">in</span> <span style=\"background-color:rgba(135,206,250,0.16621575);\">a</span> <span style=\"background-color:rgba(135,206,250,0.2264979);\">drama</span> <span style=\"background-color:rgba(135,206,250,0.23017229);\">review</span> <span style=\"background-color:rgba(135,206,250,0.17874484);\">:</span> <span style=\"background-color:rgba(135,206,250,0.1769853);\">not</span> <span style=\"background-color:rgba(135,206,250,0.18427078);\">good</span> <span style=\"background-color:rgba(135,206,250,0.24996324);\">drama</span> <span style=\"background-color:rgba(135,206,250,0.19835462);\">.</span> <span style=\"background-color:rgba(135,206,250,0.22598694);\">.</span> <span style=\"background-color:rgba(135,206,250,0.22675738);\">.</span> <span style=\"background-color:rgba(135,206,250,0.2290998);\">.</span> <span style=\"background-color:rgba(135,206,250,0.24877529);\">.</span> <span style=\"background-color:rgba(135,206,250,0.31877998);\">.</span> <span style=\"background-color:rgba(135,206,250,0.3360237);\">.</span> <span style=\"background-color:rgba(135,206,250,0.33984587);\">.</span> <span style=\"background-color:rgba(135,206,250,0.41105685);\">.</span> <span style=\"background-color:rgba(135,206,250,0.35348743);\">.</span> <span style=\"background-color:rgba(135,206,250,0.42670357);\">.</span> <span style=\"background-color:rgba(135,206,250,0.49475276);\">.</span> <span style=\"background-color:rgba(135,206,250,0.48250574);\">.</span> <span style=\"background-color:rgba(135,206,250,0.5581825);\">.</span> <span style=\"background-color:rgba(135,206,250,0.49000296);\">.</span> <span style=\"background-color:rgba(135,206,250,0.62398005);\">.</span> <span style=\"background-color:rgba(135,206,250,0.53469074);\">.</span> <span style=\"background-color:rgba(135,206,250,0.6332847);\">.</span> <span style=\"background-color:rgba(135,206,250,0.7244015);\">.</span> <span style=\"background-color:rgba(135,206,250,0.84985554);\">.</span> <span style=\"background-color:rgba(135,206,250,0.91518265);\">.</span> <span style=\"background-color:rgba(135,206,250,0.9438012);\">.</span> <span style=\"background-color:rgba(135,206,250,0.8819159);\">.</span> <span style=\"background-color:rgba(135,206,250,1.0);\">.</span>"
      ],
      "text/plain": [
       "<IPython.core.display.HTML object>"
      ]
     },
     "metadata": {},
     "output_type": "display_data"
    },
    {
     "name": "stdout",
     "output_type": "stream",
     "text": [
      ".:   \t94.45%\n",
      "calmly:   \t5.44%\n",
      "steven:   \t0.03%\n",
      ",:   \t0.02%\n",
      "and:   \t0.01%\n",
      "--------\n",
      "\n"
     ]
    },
    {
     "data": {
      "text/html": [
       "<span style=\"background-color:rgba(135,206,250,0.34080428);\">K-Drama</span> <span style=\"background-color:rgba(135,206,250,0.22257715);\">title</span> <span style=\"background-color:rgba(135,206,250,0.114171594);\">:</span> <span style=\"background-color:rgba(135,206,250,0.35083735);\">Star</span> <span style=\"background-color:rgba(135,206,250,0.4743398);\">Struck</span> <span style=\"background-color:rgba(135,206,250,0.07923089);\">:</span> <span style=\"background-color:rgba(135,206,250,0.2921411);\">K-Drama</span> <span style=\"background-color:rgba(135,206,250,0.14758784);\">review</span> <span style=\"background-color:rgba(135,206,250,0.119728684);\">:</span> <span style=\"background-color:rgba(135,206,250,0.5380555);\">paradise</span> <span style=\"background-color:rgba(135,206,250,0.11661171);\">in</span> <span style=\"background-color:rgba(135,206,250,0.15771273);\">a</span> <span style=\"background-color:rgba(135,206,250,0.20273486);\">drama</span> <span style=\"background-color:rgba(135,206,250,0.22501723);\">review</span> <span style=\"background-color:rgba(135,206,250,0.1688066);\">:</span> <span style=\"background-color:rgba(135,206,250,0.16258211);\">not</span> <span style=\"background-color:rgba(135,206,250,0.17153764);\">good</span> <span style=\"background-color:rgba(135,206,250,0.22999638);\">drama</span> <span style=\"background-color:rgba(135,206,250,0.1898631);\">.</span> <span style=\"background-color:rgba(135,206,250,0.21590377);\">.</span> <span style=\"background-color:rgba(135,206,250,0.21588361);\">.</span> <span style=\"background-color:rgba(135,206,250,0.22176073);\">.</span> <span style=\"background-color:rgba(135,206,250,0.23916367);\">.</span> <span style=\"background-color:rgba(135,206,250,0.30191022);\">.</span> <span style=\"background-color:rgba(135,206,250,0.31849346);\">.</span> <span style=\"background-color:rgba(135,206,250,0.32311338);\">.</span> <span style=\"background-color:rgba(135,206,250,0.38438848);\">.</span> <span style=\"background-color:rgba(135,206,250,0.33882353);\">.</span> <span style=\"background-color:rgba(135,206,250,0.4023032);\">.</span> <span style=\"background-color:rgba(135,206,250,0.46951646);\">.</span> <span style=\"background-color:rgba(135,206,250,0.45701024);\">.</span> <span style=\"background-color:rgba(135,206,250,0.5257498);\">.</span> <span style=\"background-color:rgba(135,206,250,0.46254295);\">.</span> <span style=\"background-color:rgba(135,206,250,0.58543754);\">.</span> <span style=\"background-color:rgba(135,206,250,0.5116042);\">.</span> <span style=\"background-color:rgba(135,206,250,0.59356356);\">.</span> <span style=\"background-color:rgba(135,206,250,0.6788915);\">.</span> <span style=\"background-color:rgba(135,206,250,0.79408336);\">.</span> <span style=\"background-color:rgba(135,206,250,0.85604954);\">.</span> <span style=\"background-color:rgba(135,206,250,0.8855173);\">.</span> <span style=\"background-color:rgba(135,206,250,0.82728904);\">.</span> <span style=\"background-color:rgba(135,206,250,0.96155643);\">.</span> <span style=\"background-color:rgba(135,206,250,1.0);\">.</span>"
      ],
      "text/plain": [
       "<IPython.core.display.HTML object>"
      ]
     },
     "metadata": {},
     "output_type": "display_data"
    },
    {
     "name": "stdout",
     "output_type": "stream",
     "text": [
      ".:   \t99.9%\n",
      "~:   \t0.01%\n",
      ",:   \t0.01%\n",
      "the:   \t0.01%\n",
      "i:   \t0.01%\n",
      "--------\n",
      "\n"
     ]
    },
    {
     "data": {
      "text/html": [
       "<span style=\"background-color:rgba(135,206,250,0.3945477);\">K-Drama</span> <span style=\"background-color:rgba(135,206,250,0.27936196);\">title</span> <span style=\"background-color:rgba(135,206,250,0.14506891);\">:</span> <span style=\"background-color:rgba(135,206,250,0.4185048);\">Star</span> <span style=\"background-color:rgba(135,206,250,0.554558);\">Struck</span> <span style=\"background-color:rgba(135,206,250,0.10844965);\">:</span> <span style=\"background-color:rgba(135,206,250,0.38712215);\">K-Drama</span> <span style=\"background-color:rgba(135,206,250,0.1977566);\">review</span> <span style=\"background-color:rgba(135,206,250,0.16152921);\">:</span> <span style=\"background-color:rgba(135,206,250,0.7385067);\">paradise</span> <span style=\"background-color:rgba(135,206,250,0.14599639);\">in</span> <span style=\"background-color:rgba(135,206,250,0.18382418);\">a</span> <span style=\"background-color:rgba(135,206,250,0.26125714);\">drama</span> <span style=\"background-color:rgba(135,206,250,0.28229085);\">review</span> <span style=\"background-color:rgba(135,206,250,0.20563939);\">:</span> <span style=\"background-color:rgba(135,206,250,0.19638005);\">not</span> <span style=\"background-color:rgba(135,206,250,0.20935015);\">good</span> <span style=\"background-color:rgba(135,206,250,0.28717548);\">drama</span> <span style=\"background-color:rgba(135,206,250,0.22189115);\">.</span> <span style=\"background-color:rgba(135,206,250,0.25299552);\">.</span> <span style=\"background-color:rgba(135,206,250,0.24780083);\">.</span> <span style=\"background-color:rgba(135,206,250,0.25275028);\">.</span> <span style=\"background-color:rgba(135,206,250,0.27006197);\">.</span> <span style=\"background-color:rgba(135,206,250,0.34232506);\">.</span> <span style=\"background-color:rgba(135,206,250,0.356836);\">.</span> <span style=\"background-color:rgba(135,206,250,0.36077172);\">.</span> <span style=\"background-color:rgba(135,206,250,0.4241503);\">.</span> <span style=\"background-color:rgba(135,206,250,0.36380592);\">.</span> <span style=\"background-color:rgba(135,206,250,0.43997586);\">.</span> <span style=\"background-color:rgba(135,206,250,0.4931658);\">.</span> <span style=\"background-color:rgba(135,206,250,0.48047632);\">.</span> <span style=\"background-color:rgba(135,206,250,0.55676687);\">.</span> <span style=\"background-color:rgba(135,206,250,0.48447317);\">.</span> <span style=\"background-color:rgba(135,206,250,0.6078352);\">.</span> <span style=\"background-color:rgba(135,206,250,0.52655566);\">.</span> <span style=\"background-color:rgba(135,206,250,0.61320335);\">.</span> <span style=\"background-color:rgba(135,206,250,0.684889);\">.</span> <span style=\"background-color:rgba(135,206,250,0.787999);\">.</span> <span style=\"background-color:rgba(135,206,250,0.8512834);\">.</span> <span style=\"background-color:rgba(135,206,250,0.8611834);\">.</span> <span style=\"background-color:rgba(135,206,250,0.8027045);\">.</span> <span style=\"background-color:rgba(135,206,250,0.9100802);\">.</span> <span style=\"background-color:rgba(135,206,250,0.9750099);\">.</span> <span style=\"background-color:rgba(135,206,250,1.0);\">.</span>"
      ],
      "text/plain": [
       "<IPython.core.display.HTML object>"
      ]
     },
     "metadata": {},
     "output_type": "display_data"
    },
    {
     "name": "stdout",
     "output_type": "stream",
     "text": [
      ".:   \t99.93%\n",
      ",:   \t0.02%\n",
      "and:   \t0.01%\n",
      "unpardonably:   \t0.0%\n",
      "?:   \t0.0%\n",
      "--------\n",
      "\n"
     ]
    },
    {
     "data": {
      "text/html": [
       "<span style=\"background-color:rgba(135,206,250,0.34177995);\">K-Drama</span> <span style=\"background-color:rgba(135,206,250,0.21510038);\">title</span> <span style=\"background-color:rgba(135,206,250,0.11622522);\">:</span> <span style=\"background-color:rgba(135,206,250,0.33996353);\">Star</span> <span style=\"background-color:rgba(135,206,250,0.49862748);\">Struck</span> <span style=\"background-color:rgba(135,206,250,0.090548985);\">:</span> <span style=\"background-color:rgba(135,206,250,0.3280939);\">K-Drama</span> <span style=\"background-color:rgba(135,206,250,0.14792539);\">review</span> <span style=\"background-color:rgba(135,206,250,0.12555015);\">:</span> <span style=\"background-color:rgba(135,206,250,0.54596424);\">paradise</span> <span style=\"background-color:rgba(135,206,250,0.120838605);\">in</span> <span style=\"background-color:rgba(135,206,250,0.15763253);\">a</span> <span style=\"background-color:rgba(135,206,250,0.21297993);\">drama</span> <span style=\"background-color:rgba(135,206,250,0.22331685);\">review</span> <span style=\"background-color:rgba(135,206,250,0.17334707);\">:</span> <span style=\"background-color:rgba(135,206,250,0.17649318);\">not</span> <span style=\"background-color:rgba(135,206,250,0.18446052);\">good</span> <span style=\"background-color:rgba(135,206,250,0.24489506);\">drama</span> <span style=\"background-color:rgba(135,206,250,0.19285077);\">.</span> <span style=\"background-color:rgba(135,206,250,0.21864322);\">.</span> <span style=\"background-color:rgba(135,206,250,0.21926044);\">.</span> <span style=\"background-color:rgba(135,206,250,0.22250216);\">.</span> <span style=\"background-color:rgba(135,206,250,0.24097173);\">.</span> <span style=\"background-color:rgba(135,206,250,0.30111992);\">.</span> <span style=\"background-color:rgba(135,206,250,0.31363457);\">.</span> <span style=\"background-color:rgba(135,206,250,0.3169308);\">.</span> <span style=\"background-color:rgba(135,206,250,0.3781352);\">.</span> <span style=\"background-color:rgba(135,206,250,0.33512267);\">.</span> <span style=\"background-color:rgba(135,206,250,0.39297137);\">.</span> <span style=\"background-color:rgba(135,206,250,0.45416048);\">.</span> <span style=\"background-color:rgba(135,206,250,0.4413109);\">.</span> <span style=\"background-color:rgba(135,206,250,0.5048136);\">.</span> <span style=\"background-color:rgba(135,206,250,0.448894);\">.</span> <span style=\"background-color:rgba(135,206,250,0.5598984);\">.</span> <span style=\"background-color:rgba(135,206,250,0.48780224);\">.</span> <span style=\"background-color:rgba(135,206,250,0.5649953);\">.</span> <span style=\"background-color:rgba(135,206,250,0.6417267);\">.</span> <span style=\"background-color:rgba(135,206,250,0.74848795);\">.</span> <span style=\"background-color:rgba(135,206,250,0.79885614);\">.</span> <span style=\"background-color:rgba(135,206,250,0.8086854);\">.</span> <span style=\"background-color:rgba(135,206,250,0.7573781);\">.</span> <span style=\"background-color:rgba(135,206,250,0.87323636);\">.</span> <span style=\"background-color:rgba(135,206,250,0.9251453);\">.</span> <span style=\"background-color:rgba(135,206,250,1.0);\">.</span> <span style=\"background-color:rgba(135,206,250,0.9177557);\">.</span>"
      ],
      "text/plain": [
       "<IPython.core.display.HTML object>"
      ]
     },
     "metadata": {},
     "output_type": "display_data"
    },
    {
     "name": "stdout",
     "output_type": "stream",
     "text": [
      ".:   \t99.9%\n",
      "~:   \t0.03%\n",
      ",:   \t0.02%\n",
      "unpardonably:   \t0.01%\n",
      "and:   \t0.01%\n",
      "--------\n",
      "\n"
     ]
    },
    {
     "data": {
      "text/html": [
       "<span style=\"background-color:rgba(135,206,250,0.33397517);\">K-Drama</span> <span style=\"background-color:rgba(135,206,250,0.1966396);\">title</span> <span style=\"background-color:rgba(135,206,250,0.1069258);\">:</span> <span style=\"background-color:rgba(135,206,250,0.32499135);\">Star</span> <span style=\"background-color:rgba(135,206,250,0.49605918);\">Struck</span> <span style=\"background-color:rgba(135,206,250,0.086657174);\">:</span> <span style=\"background-color:rgba(135,206,250,0.31767032);\">K-Drama</span> <span style=\"background-color:rgba(135,206,250,0.13468254);\">review</span> <span style=\"background-color:rgba(135,206,250,0.11540468);\">:</span> <span style=\"background-color:rgba(135,206,250,0.5028867);\">paradise</span> <span style=\"background-color:rgba(135,206,250,0.11436174);\">in</span> <span style=\"background-color:rgba(135,206,250,0.15082277);\">a</span> <span style=\"background-color:rgba(135,206,250,0.19762887);\">drama</span> <span style=\"background-color:rgba(135,206,250,0.20767887);\">review</span> <span style=\"background-color:rgba(135,206,250,0.1630502);\">:</span> <span style=\"background-color:rgba(135,206,250,0.17338368);\">not</span> <span style=\"background-color:rgba(135,206,250,0.187866);\">good</span> <span style=\"background-color:rgba(135,206,250,0.23063403);\">drama</span> <span style=\"background-color:rgba(135,206,250,0.18720989);\">.</span> <span style=\"background-color:rgba(135,206,250,0.21328121);\">.</span> <span style=\"background-color:rgba(135,206,250,0.2153959);\">.</span> <span style=\"background-color:rgba(135,206,250,0.21721135);\">.</span> <span style=\"background-color:rgba(135,206,250,0.2365003);\">.</span> <span style=\"background-color:rgba(135,206,250,0.29522297);\">.</span> <span style=\"background-color:rgba(135,206,250,0.30477858);\">.</span> <span style=\"background-color:rgba(135,206,250,0.30885863);\">.</span> <span style=\"background-color:rgba(135,206,250,0.37041634);\">.</span> <span style=\"background-color:rgba(135,206,250,0.3306248);\">.</span> <span style=\"background-color:rgba(135,206,250,0.38509014);\">.</span> <span style=\"background-color:rgba(135,206,250,0.44439325);\">.</span> <span style=\"background-color:rgba(135,206,250,0.42970324);\">.</span> <span style=\"background-color:rgba(135,206,250,0.48583436);\">.</span> <span style=\"background-color:rgba(135,206,250,0.43457776);\">.</span> <span style=\"background-color:rgba(135,206,250,0.5424957);\">.</span> <span style=\"background-color:rgba(135,206,250,0.47568536);\">.</span> <span style=\"background-color:rgba(135,206,250,0.5475661);\">.</span> <span style=\"background-color:rgba(135,206,250,0.62124854);\">.</span> <span style=\"background-color:rgba(135,206,250,0.7153323);\">.</span> <span style=\"background-color:rgba(135,206,250,0.7614385);\">.</span> <span style=\"background-color:rgba(135,206,250,0.771768);\">.</span> <span style=\"background-color:rgba(135,206,250,0.715944);\">.</span> <span style=\"background-color:rgba(135,206,250,0.83171654);\">.</span> <span style=\"background-color:rgba(135,206,250,0.87032276);\">.</span> <span style=\"background-color:rgba(135,206,250,0.9487443);\">.</span> <span style=\"background-color:rgba(135,206,250,0.8892);\">.</span> <span style=\"background-color:rgba(135,206,250,1.0);\">.</span>"
      ],
      "text/plain": [
       "<IPython.core.display.HTML object>"
      ]
     },
     "metadata": {},
     "output_type": "display_data"
    },
    {
     "name": "stdout",
     "output_type": "stream",
     "text": [
      ".:   \t99.85%\n",
      "statutory:   \t0.05%\n",
      ",:   \t0.03%\n",
      "~:   \t0.02%\n",
      "unpardonably:   \t0.01%\n",
      "--------\n",
      "\n"
     ]
    },
    {
     "data": {
      "text/html": [
       "<span style=\"background-color:rgba(135,206,250,0.33094382);\">K-Drama</span> <span style=\"background-color:rgba(135,206,250,0.19807734);\">title</span> <span style=\"background-color:rgba(135,206,250,0.10747532);\">:</span> <span style=\"background-color:rgba(135,206,250,0.32421854);\">Star</span> <span style=\"background-color:rgba(135,206,250,0.48598832);\">Struck</span> <span style=\"background-color:rgba(135,206,250,0.07751082);\">:</span> <span style=\"background-color:rgba(135,206,250,0.30343193);\">K-Drama</span> <span style=\"background-color:rgba(135,206,250,0.12668179);\">review</span> <span style=\"background-color:rgba(135,206,250,0.11261872);\">:</span> <span style=\"background-color:rgba(135,206,250,0.54354054);\">paradise</span> <span style=\"background-color:rgba(135,206,250,0.10161042);\">in</span> <span style=\"background-color:rgba(135,206,250,0.13703881);\">a</span> <span style=\"background-color:rgba(135,206,250,0.18055514);\">drama</span> <span style=\"background-color:rgba(135,206,250,0.19149227);\">review</span> <span style=\"background-color:rgba(135,206,250,0.1623082);\">:</span> <span style=\"background-color:rgba(135,206,250,0.14810693);\">not</span> <span style=\"background-color:rgba(135,206,250,0.16310929);\">good</span> <span style=\"background-color:rgba(135,206,250,0.20982522);\">drama</span> <span style=\"background-color:rgba(135,206,250,0.17181842);\">.</span> <span style=\"background-color:rgba(135,206,250,0.19696438);\">.</span> <span style=\"background-color:rgba(135,206,250,0.19726656);\">.</span> <span style=\"background-color:rgba(135,206,250,0.20005731);\">.</span> <span style=\"background-color:rgba(135,206,250,0.21533124);\">.</span> <span style=\"background-color:rgba(135,206,250,0.27246058);\">.</span> <span style=\"background-color:rgba(135,206,250,0.28788328);\">.</span> <span style=\"background-color:rgba(135,206,250,0.29160473);\">.</span> <span style=\"background-color:rgba(135,206,250,0.34563208);\">.</span> <span style=\"background-color:rgba(135,206,250,0.3049392);\">.</span> <span style=\"background-color:rgba(135,206,250,0.35461602);\">.</span> <span style=\"background-color:rgba(135,206,250,0.4217522);\">.</span> <span style=\"background-color:rgba(135,206,250,0.40340105);\">.</span> <span style=\"background-color:rgba(135,206,250,0.46222314);\">.</span> <span style=\"background-color:rgba(135,206,250,0.4076427);\">.</span> <span style=\"background-color:rgba(135,206,250,0.5118925);\">.</span> <span style=\"background-color:rgba(135,206,250,0.4523571);\">.</span> <span style=\"background-color:rgba(135,206,250,0.5149522);\">.</span> <span style=\"background-color:rgba(135,206,250,0.5951862);\">.</span> <span style=\"background-color:rgba(135,206,250,0.6802293);\">.</span> <span style=\"background-color:rgba(135,206,250,0.72748077);\">.</span> <span style=\"background-color:rgba(135,206,250,0.74588346);\">.</span> <span style=\"background-color:rgba(135,206,250,0.6935375);\">.</span> <span style=\"background-color:rgba(135,206,250,0.8076359);\">.</span> <span style=\"background-color:rgba(135,206,250,0.83167994);\">.</span> <span style=\"background-color:rgba(135,206,250,0.91784126);\">.</span> <span style=\"background-color:rgba(135,206,250,0.8546201);\">.</span> <span style=\"background-color:rgba(135,206,250,1.0);\">.</span> <span style=\"background-color:rgba(135,206,250,0.9834788);\">.</span>"
      ],
      "text/plain": [
       "<IPython.core.display.HTML object>"
      ]
     },
     "metadata": {},
     "output_type": "display_data"
    },
    {
     "name": "stdout",
     "output_type": "stream",
     "text": [
      ".:   \t99.94%\n",
      "~:   \t0.02%\n",
      ",:   \t0.02%\n",
      "and:   \t0.0%\n",
      "?:   \t0.0%\n",
      "--------\n",
      "\n"
     ]
    },
    {
     "data": {
      "text/html": [
       "<span style=\"background-color:rgba(135,206,250,0.34576714);\">K-Drama</span> <span style=\"background-color:rgba(135,206,250,0.2277513);\">title</span> <span style=\"background-color:rgba(135,206,250,0.12739953);\">:</span> <span style=\"background-color:rgba(135,206,250,0.3435411);\">Star</span> <span style=\"background-color:rgba(135,206,250,0.5140899);\">Struck</span> <span style=\"background-color:rgba(135,206,250,0.10958041);\">:</span> <span style=\"background-color:rgba(135,206,250,0.37648353);\">K-Drama</span> <span style=\"background-color:rgba(135,206,250,0.16692208);\">review</span> <span style=\"background-color:rgba(135,206,250,0.14601247);\">:</span> <span style=\"background-color:rgba(135,206,250,0.60326284);\">paradise</span> <span style=\"background-color:rgba(135,206,250,0.12511101);\">in</span> <span style=\"background-color:rgba(135,206,250,0.15836091);\">a</span> <span style=\"background-color:rgba(135,206,250,0.23275761);\">drama</span> <span style=\"background-color:rgba(135,206,250,0.23578753);\">review</span> <span style=\"background-color:rgba(135,206,250,0.18261445);\">:</span> <span style=\"background-color:rgba(135,206,250,0.17558256);\">not</span> <span style=\"background-color:rgba(135,206,250,0.19232185);\">good</span> <span style=\"background-color:rgba(135,206,250,0.25699505);\">drama</span> <span style=\"background-color:rgba(135,206,250,0.19843349);\">.</span> <span style=\"background-color:rgba(135,206,250,0.22405124);\">.</span> <span style=\"background-color:rgba(135,206,250,0.22331719);\">.</span> <span style=\"background-color:rgba(135,206,250,0.2190575);\">.</span> <span style=\"background-color:rgba(135,206,250,0.2383771);\">.</span> <span style=\"background-color:rgba(135,206,250,0.29667783);\">.</span> <span style=\"background-color:rgba(135,206,250,0.3075023);\">.</span> <span style=\"background-color:rgba(135,206,250,0.30847588);\">.</span> <span style=\"background-color:rgba(135,206,250,0.3609069);\">.</span> <span style=\"background-color:rgba(135,206,250,0.31269917);\">.</span> <span style=\"background-color:rgba(135,206,250,0.36776444);\">.</span> <span style=\"background-color:rgba(135,206,250,0.42240465);\">.</span> <span style=\"background-color:rgba(135,206,250,0.40431532);\">.</span> <span style=\"background-color:rgba(135,206,250,0.45626652);\">.</span> <span style=\"background-color:rgba(135,206,250,0.4053011);\">.</span> <span style=\"background-color:rgba(135,206,250,0.49301565);\">.</span> <span style=\"background-color:rgba(135,206,250,0.43895447);\">.</span> <span style=\"background-color:rgba(135,206,250,0.49914083);\">.</span> <span style=\"background-color:rgba(135,206,250,0.56745243);\">.</span> <span style=\"background-color:rgba(135,206,250,0.6280537);\">.</span> <span style=\"background-color:rgba(135,206,250,0.67274916);\">.</span> <span style=\"background-color:rgba(135,206,250,0.67067987);\">.</span> <span style=\"background-color:rgba(135,206,250,0.6215326);\">.</span> <span style=\"background-color:rgba(135,206,250,0.7046349);\">.</span> <span style=\"background-color:rgba(135,206,250,0.7367805);\">.</span> <span style=\"background-color:rgba(135,206,250,0.7858863);\">.</span> <span style=\"background-color:rgba(135,206,250,0.7293641);\">.</span> <span style=\"background-color:rgba(135,206,250,0.8258516);\">.</span> <span style=\"background-color:rgba(135,206,250,0.845629);\">.</span> <span style=\"background-color:rgba(135,206,250,1.0);\">.</span>"
      ],
      "text/plain": [
       "<IPython.core.display.HTML object>"
      ]
     },
     "metadata": {},
     "output_type": "display_data"
    },
    {
     "name": "stdout",
     "output_type": "stream",
     "text": [
      ".:   \t99.92%\n",
      "calmly:   \t0.01%\n",
      "unpardonably:   \t0.01%\n",
      ",:   \t0.01%\n",
      "-:   \t0.01%\n",
      "--------\n",
      "\n"
     ]
    },
    {
     "data": {
      "text/html": [
       "<span style=\"background-color:rgba(135,206,250,0.28439113);\">K-Drama</span> <span style=\"background-color:rgba(135,206,250,0.16337474);\">title</span> <span style=\"background-color:rgba(135,206,250,0.08729627);\">:</span> <span style=\"background-color:rgba(135,206,250,0.27170718);\">Star</span> <span style=\"background-color:rgba(135,206,250,0.4297123);\">Struck</span> <span style=\"background-color:rgba(135,206,250,0.06792521);\">:</span> <span style=\"background-color:rgba(135,206,250,0.28475055);\">K-Drama</span> <span style=\"background-color:rgba(135,206,250,0.111769885);\">review</span> <span style=\"background-color:rgba(135,206,250,0.0973849);\">:</span> <span style=\"background-color:rgba(135,206,250,0.46496752);\">paradise</span> <span style=\"background-color:rgba(135,206,250,0.0895675);\">in</span> <span style=\"background-color:rgba(135,206,250,0.11348301);\">a</span> <span style=\"background-color:rgba(135,206,250,0.16269304);\">drama</span> <span style=\"background-color:rgba(135,206,250,0.15914395);\">review</span> <span style=\"background-color:rgba(135,206,250,0.13344993);\">:</span> <span style=\"background-color:rgba(135,206,250,0.1301818);\">not</span> <span style=\"background-color:rgba(135,206,250,0.13865389);\">good</span> <span style=\"background-color:rgba(135,206,250,0.18292782);\">drama</span> <span style=\"background-color:rgba(135,206,250,0.14202553);\">.</span> <span style=\"background-color:rgba(135,206,250,0.16064756);\">.</span> <span style=\"background-color:rgba(135,206,250,0.16250359);\">.</span> <span style=\"background-color:rgba(135,206,250,0.1607351);\">.</span> <span style=\"background-color:rgba(135,206,250,0.17489396);\">.</span> <span style=\"background-color:rgba(135,206,250,0.22227691);\">.</span> <span style=\"background-color:rgba(135,206,250,0.23619305);\">.</span> <span style=\"background-color:rgba(135,206,250,0.23719676);\">.</span> <span style=\"background-color:rgba(135,206,250,0.28305766);\">.</span> <span style=\"background-color:rgba(135,206,250,0.24266273);\">.</span> <span style=\"background-color:rgba(135,206,250,0.2894688);\">.</span> <span style=\"background-color:rgba(135,206,250,0.33806014);\">.</span> <span style=\"background-color:rgba(135,206,250,0.32821763);\">.</span> <span style=\"background-color:rgba(135,206,250,0.37639353);\">.</span> <span style=\"background-color:rgba(135,206,250,0.33103725);\">.</span> <span style=\"background-color:rgba(135,206,250,0.4115717);\">.</span> <span style=\"background-color:rgba(135,206,250,0.3629929);\">.</span> <span style=\"background-color:rgba(135,206,250,0.4208546);\">.</span> <span style=\"background-color:rgba(135,206,250,0.48913068);\">.</span> <span style=\"background-color:rgba(135,206,250,0.54817283);\">.</span> <span style=\"background-color:rgba(135,206,250,0.5983458);\">.</span> <span style=\"background-color:rgba(135,206,250,0.5998219);\">.</span> <span style=\"background-color:rgba(135,206,250,0.5644237);\">.</span> <span style=\"background-color:rgba(135,206,250,0.63975185);\">.</span> <span style=\"background-color:rgba(135,206,250,0.6736677);\">.</span> <span style=\"background-color:rgba(135,206,250,0.7274584);\">.</span> <span style=\"background-color:rgba(135,206,250,0.6713661);\">.</span> <span style=\"background-color:rgba(135,206,250,0.7835987);\">.</span> <span style=\"background-color:rgba(135,206,250,0.8017562);\">.</span> <span style=\"background-color:rgba(135,206,250,1.0);\">.</span> <span style=\"background-color:rgba(135,206,250,0.9898238);\">.</span>"
      ],
      "text/plain": [
       "<IPython.core.display.HTML object>"
      ]
     },
     "metadata": {},
     "output_type": "display_data"
    },
    {
     "name": "stdout",
     "output_type": "stream",
     "text": [
      ".:   \t99.91%\n",
      "~:   \t0.02%\n",
      ",:   \t0.02%\n",
      "and:   \t0.01%\n",
      "calmly:   \t0.0%\n",
      "--------\n",
      "\n"
     ]
    },
    {
     "data": {
      "text/html": [
       "<span style=\"background-color:rgba(135,206,250,0.3046095);\">K-Drama</span> <span style=\"background-color:rgba(135,206,250,0.20946415);\">title</span> <span style=\"background-color:rgba(135,206,250,0.1148382);\">:</span> <span style=\"background-color:rgba(135,206,250,0.31987125);\">Star</span> <span style=\"background-color:rgba(135,206,250,0.4397555);\">Struck</span> <span style=\"background-color:rgba(135,206,250,0.08357138);\">:</span> <span style=\"background-color:rgba(135,206,250,0.3098299);\">K-Drama</span> <span style=\"background-color:rgba(135,206,250,0.14719576);\">review</span> <span style=\"background-color:rgba(135,206,250,0.12919722);\">:</span> <span style=\"background-color:rgba(135,206,250,0.57918835);\">paradise</span> <span style=\"background-color:rgba(135,206,250,0.10564057);\">in</span> <span style=\"background-color:rgba(135,206,250,0.1466441);\">a</span> <span style=\"background-color:rgba(135,206,250,0.20114163);\">drama</span> <span style=\"background-color:rgba(135,206,250,0.20972882);\">review</span> <span style=\"background-color:rgba(135,206,250,0.16125779);\">:</span> <span style=\"background-color:rgba(135,206,250,0.13915418);\">not</span> <span style=\"background-color:rgba(135,206,250,0.15654899);\">good</span> <span style=\"background-color:rgba(135,206,250,0.20921884);\">drama</span> <span style=\"background-color:rgba(135,206,250,0.16888778);\">.</span> <span style=\"background-color:rgba(135,206,250,0.19326136);\">.</span> <span style=\"background-color:rgba(135,206,250,0.1900432);\">.</span> <span style=\"background-color:rgba(135,206,250,0.19009306);\">.</span> <span style=\"background-color:rgba(135,206,250,0.20394042);\">.</span> <span style=\"background-color:rgba(135,206,250,0.2597378);\">.</span> <span style=\"background-color:rgba(135,206,250,0.27324477);\">.</span> <span style=\"background-color:rgba(135,206,250,0.2724257);\">.</span> <span style=\"background-color:rgba(135,206,250,0.3239437);\">.</span> <span style=\"background-color:rgba(135,206,250,0.27340427);\">.</span> <span style=\"background-color:rgba(135,206,250,0.32668585);\">.</span> <span style=\"background-color:rgba(135,206,250,0.3815223);\">.</span> <span style=\"background-color:rgba(135,206,250,0.3600378);\">.</span> <span style=\"background-color:rgba(135,206,250,0.41156676);\">.</span> <span style=\"background-color:rgba(135,206,250,0.356648);\">.</span> <span style=\"background-color:rgba(135,206,250,0.455188);\">.</span> <span style=\"background-color:rgba(135,206,250,0.3888409);\">.</span> <span style=\"background-color:rgba(135,206,250,0.44813025);\">.</span> <span style=\"background-color:rgba(135,206,250,0.51382196);\">.</span> <span style=\"background-color:rgba(135,206,250,0.5802634);\">.</span> <span style=\"background-color:rgba(135,206,250,0.6356889);\">.</span> <span style=\"background-color:rgba(135,206,250,0.635952);\">.</span> <span style=\"background-color:rgba(135,206,250,0.57876843);\">.</span> <span style=\"background-color:rgba(135,206,250,0.6608508);\">.</span> <span style=\"background-color:rgba(135,206,250,0.6832032);\">.</span> <span style=\"background-color:rgba(135,206,250,0.72569895);\">.</span> <span style=\"background-color:rgba(135,206,250,0.6605981);\">.</span> <span style=\"background-color:rgba(135,206,250,0.76261175);\">.</span> <span style=\"background-color:rgba(135,206,250,0.7631088);\">.</span> <span style=\"background-color:rgba(135,206,250,0.9643394);\">.</span> <span style=\"background-color:rgba(135,206,250,1.0);\">.</span> <span style=\"background-color:rgba(135,206,250,0.9533901);\">.</span>"
      ],
      "text/plain": [
       "<IPython.core.display.HTML object>"
      ]
     },
     "metadata": {},
     "output_type": "display_data"
    },
    {
     "name": "stdout",
     "output_type": "stream",
     "text": [
      ".:   \t99.93%\n",
      ",:   \t0.01%\n",
      "and:   \t0.01%\n",
      "unpardonably:   \t0.0%\n",
      "*:   \t0.0%\n",
      "--------\n",
      "\n"
     ]
    },
    {
     "data": {
      "text/html": [
       "<span style=\"background-color:rgba(135,206,250,0.27413884);\">K-Drama</span> <span style=\"background-color:rgba(135,206,250,0.15905413);\">title</span> <span style=\"background-color:rgba(135,206,250,0.09725503);\">:</span> <span style=\"background-color:rgba(135,206,250,0.2630945);\">Star</span> <span style=\"background-color:rgba(135,206,250,0.4292075);\">Struck</span> <span style=\"background-color:rgba(135,206,250,0.07150658);\">:</span> <span style=\"background-color:rgba(135,206,250,0.28735203);\">K-Drama</span> <span style=\"background-color:rgba(135,206,250,0.10451025);\">review</span> <span style=\"background-color:rgba(135,206,250,0.106942825);\">:</span> <span style=\"background-color:rgba(135,206,250,0.4997253);\">paradise</span> <span style=\"background-color:rgba(135,206,250,0.07811207);\">in</span> <span style=\"background-color:rgba(135,206,250,0.11472869);\">a</span> <span style=\"background-color:rgba(135,206,250,0.15491533);\">drama</span> <span style=\"background-color:rgba(135,206,250,0.14433329);\">review</span> <span style=\"background-color:rgba(135,206,250,0.1416418);\">:</span> <span style=\"background-color:rgba(135,206,250,0.11629976);\">not</span> <span style=\"background-color:rgba(135,206,250,0.12742928);\">good</span> <span style=\"background-color:rgba(135,206,250,0.16536534);\">drama</span> <span style=\"background-color:rgba(135,206,250,0.13572033);\">.</span> <span style=\"background-color:rgba(135,206,250,0.15659471);\">.</span> <span style=\"background-color:rgba(135,206,250,0.15714665);\">.</span> <span style=\"background-color:rgba(135,206,250,0.15069741);\">.</span> <span style=\"background-color:rgba(135,206,250,0.16445267);\">.</span> <span style=\"background-color:rgba(135,206,250,0.21220288);\">.</span> <span style=\"background-color:rgba(135,206,250,0.2285536);\">.</span> <span style=\"background-color:rgba(135,206,250,0.22645271);\">.</span> <span style=\"background-color:rgba(135,206,250,0.27156863);\">.</span> <span style=\"background-color:rgba(135,206,250,0.23029447);\">.</span> <span style=\"background-color:rgba(135,206,250,0.26757157);\">.</span> <span style=\"background-color:rgba(135,206,250,0.33563125);\">.</span> <span style=\"background-color:rgba(135,206,250,0.3108796);\">.</span> <span style=\"background-color:rgba(135,206,250,0.3563448);\">.</span> <span style=\"background-color:rgba(135,206,250,0.3149877);\">.</span> <span style=\"background-color:rgba(135,206,250,0.3857668);\">.</span> <span style=\"background-color:rgba(135,206,250,0.34341493);\">.</span> <span style=\"background-color:rgba(135,206,250,0.3849162);\">.</span> <span style=\"background-color:rgba(135,206,250,0.46569115);\">.</span> <span style=\"background-color:rgba(135,206,250,0.5283307);\">.</span> <span style=\"background-color:rgba(135,206,250,0.5637028);\">.</span> <span style=\"background-color:rgba(135,206,250,0.5777598);\">.</span> <span style=\"background-color:rgba(135,206,250,0.51731676);\">.</span> <span style=\"background-color:rgba(135,206,250,0.594877);\">.</span> <span style=\"background-color:rgba(135,206,250,0.61205065);\">.</span> <span style=\"background-color:rgba(135,206,250,0.68328625);\">.</span> <span style=\"background-color:rgba(135,206,250,0.62034607);\">.</span> <span style=\"background-color:rgba(135,206,250,0.72922677);\">.</span> <span style=\"background-color:rgba(135,206,250,0.72623354);\">.</span> <span style=\"background-color:rgba(135,206,250,0.92115086);\">.</span> <span style=\"background-color:rgba(135,206,250,0.9310194);\">.</span> <span style=\"background-color:rgba(135,206,250,0.96041137);\">.</span> <span style=\"background-color:rgba(135,206,250,1.0);\">.</span>"
      ],
      "text/plain": [
       "<IPython.core.display.HTML object>"
      ]
     },
     "metadata": {},
     "output_type": "display_data"
    },
    {
     "name": "stdout",
     "output_type": "stream",
     "text": [
      ".:   \t99.89%\n",
      "~:   \t0.03%\n",
      ",:   \t0.02%\n",
      "and:   \t0.01%\n",
      "the:   \t0.01%\n",
      "--------\n",
      "\n"
     ]
    },
    {
     "data": {
      "text/html": [
       "<span style=\"background-color:rgba(135,206,250,0.3048513);\">K-Drama</span> <span style=\"background-color:rgba(135,206,250,0.20313989);\">title</span> <span style=\"background-color:rgba(135,206,250,0.11217468);\">:</span> <span style=\"background-color:rgba(135,206,250,0.3091139);\">Star</span> <span style=\"background-color:rgba(135,206,250,0.44286725);\">Struck</span> <span style=\"background-color:rgba(135,206,250,0.078529544);\">:</span> <span style=\"background-color:rgba(135,206,250,0.30515957);\">K-Drama</span> <span style=\"background-color:rgba(135,206,250,0.13829456);\">review</span> <span style=\"background-color:rgba(135,206,250,0.12134993);\">:</span> <span style=\"background-color:rgba(135,206,250,0.5628919);\">paradise</span> <span style=\"background-color:rgba(135,206,250,0.0975722);\">in</span> <span style=\"background-color:rgba(135,206,250,0.1372311);\">a</span> <span style=\"background-color:rgba(135,206,250,0.17651074);\">drama</span> <span style=\"background-color:rgba(135,206,250,0.18923333);\">review</span> <span style=\"background-color:rgba(135,206,250,0.15779945);\">:</span> <span style=\"background-color:rgba(135,206,250,0.12536812);\">not</span> <span style=\"background-color:rgba(135,206,250,0.15283895);\">good</span> <span style=\"background-color:rgba(135,206,250,0.18942577);\">drama</span> <span style=\"background-color:rgba(135,206,250,0.16059342);\">.</span> <span style=\"background-color:rgba(135,206,250,0.18567401);\">.</span> <span style=\"background-color:rgba(135,206,250,0.18191841);\">.</span> <span style=\"background-color:rgba(135,206,250,0.18119285);\">.</span> <span style=\"background-color:rgba(135,206,250,0.19255596);\">.</span> <span style=\"background-color:rgba(135,206,250,0.24321043);\">.</span> <span style=\"background-color:rgba(135,206,250,0.2560089);\">.</span> <span style=\"background-color:rgba(135,206,250,0.25555816);\">.</span> <span style=\"background-color:rgba(135,206,250,0.30081356);\">.</span> <span style=\"background-color:rgba(135,206,250,0.25731707);\">.</span> <span style=\"background-color:rgba(135,206,250,0.29923066);\">.</span> <span style=\"background-color:rgba(135,206,250,0.35065675);\">.</span> <span style=\"background-color:rgba(135,206,250,0.33110332);\">.</span> <span style=\"background-color:rgba(135,206,250,0.37379453);\">.</span> <span style=\"background-color:rgba(135,206,250,0.32844672);\">.</span> <span style=\"background-color:rgba(135,206,250,0.41504872);\">.</span> <span style=\"background-color:rgba(135,206,250,0.35780817);\">.</span> <span style=\"background-color:rgba(135,206,250,0.406472);\">.</span> <span style=\"background-color:rgba(135,206,250,0.46111983);\">.</span> <span style=\"background-color:rgba(135,206,250,0.5161485);\">.</span> <span style=\"background-color:rgba(135,206,250,0.5553385);\">.</span> <span style=\"background-color:rgba(135,206,250,0.5648437);\">.</span> <span style=\"background-color:rgba(135,206,250,0.5161631);\">.</span> <span style=\"background-color:rgba(135,206,250,0.58976793);\">.</span> <span style=\"background-color:rgba(135,206,250,0.60222167);\">.</span> <span style=\"background-color:rgba(135,206,250,0.6474416);\">.</span> <span style=\"background-color:rgba(135,206,250,0.5996562);\">.</span> <span style=\"background-color:rgba(135,206,250,0.69557136);\">.</span> <span style=\"background-color:rgba(135,206,250,0.66905713);\">.</span> <span style=\"background-color:rgba(135,206,250,0.8477252);\">.</span> <span style=\"background-color:rgba(135,206,250,0.8626785);\">.</span> <span style=\"background-color:rgba(135,206,250,0.86027473);\">.</span> <span style=\"background-color:rgba(135,206,250,0.9844663);\">.</span> <span style=\"background-color:rgba(135,206,250,1.0);\">.</span>"
      ],
      "text/plain": [
       "<IPython.core.display.HTML object>"
      ]
     },
     "metadata": {},
     "output_type": "display_data"
    },
    {
     "name": "stdout",
     "output_type": "stream",
     "text": [
      ".:   \t99.92%\n",
      ",:   \t0.02%\n",
      "?:   \t0.01%\n",
      "and:   \t0.01%\n",
      "~:   \t0.01%\n",
      "--------\n",
      "\n"
     ]
    },
    {
     "data": {
      "text/html": [
       "<span style=\"background-color:rgba(135,206,250,0.24684188);\">K-Drama</span> <span style=\"background-color:rgba(135,206,250,0.150643);\">title</span> <span style=\"background-color:rgba(135,206,250,0.086790375);\">:</span> <span style=\"background-color:rgba(135,206,250,0.24242336);\">Star</span> <span style=\"background-color:rgba(135,206,250,0.3671005);\">Struck</span> <span style=\"background-color:rgba(135,206,250,0.061142094);\">:</span> <span style=\"background-color:rgba(135,206,250,0.24768807);\">K-Drama</span> <span style=\"background-color:rgba(135,206,250,0.10024182);\">review</span> <span style=\"background-color:rgba(135,206,250,0.094587944);\">:</span> <span style=\"background-color:rgba(135,206,250,0.43317366);\">paradise</span> <span style=\"background-color:rgba(135,206,250,0.07668189);\">in</span> <span style=\"background-color:rgba(135,206,250,0.100847326);\">a</span> <span style=\"background-color:rgba(135,206,250,0.13959846);\">drama</span> <span style=\"background-color:rgba(135,206,250,0.13993655);\">review</span> <span style=\"background-color:rgba(135,206,250,0.12684558);\">:</span> <span style=\"background-color:rgba(135,206,250,0.10200897);\">not</span> <span style=\"background-color:rgba(135,206,250,0.11645708);\">good</span> <span style=\"background-color:rgba(135,206,250,0.15273422);\">drama</span> <span style=\"background-color:rgba(135,206,250,0.12384696);\">.</span> <span style=\"background-color:rgba(135,206,250,0.14086825);\">.</span> <span style=\"background-color:rgba(135,206,250,0.14106046);\">.</span> <span style=\"background-color:rgba(135,206,250,0.13847725);\">.</span> <span style=\"background-color:rgba(135,206,250,0.15035237);\">.</span> <span style=\"background-color:rgba(135,206,250,0.19194506);\">.</span> <span style=\"background-color:rgba(135,206,250,0.2056797);\">.</span> <span style=\"background-color:rgba(135,206,250,0.20621306);\">.</span> <span style=\"background-color:rgba(135,206,250,0.24196732);\">.</span> <span style=\"background-color:rgba(135,206,250,0.20416872);\">.</span> <span style=\"background-color:rgba(135,206,250,0.24208759);\">.</span> <span style=\"background-color:rgba(135,206,250,0.2904069);\">.</span> <span style=\"background-color:rgba(135,206,250,0.27566814);\">.</span> <span style=\"background-color:rgba(135,206,250,0.3175737);\">.</span> <span style=\"background-color:rgba(135,206,250,0.27567282);\">.</span> <span style=\"background-color:rgba(135,206,250,0.3442934);\">.</span> <span style=\"background-color:rgba(135,206,250,0.30425882);\">.</span> <span style=\"background-color:rgba(135,206,250,0.3461051);\">.</span> <span style=\"background-color:rgba(135,206,250,0.41109893);\">.</span> <span style=\"background-color:rgba(135,206,250,0.44859183);\">.</span> <span style=\"background-color:rgba(135,206,250,0.49216202);\">.</span> <span style=\"background-color:rgba(135,206,250,0.49696025);\">.</span> <span style=\"background-color:rgba(135,206,250,0.46212652);\">.</span> <span style=\"background-color:rgba(135,206,250,0.5244421);\">.</span> <span style=\"background-color:rgba(135,206,250,0.54630643);\">.</span> <span style=\"background-color:rgba(135,206,250,0.5896071);\">.</span> <span style=\"background-color:rgba(135,206,250,0.54008716);\">.</span> <span style=\"background-color:rgba(135,206,250,0.6328564);\">.</span> <span style=\"background-color:rgba(135,206,250,0.63966936);\">.</span> <span style=\"background-color:rgba(135,206,250,0.7984075);\">.</span> <span style=\"background-color:rgba(135,206,250,0.8048555);\">.</span> <span style=\"background-color:rgba(135,206,250,0.8069568);\">.</span> <span style=\"background-color:rgba(135,206,250,0.9176348);\">.</span> <span style=\"background-color:rgba(135,206,250,1.0);\">.</span> <span style=\"background-color:rgba(135,206,250,0.9770523);\">.</span>"
      ],
      "text/plain": [
       "<IPython.core.display.HTML object>"
      ]
     },
     "metadata": {},
     "output_type": "display_data"
    },
    {
     "name": "stdout",
     "output_type": "stream",
     "text": [
      ".:   \t99.95%\n",
      ",:   \t0.01%\n",
      "~:   \t0.01%\n",
      "and:   \t0.01%\n",
      "?:   \t0.0%\n",
      "--------\n",
      "\n"
     ]
    },
    {
     "data": {
      "text/html": [
       "<span style=\"background-color:rgba(135,206,250,0.25228772);\">K-Drama</span> <span style=\"background-color:rgba(135,206,250,0.15928254);\">title</span> <span style=\"background-color:rgba(135,206,250,0.08123288);\">:</span> <span style=\"background-color:rgba(135,206,250,0.2472071);\">Star</span> <span style=\"background-color:rgba(135,206,250,0.3774381);\">Struck</span> <span style=\"background-color:rgba(135,206,250,0.05836558);\">:</span> <span style=\"background-color:rgba(135,206,250,0.24799374);\">K-Drama</span> <span style=\"background-color:rgba(135,206,250,0.10349715);\">review</span> <span style=\"background-color:rgba(135,206,250,0.08806246);\">:</span> <span style=\"background-color:rgba(135,206,250,0.47197536);\">paradise</span> <span style=\"background-color:rgba(135,206,250,0.07327212);\">in</span> <span style=\"background-color:rgba(135,206,250,0.101013236);\">a</span> <span style=\"background-color:rgba(135,206,250,0.13579306);\">drama</span> <span style=\"background-color:rgba(135,206,250,0.14751957);\">review</span> <span style=\"background-color:rgba(135,206,250,0.1204891);\">:</span> <span style=\"background-color:rgba(135,206,250,0.10123698);\">not</span> <span style=\"background-color:rgba(135,206,250,0.117547594);\">good</span> <span style=\"background-color:rgba(135,206,250,0.15093572);\">drama</span> <span style=\"background-color:rgba(135,206,250,0.12274605);\">.</span> <span style=\"background-color:rgba(135,206,250,0.14228848);\">.</span> <span style=\"background-color:rgba(135,206,250,0.14001843);\">.</span> <span style=\"background-color:rgba(135,206,250,0.14056727);\">.</span> <span style=\"background-color:rgba(135,206,250,0.14805894);\">.</span> <span style=\"background-color:rgba(135,206,250,0.18924943);\">.</span> <span style=\"background-color:rgba(135,206,250,0.20004311);\">.</span> <span style=\"background-color:rgba(135,206,250,0.19984907);\">.</span> <span style=\"background-color:rgba(135,206,250,0.23863961);\">.</span> <span style=\"background-color:rgba(135,206,250,0.20390134);\">.</span> <span style=\"background-color:rgba(135,206,250,0.2372482);\">.</span> <span style=\"background-color:rgba(135,206,250,0.283299);\">.</span> <span style=\"background-color:rgba(135,206,250,0.26508927);\">.</span> <span style=\"background-color:rgba(135,206,250,0.3037789);\">.</span> <span style=\"background-color:rgba(135,206,250,0.2651439);\">.</span> <span style=\"background-color:rgba(135,206,250,0.33507574);\">.</span> <span style=\"background-color:rgba(135,206,250,0.29031122);\">.</span> <span style=\"background-color:rgba(135,206,250,0.33013406);\">.</span> <span style=\"background-color:rgba(135,206,250,0.3783317);\">.</span> <span style=\"background-color:rgba(135,206,250,0.43214613);\">.</span> <span style=\"background-color:rgba(135,206,250,0.4630271);\">.</span> <span style=\"background-color:rgba(135,206,250,0.46731952);\">.</span> <span style=\"background-color:rgba(135,206,250,0.42758247);\">.</span> <span style=\"background-color:rgba(135,206,250,0.49163532);\">.</span> <span style=\"background-color:rgba(135,206,250,0.501897);\">.</span> <span style=\"background-color:rgba(135,206,250,0.5516735);\">.</span> <span style=\"background-color:rgba(135,206,250,0.5086266);\">.</span> <span style=\"background-color:rgba(135,206,250,0.59506655);\">.</span> <span style=\"background-color:rgba(135,206,250,0.57902426);\">.</span> <span style=\"background-color:rgba(135,206,250,0.73412675);\">.</span> <span style=\"background-color:rgba(135,206,250,0.7365863);\">.</span> <span style=\"background-color:rgba(135,206,250,0.74809897);\">.</span> <span style=\"background-color:rgba(135,206,250,0.8228672);\">.</span> <span style=\"background-color:rgba(135,206,250,0.8860742);\">.</span> <span style=\"background-color:rgba(135,206,250,0.9167028);\">.</span> <span style=\"background-color:rgba(135,206,250,1.0);\">.</span>"
      ],
      "text/plain": [
       "<IPython.core.display.HTML object>"
      ]
     },
     "metadata": {},
     "output_type": "display_data"
    },
    {
     "name": "stdout",
     "output_type": "stream",
     "text": [
      ".:   \t99.67%\n",
      "unpardonably:   \t0.29%\n",
      ",:   \t0.01%\n",
      "~:   \t0.0%\n",
      "and:   \t0.0%\n",
      "--------\n",
      "\n"
     ]
    },
    {
     "data": {
      "text/html": [
       "<span style=\"background-color:rgba(135,206,250,0.21817751);\">K-Drama</span> <span style=\"background-color:rgba(135,206,250,0.13637702);\">title</span> <span style=\"background-color:rgba(135,206,250,0.082090005);\">:</span> <span style=\"background-color:rgba(135,206,250,0.2151699);\">Star</span> <span style=\"background-color:rgba(135,206,250,0.33853218);\">Struck</span> <span style=\"background-color:rgba(135,206,250,0.056529474);\">:</span> <span style=\"background-color:rgba(135,206,250,0.23919687);\">K-Drama</span> <span style=\"background-color:rgba(135,206,250,0.09040144);\">review</span> <span style=\"background-color:rgba(135,206,250,0.09088522);\">:</span> <span style=\"background-color:rgba(135,206,250,0.42210045);\">paradise</span> <span style=\"background-color:rgba(135,206,250,0.06709859);\">in</span> <span style=\"background-color:rgba(135,206,250,0.09205837);\">a</span> <span style=\"background-color:rgba(135,206,250,0.1325049);\">drama</span> <span style=\"background-color:rgba(135,206,250,0.12375085);\">review</span> <span style=\"background-color:rgba(135,206,250,0.11842788);\">:</span> <span style=\"background-color:rgba(135,206,250,0.08869941);\">not</span> <span style=\"background-color:rgba(135,206,250,0.101317935);\">good</span> <span style=\"background-color:rgba(135,206,250,0.14062971);\">drama</span> <span style=\"background-color:rgba(135,206,250,0.1083337);\">.</span> <span style=\"background-color:rgba(135,206,250,0.12372066);\">.</span> <span style=\"background-color:rgba(135,206,250,0.12297557);\">.</span> <span style=\"background-color:rgba(135,206,250,0.12014778);\">.</span> <span style=\"background-color:rgba(135,206,250,0.12961401);\">.</span> <span style=\"background-color:rgba(135,206,250,0.1672416);\">.</span> <span style=\"background-color:rgba(135,206,250,0.17953376);\">.</span> <span style=\"background-color:rgba(135,206,250,0.17806199);\">.</span> <span style=\"background-color:rgba(135,206,250,0.21095403);\">.</span> <span style=\"background-color:rgba(135,206,250,0.1750931);\">.</span> <span style=\"background-color:rgba(135,206,250,0.20799565);\">.</span> <span style=\"background-color:rgba(135,206,250,0.2520572);\">.</span> <span style=\"background-color:rgba(135,206,250,0.23494457);\">.</span> <span style=\"background-color:rgba(135,206,250,0.2759829);\">.</span> <span style=\"background-color:rgba(135,206,250,0.23658863);\">.</span> <span style=\"background-color:rgba(135,206,250,0.297916);\">.</span> <span style=\"background-color:rgba(135,206,250,0.25652713);\">.</span> <span style=\"background-color:rgba(135,206,250,0.29905793);\">.</span> <span style=\"background-color:rgba(135,206,250,0.3517163);\">.</span> <span style=\"background-color:rgba(135,206,250,0.3877279);\">.</span> <span style=\"background-color:rgba(135,206,250,0.43026176);\">.</span> <span style=\"background-color:rgba(135,206,250,0.42982212);\">.</span> <span style=\"background-color:rgba(135,206,250,0.39675313);\">.</span> <span style=\"background-color:rgba(135,206,250,0.44775444);\">.</span> <span style=\"background-color:rgba(135,206,250,0.46795887);\">.</span> <span style=\"background-color:rgba(135,206,250,0.5051061);\">.</span> <span style=\"background-color:rgba(135,206,250,0.45567298);\">.</span> <span style=\"background-color:rgba(135,206,250,0.53798157);\">.</span> <span style=\"background-color:rgba(135,206,250,0.53751594);\">.</span> <span style=\"background-color:rgba(135,206,250,0.6881705);\">.</span> <span style=\"background-color:rgba(135,206,250,0.6945218);\">.</span> <span style=\"background-color:rgba(135,206,250,0.68046755);\">.</span> <span style=\"background-color:rgba(135,206,250,0.76532775);\">.</span> <span style=\"background-color:rgba(135,206,250,0.84094185);\">.</span> <span style=\"background-color:rgba(135,206,250,0.8307887);\">.</span> <span style=\"background-color:rgba(135,206,250,1.0);\">.</span> <span style=\"background-color:rgba(135,206,250,0.958699);\">.</span>"
      ],
      "text/plain": [
       "<IPython.core.display.HTML object>"
      ]
     },
     "metadata": {},
     "output_type": "display_data"
    },
    {
     "name": "stdout",
     "output_type": "stream",
     "text": [
      ".:   \t99.91%\n",
      ",:   \t0.03%\n",
      "?:   \t0.01%\n",
      "~:   \t0.01%\n",
      "and:   \t0.01%\n",
      "--------\n",
      "\n"
     ]
    },
    {
     "data": {
      "text/html": [
       "<span style=\"background-color:rgba(135,206,250,0.22279489);\">K-Drama</span> <span style=\"background-color:rgba(135,206,250,0.14303137);\">title</span> <span style=\"background-color:rgba(135,206,250,0.0835904);\">:</span> <span style=\"background-color:rgba(135,206,250,0.21901214);\">Star</span> <span style=\"background-color:rgba(135,206,250,0.3314584);\">Struck</span> <span style=\"background-color:rgba(135,206,250,0.06212244);\">:</span> <span style=\"background-color:rgba(135,206,250,0.23615363);\">K-Drama</span> <span style=\"background-color:rgba(135,206,250,0.096529186);\">review</span> <span style=\"background-color:rgba(135,206,250,0.09278457);\">:</span> <span style=\"background-color:rgba(135,206,250,0.43894464);\">paradise</span> <span style=\"background-color:rgba(135,206,250,0.067324705);\">in</span> <span style=\"background-color:rgba(135,206,250,0.09844755);\">a</span> <span style=\"background-color:rgba(135,206,250,0.12974538);\">drama</span> <span style=\"background-color:rgba(135,206,250,0.13196105);\">review</span> <span style=\"background-color:rgba(135,206,250,0.11826368);\">:</span> <span style=\"background-color:rgba(135,206,250,0.08862176);\">not</span> <span style=\"background-color:rgba(135,206,250,0.101621434);\">good</span> <span style=\"background-color:rgba(135,206,250,0.13848916);\">drama</span> <span style=\"background-color:rgba(135,206,250,0.11247503);\">.</span> <span style=\"background-color:rgba(135,206,250,0.13041855);\">.</span> <span style=\"background-color:rgba(135,206,250,0.12774853);\">.</span> <span style=\"background-color:rgba(135,206,250,0.12542453);\">.</span> <span style=\"background-color:rgba(135,206,250,0.13286525);\">.</span> <span style=\"background-color:rgba(135,206,250,0.17036313);\">.</span> <span style=\"background-color:rgba(135,206,250,0.18039112);\">.</span> <span style=\"background-color:rgba(135,206,250,0.17836969);\">.</span> <span style=\"background-color:rgba(135,206,250,0.21167977);\">.</span> <span style=\"background-color:rgba(135,206,250,0.1811178);\">.</span> <span style=\"background-color:rgba(135,206,250,0.20585442);\">.</span> <span style=\"background-color:rgba(135,206,250,0.25335887);\">.</span> <span style=\"background-color:rgba(135,206,250,0.23423654);\">.</span> <span style=\"background-color:rgba(135,206,250,0.26743215);\">.</span> <span style=\"background-color:rgba(135,206,250,0.23525928);\">.</span> <span style=\"background-color:rgba(135,206,250,0.29223484);\">.</span> <span style=\"background-color:rgba(135,206,250,0.25540936);\">.</span> <span style=\"background-color:rgba(135,206,250,0.28350136);\">.</span> <span style=\"background-color:rgba(135,206,250,0.33132297);\">.</span> <span style=\"background-color:rgba(135,206,250,0.37846407);\">.</span> <span style=\"background-color:rgba(135,206,250,0.39965764);\">.</span> <span style=\"background-color:rgba(135,206,250,0.40303448);\">.</span> <span style=\"background-color:rgba(135,206,250,0.36629912);\">.</span> <span style=\"background-color:rgba(135,206,250,0.42014554);\">.</span> <span style=\"background-color:rgba(135,206,250,0.42522994);\">.</span> <span style=\"background-color:rgba(135,206,250,0.47382954);\">.</span> <span style=\"background-color:rgba(135,206,250,0.43106502);\">.</span> <span style=\"background-color:rgba(135,206,250,0.5029392);\">.</span> <span style=\"background-color:rgba(135,206,250,0.48346964);\">.</span> <span style=\"background-color:rgba(135,206,250,0.6126836);\">.</span> <span style=\"background-color:rgba(135,206,250,0.6156141);\">.</span> <span style=\"background-color:rgba(135,206,250,0.63463455);\">.</span> <span style=\"background-color:rgba(135,206,250,0.6744038);\">.</span> <span style=\"background-color:rgba(135,206,250,0.7365724);\">.</span> <span style=\"background-color:rgba(135,206,250,0.7421805);\">.</span> <span style=\"background-color:rgba(135,206,250,0.8326093);\">.</span> <span style=\"background-color:rgba(135,206,250,0.8800504);\">.</span> <span style=\"background-color:rgba(135,206,250,1.0);\">.</span>"
      ],
      "text/plain": [
       "<IPython.core.display.HTML object>"
      ]
     },
     "metadata": {},
     "output_type": "display_data"
    },
    {
     "name": "stdout",
     "output_type": "stream",
     "text": [
      ".:   \t99.91%\n",
      "and:   \t0.01%\n",
      ",:   \t0.01%\n",
      "~:   \t0.01%\n",
      "calmly:   \t0.01%\n",
      "--------\n",
      "\n"
     ]
    },
    {
     "data": {
      "text/html": [
       "<span style=\"background-color:rgba(135,206,250,0.23310716);\">K-Drama</span> <span style=\"background-color:rgba(135,206,250,0.15053478);\">title</span> <span style=\"background-color:rgba(135,206,250,0.08320365);\">:</span> <span style=\"background-color:rgba(135,206,250,0.23213264);\">Star</span> <span style=\"background-color:rgba(135,206,250,0.35306764);\">Struck</span> <span style=\"background-color:rgba(135,206,250,0.0650491);\">:</span> <span style=\"background-color:rgba(135,206,250,0.25594747);\">K-Drama</span> <span style=\"background-color:rgba(135,206,250,0.11052469);\">review</span> <span style=\"background-color:rgba(135,206,250,0.09676204);\">:</span> <span style=\"background-color:rgba(135,206,250,0.4427783);\">paradise</span> <span style=\"background-color:rgba(135,206,250,0.075009145);\">in</span> <span style=\"background-color:rgba(135,206,250,0.098349065);\">a</span> <span style=\"background-color:rgba(135,206,250,0.14604242);\">drama</span> <span style=\"background-color:rgba(135,206,250,0.14458324);\">review</span> <span style=\"background-color:rgba(135,206,250,0.11889665);\">:</span> <span style=\"background-color:rgba(135,206,250,0.10235448);\">not</span> <span style=\"background-color:rgba(135,206,250,0.11521471);\">good</span> <span style=\"background-color:rgba(135,206,250,0.15235026);\">drama</span> <span style=\"background-color:rgba(135,206,250,0.12006984);\">.</span> <span style=\"background-color:rgba(135,206,250,0.13591495);\">.</span> <span style=\"background-color:rgba(135,206,250,0.13443066);\">.</span> <span style=\"background-color:rgba(135,206,250,0.13115688);\">.</span> <span style=\"background-color:rgba(135,206,250,0.14065766);\">.</span> <span style=\"background-color:rgba(135,206,250,0.17824069);\">.</span> <span style=\"background-color:rgba(135,206,250,0.18915959);\">.</span> <span style=\"background-color:rgba(135,206,250,0.18915904);\">.</span> <span style=\"background-color:rgba(135,206,250,0.22090195);\">.</span> <span style=\"background-color:rgba(135,206,250,0.18408006);\">.</span> <span style=\"background-color:rgba(135,206,250,0.21902001);\">.</span> <span style=\"background-color:rgba(135,206,250,0.25796258);\">.</span> <span style=\"background-color:rgba(135,206,250,0.2407117);\">.</span> <span style=\"background-color:rgba(135,206,250,0.2777474);\">.</span> <span style=\"background-color:rgba(135,206,250,0.24066187);\">.</span> <span style=\"background-color:rgba(135,206,250,0.29807368);\">.</span> <span style=\"background-color:rgba(135,206,250,0.26201272);\">.</span> <span style=\"background-color:rgba(135,206,250,0.29940394);\">.</span> <span style=\"background-color:rgba(135,206,250,0.34265038);\">.</span> <span style=\"background-color:rgba(135,206,250,0.37421706);\">.</span> <span style=\"background-color:rgba(135,206,250,0.4069675);\">.</span> <span style=\"background-color:rgba(135,206,250,0.40144444);\">.</span> <span style=\"background-color:rgba(135,206,250,0.37411478);\">.</span> <span style=\"background-color:rgba(135,206,250,0.41906554);\">.</span> <span style=\"background-color:rgba(135,206,250,0.43438524);\">.</span> <span style=\"background-color:rgba(135,206,250,0.46478873);\">.</span> <span style=\"background-color:rgba(135,206,250,0.42560408);\">.</span> <span style=\"background-color:rgba(135,206,250,0.497142);\">.</span> <span style=\"background-color:rgba(135,206,250,0.49119878);\">.</span> <span style=\"background-color:rgba(135,206,250,0.6077725);\">.</span> <span style=\"background-color:rgba(135,206,250,0.61095935);\">.</span> <span style=\"background-color:rgba(135,206,250,0.5966951);\">.</span> <span style=\"background-color:rgba(135,206,250,0.66686946);\">.</span> <span style=\"background-color:rgba(135,206,250,0.72201204);\">.</span> <span style=\"background-color:rgba(135,206,250,0.7129527);\">.</span> <span style=\"background-color:rgba(135,206,250,0.8149403);\">.</span> <span style=\"background-color:rgba(135,206,250,0.8104891);\">.</span> <span style=\"background-color:rgba(135,206,250,1.0);\">.</span> <span style=\"background-color:rgba(135,206,250,0.9840224);\">.</span>"
      ],
      "text/plain": [
       "<IPython.core.display.HTML object>"
      ]
     },
     "metadata": {},
     "output_type": "display_data"
    },
    {
     "name": "stdout",
     "output_type": "stream",
     "text": [
      ".:   \t99.89%\n",
      "unpardonably:   \t0.03%\n",
      "hmm:   \t0.02%\n",
      "calmly:   \t0.02%\n",
      ",:   \t0.01%\n",
      "--------\n",
      "\n"
     ]
    },
    {
     "data": {
      "text/html": [
       "<span style=\"background-color:rgba(135,206,250,0.20116493);\">K-Drama</span> <span style=\"background-color:rgba(135,206,250,0.12369202);\">title</span> <span style=\"background-color:rgba(135,206,250,0.07521491);\">:</span> <span style=\"background-color:rgba(135,206,250,0.19580248);\">Star</span> <span style=\"background-color:rgba(135,206,250,0.3096921);\">Struck</span> <span style=\"background-color:rgba(135,206,250,0.05509576);\">:</span> <span style=\"background-color:rgba(135,206,250,0.22181173);\">K-Drama</span> <span style=\"background-color:rgba(135,206,250,0.08383614);\">review</span> <span style=\"background-color:rgba(135,206,250,0.08427401);\">:</span> <span style=\"background-color:rgba(135,206,250,0.3918911);\">paradise</span> <span style=\"background-color:rgba(135,206,250,0.060113028);\">in</span> <span style=\"background-color:rgba(135,206,250,0.0814143);\">a</span> <span style=\"background-color:rgba(135,206,250,0.11237414);\">drama</span> <span style=\"background-color:rgba(135,206,250,0.11117444);\">review</span> <span style=\"background-color:rgba(135,206,250,0.10787085);\">:</span> <span style=\"background-color:rgba(135,206,250,0.077283114);\">not</span> <span style=\"background-color:rgba(135,206,250,0.09342459);\">good</span> <span style=\"background-color:rgba(135,206,250,0.119583376);\">drama</span> <span style=\"background-color:rgba(135,206,250,0.09816504);\">.</span> <span style=\"background-color:rgba(135,206,250,0.11304424);\">.</span> <span style=\"background-color:rgba(135,206,250,0.11092927);\">.</span> <span style=\"background-color:rgba(135,206,250,0.10866235);\">.</span> <span style=\"background-color:rgba(135,206,250,0.11499816);\">.</span> <span style=\"background-color:rgba(135,206,250,0.14891015);\">.</span> <span style=\"background-color:rgba(135,206,250,0.15994051);\">.</span> <span style=\"background-color:rgba(135,206,250,0.15807924);\">.</span> <span style=\"background-color:rgba(135,206,250,0.18688802);\">.</span> <span style=\"background-color:rgba(135,206,250,0.15609252);\">.</span> <span style=\"background-color:rgba(135,206,250,0.18184279);\">.</span> <span style=\"background-color:rgba(135,206,250,0.22253579);\">.</span> <span style=\"background-color:rgba(135,206,250,0.20595908);\">.</span> <span style=\"background-color:rgba(135,206,250,0.23549832);\">.</span> <span style=\"background-color:rgba(135,206,250,0.20519379);\">.</span> <span style=\"background-color:rgba(135,206,250,0.2571968);\">.</span> <span style=\"background-color:rgba(135,206,250,0.22532229);\">.</span> <span style=\"background-color:rgba(135,206,250,0.25356704);\">.</span> <span style=\"background-color:rgba(135,206,250,0.3015608);\">.</span> <span style=\"background-color:rgba(135,206,250,0.33127066);\">.</span> <span style=\"background-color:rgba(135,206,250,0.3599299);\">.</span> <span style=\"background-color:rgba(135,206,250,0.3626519);\">.</span> <span style=\"background-color:rgba(135,206,250,0.32833678);\">.</span> <span style=\"background-color:rgba(135,206,250,0.37210086);\">.</span> <span style=\"background-color:rgba(135,206,250,0.3811795);\">.</span> <span style=\"background-color:rgba(135,206,250,0.4202563);\">.</span> <span style=\"background-color:rgba(135,206,250,0.38243878);\">.</span> <span style=\"background-color:rgba(135,206,250,0.45059758);\">.</span> <span style=\"background-color:rgba(135,206,250,0.44112888);\">.</span> <span style=\"background-color:rgba(135,206,250,0.5595999);\">.</span> <span style=\"background-color:rgba(135,206,250,0.5651718);\">.</span> <span style=\"background-color:rgba(135,206,250,0.56581306);\">.</span> <span style=\"background-color:rgba(135,206,250,0.62154776);\">.</span> <span style=\"background-color:rgba(135,206,250,0.67795396);\">.</span> <span style=\"background-color:rgba(135,206,250,0.66472244);\">.</span> <span style=\"background-color:rgba(135,206,250,0.7728421);\">.</span> <span style=\"background-color:rgba(135,206,250,0.7811165);\">.</span> <span style=\"background-color:rgba(135,206,250,0.94885045);\">.</span> <span style=\"background-color:rgba(135,206,250,1.0);\">.</span> <span style=\"background-color:rgba(135,206,250,0.985212);\">.</span>"
      ],
      "text/plain": [
       "<IPython.core.display.HTML object>"
      ]
     },
     "metadata": {},
     "output_type": "display_data"
    },
    {
     "name": "stdout",
     "output_type": "stream",
     "text": [
      ".:   \t99.94%\n",
      ",:   \t0.01%\n",
      "and:   \t0.01%\n",
      "~:   \t0.01%\n",
      "calmly:   \t0.0%\n",
      "--------\n",
      "\n"
     ]
    },
    {
     "data": {
      "text/html": [
       "<span style=\"background-color:rgba(135,206,250,0.18768698);\">K-Drama</span> <span style=\"background-color:rgba(135,206,250,0.11913099);\">title</span> <span style=\"background-color:rgba(135,206,250,0.0718373);\">:</span> <span style=\"background-color:rgba(135,206,250,0.18294515);\">Star</span> <span style=\"background-color:rgba(135,206,250,0.30105516);\">Struck</span> <span style=\"background-color:rgba(135,206,250,0.04917874);\">:</span> <span style=\"background-color:rgba(135,206,250,0.22028251);\">K-Drama</span> <span style=\"background-color:rgba(135,206,250,0.07688477);\">review</span> <span style=\"background-color:rgba(135,206,250,0.08143027);\">:</span> <span style=\"background-color:rgba(135,206,250,0.41643295);\">paradise</span> <span style=\"background-color:rgba(135,206,250,0.051672146);\">in</span> <span style=\"background-color:rgba(135,206,250,0.07142939);\">a</span> <span style=\"background-color:rgba(135,206,250,0.10917224);\">drama</span> <span style=\"background-color:rgba(135,206,250,0.09832344);\">review</span> <span style=\"background-color:rgba(135,206,250,0.10102853);\">:</span> <span style=\"background-color:rgba(135,206,250,0.068428144);\">not</span> <span style=\"background-color:rgba(135,206,250,0.07893069);\">good</span> <span style=\"background-color:rgba(135,206,250,0.11319693);\">drama</span> <span style=\"background-color:rgba(135,206,250,0.086523615);\">.</span> <span style=\"background-color:rgba(135,206,250,0.09978569);\">.</span> <span style=\"background-color:rgba(135,206,250,0.098740175);\">.</span> <span style=\"background-color:rgba(135,206,250,0.093656786);\">.</span> <span style=\"background-color:rgba(135,206,250,0.09943511);\">.</span> <span style=\"background-color:rgba(135,206,250,0.13078311);\">.</span> <span style=\"background-color:rgba(135,206,250,0.1433687);\">.</span> <span style=\"background-color:rgba(135,206,250,0.140648);\">.</span> <span style=\"background-color:rgba(135,206,250,0.16688758);\">.</span> <span style=\"background-color:rgba(135,206,250,0.13372871);\">.</span> <span style=\"background-color:rgba(135,206,250,0.15790425);\">.</span> <span style=\"background-color:rgba(135,206,250,0.19779585);\">.</span> <span style=\"background-color:rgba(135,206,250,0.1796024);\">.</span> <span style=\"background-color:rgba(135,206,250,0.21147603);\">.</span> <span style=\"background-color:rgba(135,206,250,0.180749);\">.</span> <span style=\"background-color:rgba(135,206,250,0.22321403);\">.</span> <span style=\"background-color:rgba(135,206,250,0.19518708);\">.</span> <span style=\"background-color:rgba(135,206,250,0.22099784);\">.</span> <span style=\"background-color:rgba(135,206,250,0.26406717);\">.</span> <span style=\"background-color:rgba(135,206,250,0.28949007);\">.</span> <span style=\"background-color:rgba(135,206,250,0.3190358);\">.</span> <span style=\"background-color:rgba(135,206,250,0.3220885);\">.</span> <span style=\"background-color:rgba(135,206,250,0.28847346);\">.</span> <span style=\"background-color:rgba(135,206,250,0.32446516);\">.</span> <span style=\"background-color:rgba(135,206,250,0.32969204);\">.</span> <span style=\"background-color:rgba(135,206,250,0.36235833);\">.</span> <span style=\"background-color:rgba(135,206,250,0.3256124);\">.</span> <span style=\"background-color:rgba(135,206,250,0.39934814);\">.</span> <span style=\"background-color:rgba(135,206,250,0.38051566);\">.</span> <span style=\"background-color:rgba(135,206,250,0.49326527);\">.</span> <span style=\"background-color:rgba(135,206,250,0.48700655);\">.</span> <span style=\"background-color:rgba(135,206,250,0.48769256);\">.</span> <span style=\"background-color:rgba(135,206,250,0.5210837);\">.</span> <span style=\"background-color:rgba(135,206,250,0.5954719);\">.</span> <span style=\"background-color:rgba(135,206,250,0.57174134);\">.</span> <span style=\"background-color:rgba(135,206,250,0.6685388);\">.</span> <span style=\"background-color:rgba(135,206,250,0.66317034);\">.</span> <span style=\"background-color:rgba(135,206,250,0.8177422);\">.</span> <span style=\"background-color:rgba(135,206,250,0.8604817);\">.</span> <span style=\"background-color:rgba(135,206,250,0.8934511);\">.</span> <span style=\"background-color:rgba(135,206,250,1.0);\">.</span>"
      ],
      "text/plain": [
       "<IPython.core.display.HTML object>"
      ]
     },
     "metadata": {},
     "output_type": "display_data"
    },
    {
     "name": "stdout",
     "output_type": "stream",
     "text": [
      ".:   \t99.83%\n",
      ",:   \t0.04%\n",
      "martin:   \t0.03%\n",
      "calmly:   \t0.02%\n",
      "unpardonably:   \t0.02%\n",
      "--------\n",
      "\n"
     ]
    },
    {
     "data": {
      "text/html": [
       "<span style=\"background-color:rgba(135,206,250,0.19178113);\">K-Drama</span> <span style=\"background-color:rgba(135,206,250,0.12536909);\">title</span> <span style=\"background-color:rgba(135,206,250,0.06872989);\">:</span> <span style=\"background-color:rgba(135,206,250,0.18820164);\">Star</span> <span style=\"background-color:rgba(135,206,250,0.29104936);\">Struck</span> <span style=\"background-color:rgba(135,206,250,0.0486401);\">:</span> <span style=\"background-color:rgba(135,206,250,0.21319282);\">K-Drama</span> <span style=\"background-color:rgba(135,206,250,0.08578393);\">review</span> <span style=\"background-color:rgba(135,206,250,0.07915624);\">:</span> <span style=\"background-color:rgba(135,206,250,0.41660783);\">paradise</span> <span style=\"background-color:rgba(135,206,250,0.05635661);\">in</span> <span style=\"background-color:rgba(135,206,250,0.075825065);\">a</span> <span style=\"background-color:rgba(135,206,250,0.1047004);\">drama</span> <span style=\"background-color:rgba(135,206,250,0.11164891);\">review</span> <span style=\"background-color:rgba(135,206,250,0.09821089);\">:</span> <span style=\"background-color:rgba(135,206,250,0.068191685);\">not</span> <span style=\"background-color:rgba(135,206,250,0.08095124);\">good</span> <span style=\"background-color:rgba(135,206,250,0.10938148);\">drama</span> <span style=\"background-color:rgba(135,206,250,0.08766272);\">.</span> <span style=\"background-color:rgba(135,206,250,0.10139991);\">.</span> <span style=\"background-color:rgba(135,206,250,0.09776438);\">.</span> <span style=\"background-color:rgba(135,206,250,0.096185975);\">.</span> <span style=\"background-color:rgba(135,206,250,0.10103744);\">.</span> <span style=\"background-color:rgba(135,206,250,0.13244836);\">.</span> <span style=\"background-color:rgba(135,206,250,0.14137305);\">.</span> <span style=\"background-color:rgba(135,206,250,0.14016743);\">.</span> <span style=\"background-color:rgba(135,206,250,0.16405061);\">.</span> <span style=\"background-color:rgba(135,206,250,0.13380815);\">.</span> <span style=\"background-color:rgba(135,206,250,0.1580284);\">.</span> <span style=\"background-color:rgba(135,206,250,0.19360778);\">.</span> <span style=\"background-color:rgba(135,206,250,0.17735787);\">.</span> <span style=\"background-color:rgba(135,206,250,0.2075207);\">.</span> <span style=\"background-color:rgba(135,206,250,0.17677528);\">.</span> <span style=\"background-color:rgba(135,206,250,0.2224875);\">.</span> <span style=\"background-color:rgba(135,206,250,0.19322276);\">.</span> <span style=\"background-color:rgba(135,206,250,0.21753938);\">.</span> <span style=\"background-color:rgba(135,206,250,0.25536618);\">.</span> <span style=\"background-color:rgba(135,206,250,0.2823012);\">.</span> <span style=\"background-color:rgba(135,206,250,0.31043494);\">.</span> <span style=\"background-color:rgba(135,206,250,0.30986154);\">.</span> <span style=\"background-color:rgba(135,206,250,0.2819546);\">.</span> <span style=\"background-color:rgba(135,206,250,0.31796944);\">.</span> <span style=\"background-color:rgba(135,206,250,0.3299649);\">.</span> <span style=\"background-color:rgba(135,206,250,0.3563182);\">.</span> <span style=\"background-color:rgba(135,206,250,0.3193833);\">.</span> <span style=\"background-color:rgba(135,206,250,0.3813141);\">.</span> <span style=\"background-color:rgba(135,206,250,0.37003577);\">.</span> <span style=\"background-color:rgba(135,206,250,0.4729609);\">.</span> <span style=\"background-color:rgba(135,206,250,0.4765032);\">.</span> <span style=\"background-color:rgba(135,206,250,0.47022817);\">.</span> <span style=\"background-color:rgba(135,206,250,0.52173626);\">.</span> <span style=\"background-color:rgba(135,206,250,0.57274485);\">.</span> <span style=\"background-color:rgba(135,206,250,0.56084776);\">.</span> <span style=\"background-color:rgba(135,206,250,0.6604011);\">.</span> <span style=\"background-color:rgba(135,206,250,0.65036374);\">.</span> <span style=\"background-color:rgba(135,206,250,0.7974528);\">.</span> <span style=\"background-color:rgba(135,206,250,0.81797045);\">.</span> <span style=\"background-color:rgba(135,206,250,0.83587575);\">.</span> <span style=\"background-color:rgba(135,206,250,1.0);\">.</span> <span style=\"background-color:rgba(135,206,250,0.9002593);\">.</span>"
      ],
      "text/plain": [
       "<IPython.core.display.HTML object>"
      ]
     },
     "metadata": {},
     "output_type": "display_data"
    },
    {
     "name": "stdout",
     "output_type": "stream",
     "text": [
      ".:   \t99.93%\n",
      ",:   \t0.02%\n",
      "and:   \t0.01%\n",
      "?:   \t0.01%\n",
      "~:   \t0.0%\n",
      "--------\n",
      "\n"
     ]
    },
    {
     "data": {
      "text/html": [
       "<span style=\"background-color:rgba(135,206,250,0.1730551);\">K-Drama</span> <span style=\"background-color:rgba(135,206,250,0.11331496);\">title</span> <span style=\"background-color:rgba(135,206,250,0.06736643);\">:</span> <span style=\"background-color:rgba(135,206,250,0.1761489);\">Star</span> <span style=\"background-color:rgba(135,206,250,0.2589521);\">Struck</span> <span style=\"background-color:rgba(135,206,250,0.041931994);\">:</span> <span style=\"background-color:rgba(135,206,250,0.17408322);\">K-Drama</span> <span style=\"background-color:rgba(135,206,250,0.07447516);\">review</span> <span style=\"background-color:rgba(135,206,250,0.07229415);\">:</span> <span style=\"background-color:rgba(135,206,250,0.34093824);\">paradise</span> <span style=\"background-color:rgba(135,206,250,0.05038175);\">in</span> <span style=\"background-color:rgba(135,206,250,0.06695299);\">a</span> <span style=\"background-color:rgba(135,206,250,0.094434865);\">drama</span> <span style=\"background-color:rgba(135,206,250,0.098768316);\">review</span> <span style=\"background-color:rgba(135,206,250,0.09533962);\">:</span> <span style=\"background-color:rgba(135,206,250,0.06509195);\">not</span> <span style=\"background-color:rgba(135,206,250,0.0783646);\">good</span> <span style=\"background-color:rgba(135,206,250,0.09973804);\">drama</span> <span style=\"background-color:rgba(135,206,250,0.08345249);\">.</span> <span style=\"background-color:rgba(135,206,250,0.09550521);\">.</span> <span style=\"background-color:rgba(135,206,250,0.09311281);\">.</span> <span style=\"background-color:rgba(135,206,250,0.093770854);\">.</span> <span style=\"background-color:rgba(135,206,250,0.09658073);\">.</span> <span style=\"background-color:rgba(135,206,250,0.12608975);\">.</span> <span style=\"background-color:rgba(135,206,250,0.13734469);\">.</span> <span style=\"background-color:rgba(135,206,250,0.13594714);\">.</span> <span style=\"background-color:rgba(135,206,250,0.15954533);\">.</span> <span style=\"background-color:rgba(135,206,250,0.13134737);\">.</span> <span style=\"background-color:rgba(135,206,250,0.15471545);\">.</span> <span style=\"background-color:rgba(135,206,250,0.18854624);\">.</span> <span style=\"background-color:rgba(135,206,250,0.1722791);\">.</span> <span style=\"background-color:rgba(135,206,250,0.20218493);\">.</span> <span style=\"background-color:rgba(135,206,250,0.17264646);\">.</span> <span style=\"background-color:rgba(135,206,250,0.218947);\">.</span> <span style=\"background-color:rgba(135,206,250,0.18846889);\">.</span> <span style=\"background-color:rgba(135,206,250,0.21607138);\">.</span> <span style=\"background-color:rgba(135,206,250,0.2535111);\">.</span> <span style=\"background-color:rgba(135,206,250,0.277938);\">.</span> <span style=\"background-color:rgba(135,206,250,0.30552164);\">.</span> <span style=\"background-color:rgba(135,206,250,0.30181673);\">.</span> <span style=\"background-color:rgba(135,206,250,0.27761284);\">.</span> <span style=\"background-color:rgba(135,206,250,0.31396368);\">.</span> <span style=\"background-color:rgba(135,206,250,0.32454956);\">.</span> <span style=\"background-color:rgba(135,206,250,0.35252148);\">.</span> <span style=\"background-color:rgba(135,206,250,0.3179348);\">.</span> <span style=\"background-color:rgba(135,206,250,0.38220084);\">.</span> <span style=\"background-color:rgba(135,206,250,0.3693486);\">.</span> <span style=\"background-color:rgba(135,206,250,0.47411376);\">.</span> <span style=\"background-color:rgba(135,206,250,0.48184988);\">.</span> <span style=\"background-color:rgba(135,206,250,0.4709579);\">.</span> <span style=\"background-color:rgba(135,206,250,0.53603);\">.</span> <span style=\"background-color:rgba(135,206,250,0.5788556);\">.</span> <span style=\"background-color:rgba(135,206,250,0.5637765);\">.</span> <span style=\"background-color:rgba(135,206,250,0.66235304);\">.</span> <span style=\"background-color:rgba(135,206,250,0.65655565);\">.</span> <span style=\"background-color:rgba(135,206,250,0.80997396);\">.</span> <span style=\"background-color:rgba(135,206,250,0.83201784);\">.</span> <span style=\"background-color:rgba(135,206,250,0.84411836);\">.</span> <span style=\"background-color:rgba(135,206,250,1.0);\">.</span> <span style=\"background-color:rgba(135,206,250,0.9393776);\">.</span> <span style=\"background-color:rgba(135,206,250,0.9692446);\">.</span>"
      ],
      "text/plain": [
       "<IPython.core.display.HTML object>"
      ]
     },
     "metadata": {},
     "output_type": "display_data"
    },
    {
     "name": "stdout",
     "output_type": "stream",
     "text": [
      ".:   \t99.91%\n",
      ",:   \t0.03%\n",
      "~:   \t0.01%\n",
      "and:   \t0.01%\n",
      "?:   \t0.01%\n",
      "--------\n",
      "\n"
     ]
    },
    {
     "data": {
      "text/html": [
       "<span style=\"background-color:rgba(135,206,250,0.2265001);\">K-Drama</span> <span style=\"background-color:rgba(135,206,250,0.1516682);\">title</span> <span style=\"background-color:rgba(135,206,250,0.07252847);\">:</span> <span style=\"background-color:rgba(135,206,250,0.21935068);\">Star</span> <span style=\"background-color:rgba(135,206,250,0.33541298);\">Struck</span> <span style=\"background-color:rgba(135,206,250,0.060321864);\">:</span> <span style=\"background-color:rgba(135,206,250,0.25668955);\">K-Drama</span> <span style=\"background-color:rgba(135,206,250,0.110487215);\">review</span> <span style=\"background-color:rgba(135,206,250,0.087614246);\">:</span> <span style=\"background-color:rgba(135,206,250,0.49843618);\">paradise</span> <span style=\"background-color:rgba(135,206,250,0.06925325);\">in</span> <span style=\"background-color:rgba(135,206,250,0.08965559);\">a</span> <span style=\"background-color:rgba(135,206,250,0.12761986);\">drama</span> <span style=\"background-color:rgba(135,206,250,0.14604263);\">review</span> <span style=\"background-color:rgba(135,206,250,0.10606852);\">:</span> <span style=\"background-color:rgba(135,206,250,0.08359897);\">not</span> <span style=\"background-color:rgba(135,206,250,0.09801443);\">good</span> <span style=\"background-color:rgba(135,206,250,0.13511047);\">drama</span> <span style=\"background-color:rgba(135,206,250,0.10428048);\">.</span> <span style=\"background-color:rgba(135,206,250,0.121528484);\">.</span> <span style=\"background-color:rgba(135,206,250,0.116365656);\">.</span> <span style=\"background-color:rgba(135,206,250,0.11600842);\">.</span> <span style=\"background-color:rgba(135,206,250,0.1205766);\">.</span> <span style=\"background-color:rgba(135,206,250,0.15492615);\">.</span> <span style=\"background-color:rgba(135,206,250,0.16231494);\">.</span> <span style=\"background-color:rgba(135,206,250,0.15975219);\">.</span> <span style=\"background-color:rgba(135,206,250,0.18929541);\">.</span> <span style=\"background-color:rgba(135,206,250,0.15854715);\">.</span> <span style=\"background-color:rgba(135,206,250,0.18294626);\">.</span> <span style=\"background-color:rgba(135,206,250,0.2210944);\">.</span> <span style=\"background-color:rgba(135,206,250,0.20423257);\">.</span> <span style=\"background-color:rgba(135,206,250,0.23161152);\">.</span> <span style=\"background-color:rgba(135,206,250,0.2032844);\">.</span> <span style=\"background-color:rgba(135,206,250,0.25459322);\">.</span> <span style=\"background-color:rgba(135,206,250,0.22030807);\">.</span> <span style=\"background-color:rgba(135,206,250,0.24693833);\">.</span> <span style=\"background-color:rgba(135,206,250,0.2817248);\">.</span> <span style=\"background-color:rgba(135,206,250,0.31711617);\">.</span> <span style=\"background-color:rgba(135,206,250,0.34254688);\">.</span> <span style=\"background-color:rgba(135,206,250,0.33579096);\">.</span> <span style=\"background-color:rgba(135,206,250,0.3088807);\">.</span> <span style=\"background-color:rgba(135,206,250,0.35081956);\">.</span> <span style=\"background-color:rgba(135,206,250,0.3559288);\">.</span> <span style=\"background-color:rgba(135,206,250,0.39053863);\">.</span> <span style=\"background-color:rgba(135,206,250,0.35429558);\">.</span> <span style=\"background-color:rgba(135,206,250,0.41428486);\">.</span> <span style=\"background-color:rgba(135,206,250,0.39514595);\">.</span> <span style=\"background-color:rgba(135,206,250,0.50041777);\">.</span> <span style=\"background-color:rgba(135,206,250,0.49988386);\">.</span> <span style=\"background-color:rgba(135,206,250,0.5009916);\">.</span> <span style=\"background-color:rgba(135,206,250,0.5512276);\">.</span> <span style=\"background-color:rgba(135,206,250,0.58486897);\">.</span> <span style=\"background-color:rgba(135,206,250,0.59666395);\">.</span> <span style=\"background-color:rgba(135,206,250,0.66080457);\">.</span> <span style=\"background-color:rgba(135,206,250,0.6839273);\">.</span> <span style=\"background-color:rgba(135,206,250,0.80674326);\">.</span> <span style=\"background-color:rgba(135,206,250,0.83173716);\">.</span> <span style=\"background-color:rgba(135,206,250,0.8170245);\">.</span> <span style=\"background-color:rgba(135,206,250,0.96483946);\">.</span> <span style=\"background-color:rgba(135,206,250,0.8933851);\">.</span> <span style=\"background-color:rgba(135,206,250,1.0);\">.</span> <span style=\"background-color:rgba(135,206,250,0.97252125);\">.</span>"
      ],
      "text/plain": [
       "<IPython.core.display.HTML object>"
      ]
     },
     "metadata": {},
     "output_type": "display_data"
    },
    {
     "name": "stdout",
     "output_type": "stream",
     "text": [
      ".:   \t99.84%\n",
      "~:   \t0.12%\n",
      ",:   \t0.02%\n",
      "and:   \t0.0%\n",
      "unpardonably:   \t0.0%\n",
      "--------\n",
      "\n"
     ]
    },
    {
     "data": {
      "text/html": [
       "<span style=\"background-color:rgba(135,206,250,0.20451978);\">K-Drama</span> <span style=\"background-color:rgba(135,206,250,0.13878092);\">title</span> <span style=\"background-color:rgba(135,206,250,0.088531554);\">:</span> <span style=\"background-color:rgba(135,206,250,0.21132673);\">Star</span> <span style=\"background-color:rgba(135,206,250,0.3136958);\">Struck</span> <span style=\"background-color:rgba(135,206,250,0.06197884);\">:</span> <span style=\"background-color:rgba(135,206,250,0.2352174);\">K-Drama</span> <span style=\"background-color:rgba(135,206,250,0.09641853);\">review</span> <span style=\"background-color:rgba(135,206,250,0.10130792);\">:</span> <span style=\"background-color:rgba(135,206,250,0.44951513);\">paradise</span> <span style=\"background-color:rgba(135,206,250,0.0649033);\">in</span> <span style=\"background-color:rgba(135,206,250,0.08767532);\">a</span> <span style=\"background-color:rgba(135,206,250,0.13090959);\">drama</span> <span style=\"background-color:rgba(135,206,250,0.12283968);\">review</span> <span style=\"background-color:rgba(135,206,250,0.11916201);\">:</span> <span style=\"background-color:rgba(135,206,250,0.08128413);\">not</span> <span style=\"background-color:rgba(135,206,250,0.09775408);\">good</span> <span style=\"background-color:rgba(135,206,250,0.13148758);\">drama</span> <span style=\"background-color:rgba(135,206,250,0.105669826);\">.</span> <span style=\"background-color:rgba(135,206,250,0.121075645);\">.</span> <span style=\"background-color:rgba(135,206,250,0.11877997);\">.</span> <span style=\"background-color:rgba(135,206,250,0.11443368);\">.</span> <span style=\"background-color:rgba(135,206,250,0.12204824);\">.</span> <span style=\"background-color:rgba(135,206,250,0.15724619);\">.</span> <span style=\"background-color:rgba(135,206,250,0.1698999);\">.</span> <span style=\"background-color:rgba(135,206,250,0.16716641);\">.</span> <span style=\"background-color:rgba(135,206,250,0.1949026);\">.</span> <span style=\"background-color:rgba(135,206,250,0.1589749);\">.</span> <span style=\"background-color:rgba(135,206,250,0.18744282);\">.</span> <span style=\"background-color:rgba(135,206,250,0.22684501);\">.</span> <span style=\"background-color:rgba(135,206,250,0.20744592);\">.</span> <span style=\"background-color:rgba(135,206,250,0.23984815);\">.</span> <span style=\"background-color:rgba(135,206,250,0.20475909);\">.</span> <span style=\"background-color:rgba(135,206,250,0.25664148);\">.</span> <span style=\"background-color:rgba(135,206,250,0.22281902);\">.</span> <span style=\"background-color:rgba(135,206,250,0.25184909);\">.</span> <span style=\"background-color:rgba(135,206,250,0.2958567);\">.</span> <span style=\"background-color:rgba(135,206,250,0.3161035);\">.</span> <span style=\"background-color:rgba(135,206,250,0.3500326);\">.</span> <span style=\"background-color:rgba(135,206,250,0.34424403);\">.</span> <span style=\"background-color:rgba(135,206,250,0.31169695);\">.</span> <span style=\"background-color:rgba(135,206,250,0.35010487);\">.</span> <span style=\"background-color:rgba(135,206,250,0.35676613);\">.</span> <span style=\"background-color:rgba(135,206,250,0.3857537);\">.</span> <span style=\"background-color:rgba(135,206,250,0.34862688);\">.</span> <span style=\"background-color:rgba(135,206,250,0.41654944);\">.</span> <span style=\"background-color:rgba(135,206,250,0.39854652);\">.</span> <span style=\"background-color:rgba(135,206,250,0.50324917);\">.</span> <span style=\"background-color:rgba(135,206,250,0.5072438);\">.</span> <span style=\"background-color:rgba(135,206,250,0.4944329);\">.</span> <span style=\"background-color:rgba(135,206,250,0.5538544);\">.</span> <span style=\"background-color:rgba(135,206,250,0.60096216);\">.</span> <span style=\"background-color:rgba(135,206,250,0.57255495);\">.</span> <span style=\"background-color:rgba(135,206,250,0.66217345);\">.</span> <span style=\"background-color:rgba(135,206,250,0.6559687);\">.</span> <span style=\"background-color:rgba(135,206,250,0.7964117);\">.</span> <span style=\"background-color:rgba(135,206,250,0.80899596);\">.</span> <span style=\"background-color:rgba(135,206,250,0.81268835);\">.</span> <span style=\"background-color:rgba(135,206,250,0.9475123);\">.</span> <span style=\"background-color:rgba(135,206,250,0.86925846);\">.</span> <span style=\"background-color:rgba(135,206,250,0.93104744);\">.</span> <span style=\"background-color:rgba(135,206,250,1.0);\">.</span> <span style=\"background-color:rgba(135,206,250,0.98306596);\">.</span>"
      ],
      "text/plain": [
       "<IPython.core.display.HTML object>"
      ]
     },
     "metadata": {},
     "output_type": "display_data"
    },
    {
     "name": "stdout",
     "output_type": "stream",
     "text": [
      ".:   \t99.86%\n",
      "~:   \t0.03%\n",
      "?:   \t0.02%\n",
      ",:   \t0.02%\n",
      "and:   \t0.01%\n",
      "--------\n",
      "\n"
     ]
    },
    {
     "data": {
      "text/html": [
       "<span style=\"background-color:rgba(135,206,250,0.17687297);\">K-Drama</span> <span style=\"background-color:rgba(135,206,250,0.119413555);\">title</span> <span style=\"background-color:rgba(135,206,250,0.058522195);\">:</span> <span style=\"background-color:rgba(135,206,250,0.17011434);\">Star</span> <span style=\"background-color:rgba(135,206,250,0.26120573);\">Struck</span> <span style=\"background-color:rgba(135,206,250,0.03877556);\">:</span> <span style=\"background-color:rgba(135,206,250,0.18548554);\">K-Drama</span> <span style=\"background-color:rgba(135,206,250,0.0748309);\">review</span> <span style=\"background-color:rgba(135,206,250,0.06337775);\">:</span> <span style=\"background-color:rgba(135,206,250,0.3910237);\">paradise</span> <span style=\"background-color:rgba(135,206,250,0.047163103);\">in</span> <span style=\"background-color:rgba(135,206,250,0.0589422);\">a</span> <span style=\"background-color:rgba(135,206,250,0.082877696);\">drama</span> <span style=\"background-color:rgba(135,206,250,0.09842357);\">review</span> <span style=\"background-color:rgba(135,206,250,0.0865352);\">:</span> <span style=\"background-color:rgba(135,206,250,0.053010013);\">not</span> <span style=\"background-color:rgba(135,206,250,0.06892843);\">good</span> <span style=\"background-color:rgba(135,206,250,0.09267703);\">drama</span> <span style=\"background-color:rgba(135,206,250,0.07179702);\">.</span> <span style=\"background-color:rgba(135,206,250,0.08378762);\">.</span> <span style=\"background-color:rgba(135,206,250,0.07847772);\">.</span> <span style=\"background-color:rgba(135,206,250,0.08160537);\">.</span> <span style=\"background-color:rgba(135,206,250,0.08066875);\">.</span> <span style=\"background-color:rgba(135,206,250,0.1061515);\">.</span> <span style=\"background-color:rgba(135,206,250,0.11454793);\">.</span> <span style=\"background-color:rgba(135,206,250,0.11357436);\">.</span> <span style=\"background-color:rgba(135,206,250,0.13033193);\">.</span> <span style=\"background-color:rgba(135,206,250,0.10839652);\">.</span> <span style=\"background-color:rgba(135,206,250,0.12583473);\">.</span> <span style=\"background-color:rgba(135,206,250,0.15383501);\">.</span> <span style=\"background-color:rgba(135,206,250,0.13974595);\">.</span> <span style=\"background-color:rgba(135,206,250,0.16545005);\">.</span> <span style=\"background-color:rgba(135,206,250,0.13884723);\">.</span> <span style=\"background-color:rgba(135,206,250,0.17790909);\">.</span> <span style=\"background-color:rgba(135,206,250,0.15574618);\">.</span> <span style=\"background-color:rgba(135,206,250,0.17371425);\">.</span> <span style=\"background-color:rgba(135,206,250,0.20241852);\">.</span> <span style=\"background-color:rgba(135,206,250,0.22217911);\">.</span> <span style=\"background-color:rgba(135,206,250,0.24288313);\">.</span> <span style=\"background-color:rgba(135,206,250,0.24052705);\">.</span> <span style=\"background-color:rgba(135,206,250,0.22421339);\">.</span> <span style=\"background-color:rgba(135,206,250,0.2551152);\">.</span> <span style=\"background-color:rgba(135,206,250,0.2585239);\">.</span> <span style=\"background-color:rgba(135,206,250,0.28499925);\">.</span> <span style=\"background-color:rgba(135,206,250,0.2610327);\">.</span> <span style=\"background-color:rgba(135,206,250,0.31421125);\">.</span> <span style=\"background-color:rgba(135,206,250,0.3012479);\">.</span> <span style=\"background-color:rgba(135,206,250,0.3907839);\">.</span> <span style=\"background-color:rgba(135,206,250,0.38337547);\">.</span> <span style=\"background-color:rgba(135,206,250,0.39010978);\">.</span> <span style=\"background-color:rgba(135,206,250,0.43772572);\">.</span> <span style=\"background-color:rgba(135,206,250,0.47230116);\">.</span> <span style=\"background-color:rgba(135,206,250,0.47498363);\">.</span> <span style=\"background-color:rgba(135,206,250,0.54372734);\">.</span> <span style=\"background-color:rgba(135,206,250,0.54774076);\">.</span> <span style=\"background-color:rgba(135,206,250,0.69079334);\">.</span> <span style=\"background-color:rgba(135,206,250,0.6993161);\">.</span> <span style=\"background-color:rgba(135,206,250,0.7094085);\">.</span> <span style=\"background-color:rgba(135,206,250,0.8423311);\">.</span> <span style=\"background-color:rgba(135,206,250,0.7847912);\">.</span> <span style=\"background-color:rgba(135,206,250,0.84429705);\">.</span> <span style=\"background-color:rgba(135,206,250,0.8958329);\">.</span> <span style=\"background-color:rgba(135,206,250,0.949492);\">.</span> <span style=\"background-color:rgba(135,206,250,1.0);\">.</span>"
      ],
      "text/plain": [
       "<IPython.core.display.HTML object>"
      ]
     },
     "metadata": {},
     "output_type": "display_data"
    },
    {
     "name": "stdout",
     "output_type": "stream",
     "text": [
      ".:   \t99.94%\n",
      ",:   \t0.02%\n",
      "and:   \t0.01%\n",
      "?:   \t0.01%\n",
      "calmly:   \t0.0%\n",
      "--------\n",
      "\n"
     ]
    },
    {
     "data": {
      "text/html": [
       "<span style=\"background-color:rgba(135,206,250,0.16677456);\">K-Drama</span> <span style=\"background-color:rgba(135,206,250,0.105489194);\">title</span> <span style=\"background-color:rgba(135,206,250,0.06382846);\">:</span> <span style=\"background-color:rgba(135,206,250,0.15971847);\">Star</span> <span style=\"background-color:rgba(135,206,250,0.26739857);\">Struck</span> <span style=\"background-color:rgba(135,206,250,0.042379808);\">:</span> <span style=\"background-color:rgba(135,206,250,0.19263265);\">K-Drama</span> <span style=\"background-color:rgba(135,206,250,0.066376835);\">review</span> <span style=\"background-color:rgba(135,206,250,0.06942992);\">:</span> <span style=\"background-color:rgba(135,206,250,0.3685629);\">paradise</span> <span style=\"background-color:rgba(135,206,250,0.04256594);\">in</span> <span style=\"background-color:rgba(135,206,250,0.05790504);\">a</span> <span style=\"background-color:rgba(135,206,250,0.08387116);\">drama</span> <span style=\"background-color:rgba(135,206,250,0.08404035);\">review</span> <span style=\"background-color:rgba(135,206,250,0.090410605);\">:</span> <span style=\"background-color:rgba(135,206,250,0.053703956);\">not</span> <span style=\"background-color:rgba(135,206,250,0.068711676);\">good</span> <span style=\"background-color:rgba(135,206,250,0.09007997);\">drama</span> <span style=\"background-color:rgba(135,206,250,0.07309883);\">.</span> <span style=\"background-color:rgba(135,206,250,0.08528594);\">.</span> <span style=\"background-color:rgba(135,206,250,0.082707964);\">.</span> <span style=\"background-color:rgba(135,206,250,0.080507256);\">.</span> <span style=\"background-color:rgba(135,206,250,0.08268188);\">.</span> <span style=\"background-color:rgba(135,206,250,0.10812174);\">.</span> <span style=\"background-color:rgba(135,206,250,0.118807234);\">.</span> <span style=\"background-color:rgba(135,206,250,0.11646508);\">.</span> <span style=\"background-color:rgba(135,206,250,0.13632011);\">.</span> <span style=\"background-color:rgba(135,206,250,0.11188884);\">.</span> <span style=\"background-color:rgba(135,206,250,0.12743646);\">.</span> <span style=\"background-color:rgba(135,206,250,0.16258214);\">.</span> <span style=\"background-color:rgba(135,206,250,0.14530592);\">.</span> <span style=\"background-color:rgba(135,206,250,0.16891067);\">.</span> <span style=\"background-color:rgba(135,206,250,0.14531982);\">.</span> <span style=\"background-color:rgba(135,206,250,0.18035306);\">.</span> <span style=\"background-color:rgba(135,206,250,0.15899482);\">.</span> <span style=\"background-color:rgba(135,206,250,0.1757359);\">.</span> <span style=\"background-color:rgba(135,206,250,0.21137133);\">.</span> <span style=\"background-color:rgba(135,206,250,0.23020019);\">.</span> <span style=\"background-color:rgba(135,206,250,0.2482789);\">.</span> <span style=\"background-color:rgba(135,206,250,0.24900311);\">.</span> <span style=\"background-color:rgba(135,206,250,0.22339633);\">.</span> <span style=\"background-color:rgba(135,206,250,0.25323638);\">.</span> <span style=\"background-color:rgba(135,206,250,0.25416726);\">.</span> <span style=\"background-color:rgba(135,206,250,0.2879212);\">.</span> <span style=\"background-color:rgba(135,206,250,0.2605856);\">.</span> <span style=\"background-color:rgba(135,206,250,0.3172405);\">.</span> <span style=\"background-color:rgba(135,206,250,0.29647702);\">.</span> <span style=\"background-color:rgba(135,206,250,0.38280246);\">.</span> <span style=\"background-color:rgba(135,206,250,0.3762924);\">.</span> <span style=\"background-color:rgba(135,206,250,0.39105284);\">.</span> <span style=\"background-color:rgba(135,206,250,0.410053);\">.</span> <span style=\"background-color:rgba(135,206,250,0.46201155);\">.</span> <span style=\"background-color:rgba(135,206,250,0.4473772);\">.</span> <span style=\"background-color:rgba(135,206,250,0.50633776);\">.</span> <span style=\"background-color:rgba(135,206,250,0.5310451);\">.</span> <span style=\"background-color:rgba(135,206,250,0.62245303);\">.</span> <span style=\"background-color:rgba(135,206,250,0.66974187);\">.</span> <span style=\"background-color:rgba(135,206,250,0.66595185);\">.</span> <span style=\"background-color:rgba(135,206,250,0.77048934);\">.</span> <span style=\"background-color:rgba(135,206,250,0.70004153);\">.</span> <span style=\"background-color:rgba(135,206,250,0.7600655);\">.</span> <span style=\"background-color:rgba(135,206,250,0.8039714);\">.</span> <span style=\"background-color:rgba(135,206,250,0.8313775);\">.</span> <span style=\"background-color:rgba(135,206,250,0.91870517);\">.</span> <span style=\"background-color:rgba(135,206,250,1.0);\">.</span>"
      ],
      "text/plain": [
       "<IPython.core.display.HTML object>"
      ]
     },
     "metadata": {},
     "output_type": "display_data"
    },
    {
     "name": "stdout",
     "output_type": "stream",
     "text": [
      ".:   \t99.93%\n",
      ",:   \t0.03%\n",
      "and:   \t0.01%\n",
      "~:   \t0.01%\n",
      "?:   \t0.0%\n",
      "--------\n",
      "\n"
     ]
    },
    {
     "data": {
      "text/html": [
       "<span style=\"background-color:rgba(135,206,250,0.17941535);\">K-Drama</span> <span style=\"background-color:rgba(135,206,250,0.12056495);\">title</span> <span style=\"background-color:rgba(135,206,250,0.07354654);\">:</span> <span style=\"background-color:rgba(135,206,250,0.18016672);\">Star</span> <span style=\"background-color:rgba(135,206,250,0.28219062);\">Struck</span> <span style=\"background-color:rgba(135,206,250,0.056145947);\">:</span> <span style=\"background-color:rgba(135,206,250,0.22456665);\">K-Drama</span> <span style=\"background-color:rgba(135,206,250,0.08725079);\">review</span> <span style=\"background-color:rgba(135,206,250,0.08853146);\">:</span> <span style=\"background-color:rgba(135,206,250,0.44106016);\">paradise</span> <span style=\"background-color:rgba(135,206,250,0.054412533);\">in</span> <span style=\"background-color:rgba(135,206,250,0.076790415);\">a</span> <span style=\"background-color:rgba(135,206,250,0.10876216);\">drama</span> <span style=\"background-color:rgba(135,206,250,0.10714149);\">review</span> <span style=\"background-color:rgba(135,206,250,0.09877111);\">:</span> <span style=\"background-color:rgba(135,206,250,0.06455712);\">not</span> <span style=\"background-color:rgba(135,206,250,0.07984183);\">good</span> <span style=\"background-color:rgba(135,206,250,0.10645798);\">drama</span> <span style=\"background-color:rgba(135,206,250,0.08766768);\">.</span> <span style=\"background-color:rgba(135,206,250,0.10224587);\">.</span> <span style=\"background-color:rgba(135,206,250,0.09883261);\">.</span> <span style=\"background-color:rgba(135,206,250,0.093206674);\">.</span> <span style=\"background-color:rgba(135,206,250,0.10015021);\">.</span> <span style=\"background-color:rgba(135,206,250,0.129083);\">.</span> <span style=\"background-color:rgba(135,206,250,0.13807058);\">.</span> <span style=\"background-color:rgba(135,206,250,0.13541901);\">.</span> <span style=\"background-color:rgba(135,206,250,0.15902188);\">.</span> <span style=\"background-color:rgba(135,206,250,0.12805372);\">.</span> <span style=\"background-color:rgba(135,206,250,0.14952223);\">.</span> <span style=\"background-color:rgba(135,206,250,0.18537275);\">.</span> <span style=\"background-color:rgba(135,206,250,0.16703878);\">.</span> <span style=\"background-color:rgba(135,206,250,0.19138639);\">.</span> <span style=\"background-color:rgba(135,206,250,0.16475016);\">.</span> <span style=\"background-color:rgba(135,206,250,0.20433904);\">.</span> <span style=\"background-color:rgba(135,206,250,0.17852493);\">.</span> <span style=\"background-color:rgba(135,206,250,0.19615634);\">.</span> <span style=\"background-color:rgba(135,206,250,0.23291138);\">.</span> <span style=\"background-color:rgba(135,206,250,0.2531878);\">.</span> <span style=\"background-color:rgba(135,206,250,0.2736069);\">.</span> <span style=\"background-color:rgba(135,206,250,0.2708354);\">.</span> <span style=\"background-color:rgba(135,206,250,0.24378593);\">.</span> <span style=\"background-color:rgba(135,206,250,0.27225497);\">.</span> <span style=\"background-color:rgba(135,206,250,0.2764046);\">.</span> <span style=\"background-color:rgba(135,206,250,0.29988542);\">.</span> <span style=\"background-color:rgba(135,206,250,0.26941222);\">.</span> <span style=\"background-color:rgba(135,206,250,0.31916523);\">.</span> <span style=\"background-color:rgba(135,206,250,0.3032243);\">.</span> <span style=\"background-color:rgba(135,206,250,0.385717);\">.</span> <span style=\"background-color:rgba(135,206,250,0.38481972);\">.</span> <span style=\"background-color:rgba(135,206,250,0.38081142);\">.</span> <span style=\"background-color:rgba(135,206,250,0.41484526);\">.</span> <span style=\"background-color:rgba(135,206,250,0.45304564);\">.</span> <span style=\"background-color:rgba(135,206,250,0.4339199);\">.</span> <span style=\"background-color:rgba(135,206,250,0.49565473);\">.</span> <span style=\"background-color:rgba(135,206,250,0.4993703);\">.</span> <span style=\"background-color:rgba(135,206,250,0.5944841);\">.</span> <span style=\"background-color:rgba(135,206,250,0.6045694);\">.</span> <span style=\"background-color:rgba(135,206,250,0.5993076);\">.</span> <span style=\"background-color:rgba(135,206,250,0.7072186);\">.</span> <span style=\"background-color:rgba(135,206,250,0.63003117);\">.</span> <span style=\"background-color:rgba(135,206,250,0.69380873);\">.</span> <span style=\"background-color:rgba(135,206,250,0.7116262);\">.</span> <span style=\"background-color:rgba(135,206,250,0.72396255);\">.</span> <span style=\"background-color:rgba(135,206,250,0.7512583);\">.</span> <span style=\"background-color:rgba(135,206,250,0.8886065);\">.</span> <span style=\"background-color:rgba(135,206,250,1.0);\">.</span>"
      ],
      "text/plain": [
       "<IPython.core.display.HTML object>"
      ]
     },
     "metadata": {},
     "output_type": "display_data"
    },
    {
     "name": "stdout",
     "output_type": "stream",
     "text": [
      ".:   \t99.93%\n",
      ",:   \t0.02%\n",
      "~:   \t0.01%\n",
      "calmly:   \t0.01%\n",
      "and:   \t0.01%\n",
      "--------\n",
      "\n"
     ]
    },
    {
     "data": {
      "text/html": [
       "<span style=\"background-color:rgba(135,206,250,0.14539316);\">K-Drama</span> <span style=\"background-color:rgba(135,206,250,0.09699364);\">title</span> <span style=\"background-color:rgba(135,206,250,0.051141184);\">:</span> <span style=\"background-color:rgba(135,206,250,0.14564016);\">Star</span> <span style=\"background-color:rgba(135,206,250,0.21382844);\">Struck</span> <span style=\"background-color:rgba(135,206,250,0.03273179);\">:</span> <span style=\"background-color:rgba(135,206,250,0.14749196);\">K-Drama</span> <span style=\"background-color:rgba(135,206,250,0.0630512);\">review</span> <span style=\"background-color:rgba(135,206,250,0.057231188);\">:</span> <span style=\"background-color:rgba(135,206,250,0.32890964);\">paradise</span> <span style=\"background-color:rgba(135,206,250,0.03846722);\">in</span> <span style=\"background-color:rgba(135,206,250,0.053075574);\">a</span> <span style=\"background-color:rgba(135,206,250,0.0722523);\">drama</span> <span style=\"background-color:rgba(135,206,250,0.08114236);\">review</span> <span style=\"background-color:rgba(135,206,250,0.071991235);\">:</span> <span style=\"background-color:rgba(135,206,250,0.044720948);\">not</span> <span style=\"background-color:rgba(135,206,250,0.05590035);\">good</span> <span style=\"background-color:rgba(135,206,250,0.07438737);\">drama</span> <span style=\"background-color:rgba(135,206,250,0.0619328);\">.</span> <span style=\"background-color:rgba(135,206,250,0.07238934);\">.</span> <span style=\"background-color:rgba(135,206,250,0.06920882);\">.</span> <span style=\"background-color:rgba(135,206,250,0.06854586);\">.</span> <span style=\"background-color:rgba(135,206,250,0.070484675);\">.</span> <span style=\"background-color:rgba(135,206,250,0.09308324);\">.</span> <span style=\"background-color:rgba(135,206,250,0.10202346);\">.</span> <span style=\"background-color:rgba(135,206,250,0.1001228);\">.</span> <span style=\"background-color:rgba(135,206,250,0.11609168);\">.</span> <span style=\"background-color:rgba(135,206,250,0.09424248);\">.</span> <span style=\"background-color:rgba(135,206,250,0.10981759);\">.</span> <span style=\"background-color:rgba(135,206,250,0.13882604);\">.</span> <span style=\"background-color:rgba(135,206,250,0.12467016);\">.</span> <span style=\"background-color:rgba(135,206,250,0.14511757);\">.</span> <span style=\"background-color:rgba(135,206,250,0.12286359);\">.</span> <span style=\"background-color:rgba(135,206,250,0.15507482);\">.</span> <span style=\"background-color:rgba(135,206,250,0.13684553);\">.</span> <span style=\"background-color:rgba(135,206,250,0.1497307);\">.</span> <span style=\"background-color:rgba(135,206,250,0.1795857);\">.</span> <span style=\"background-color:rgba(135,206,250,0.19406638);\">.</span> <span style=\"background-color:rgba(135,206,250,0.21425891);\">.</span> <span style=\"background-color:rgba(135,206,250,0.21216084);\">.</span> <span style=\"background-color:rgba(135,206,250,0.1918675);\">.</span> <span style=\"background-color:rgba(135,206,250,0.2183068);\">.</span> <span style=\"background-color:rgba(135,206,250,0.21890898);\">.</span> <span style=\"background-color:rgba(135,206,250,0.24186788);\">.</span> <span style=\"background-color:rgba(135,206,250,0.2172394);\">.</span> <span style=\"background-color:rgba(135,206,250,0.2637991);\">.</span> <span style=\"background-color:rgba(135,206,250,0.24860954);\">.</span> <span style=\"background-color:rgba(135,206,250,0.3225181);\">.</span> <span style=\"background-color:rgba(135,206,250,0.31966344);\">.</span> <span style=\"background-color:rgba(135,206,250,0.3225274);\">.</span> <span style=\"background-color:rgba(135,206,250,0.35892603);\">.</span> <span style=\"background-color:rgba(135,206,250,0.388291);\">.</span> <span style=\"background-color:rgba(135,206,250,0.377908);\">.</span> <span style=\"background-color:rgba(135,206,250,0.43275738);\">.</span> <span style=\"background-color:rgba(135,206,250,0.43834993);\">.</span> <span style=\"background-color:rgba(135,206,250,0.52434117);\">.</span> <span style=\"background-color:rgba(135,206,250,0.5413259);\">.</span> <span style=\"background-color:rgba(135,206,250,0.5423607);\">.</span> <span style=\"background-color:rgba(135,206,250,0.64472866);\">.</span> <span style=\"background-color:rgba(135,206,250,0.5791273);\">.</span> <span style=\"background-color:rgba(135,206,250,0.6391693);\">.</span> <span style=\"background-color:rgba(135,206,250,0.6680539);\">.</span> <span style=\"background-color:rgba(135,206,250,0.68941534);\">.</span> <span style=\"background-color:rgba(135,206,250,0.7235443);\">.</span> <span style=\"background-color:rgba(135,206,250,0.8560994);\">.</span> <span style=\"background-color:rgba(135,206,250,1.0);\">.</span> <span style=\"background-color:rgba(135,206,250,0.9196041);\">.</span>"
      ],
      "text/plain": [
       "<IPython.core.display.HTML object>"
      ]
     },
     "metadata": {},
     "output_type": "display_data"
    },
    {
     "name": "stdout",
     "output_type": "stream",
     "text": [
      ".:   \t99.91%\n",
      "~:   \t0.04%\n",
      ",:   \t0.02%\n",
      "calmly:   \t0.01%\n",
      "?:   \t0.01%\n",
      "--------\n",
      "\n"
     ]
    },
    {
     "data": {
      "text/html": [
       "<span style=\"background-color:rgba(135,206,250,0.15196401);\">K-Drama</span> <span style=\"background-color:rgba(135,206,250,0.10248269);\">title</span> <span style=\"background-color:rgba(135,206,250,0.05285869);\">:</span> <span style=\"background-color:rgba(135,206,250,0.14936931);\">Star</span> <span style=\"background-color:rgba(135,206,250,0.2346784);\">Struck</span> <span style=\"background-color:rgba(135,206,250,0.033527367);\">:</span> <span style=\"background-color:rgba(135,206,250,0.17035837);\">K-Drama</span> <span style=\"background-color:rgba(135,206,250,0.06524581);\">review</span> <span style=\"background-color:rgba(135,206,250,0.05950918);\">:</span> <span style=\"background-color:rgba(135,206,250,0.36959097);\">paradise</span> <span style=\"background-color:rgba(135,206,250,0.03760663);\">in</span> <span style=\"background-color:rgba(135,206,250,0.05144787);\">a</span> <span style=\"background-color:rgba(135,206,250,0.07747296);\">drama</span> <span style=\"background-color:rgba(135,206,250,0.08292649);\">review</span> <span style=\"background-color:rgba(135,206,250,0.07610439);\">:</span> <span style=\"background-color:rgba(135,206,250,0.043936703);\">not</span> <span style=\"background-color:rgba(135,206,250,0.056212854);\">good</span> <span style=\"background-color:rgba(135,206,250,0.08098251);\">drama</span> <span style=\"background-color:rgba(135,206,250,0.061673183);\">.</span> <span style=\"background-color:rgba(135,206,250,0.07230267);\">.</span> <span style=\"background-color:rgba(135,206,250,0.06837205);\">.</span> <span style=\"background-color:rgba(135,206,250,0.06830633);\">.</span> <span style=\"background-color:rgba(135,206,250,0.068669066);\">.</span> <span style=\"background-color:rgba(135,206,250,0.09215608);\">.</span> <span style=\"background-color:rgba(135,206,250,0.10067528);\">.</span> <span style=\"background-color:rgba(135,206,250,0.09870847);\">.</span> <span style=\"background-color:rgba(135,206,250,0.11513717);\">.</span> <span style=\"background-color:rgba(135,206,250,0.09187931);\">.</span> <span style=\"background-color:rgba(135,206,250,0.108198);\">.</span> <span style=\"background-color:rgba(135,206,250,0.13497502);\">.</span> <span style=\"background-color:rgba(135,206,250,0.1205267);\">.</span> <span style=\"background-color:rgba(135,206,250,0.14387795);\">.</span> <span style=\"background-color:rgba(135,206,250,0.11970801);\">.</span> <span style=\"background-color:rgba(135,206,250,0.15375645);\">.</span> <span style=\"background-color:rgba(135,206,250,0.13133943);\">.</span> <span style=\"background-color:rgba(135,206,250,0.14923288);\">.</span> <span style=\"background-color:rgba(135,206,250,0.17499197);\">.</span> <span style=\"background-color:rgba(135,206,250,0.19124927);\">.</span> <span style=\"background-color:rgba(135,206,250,0.21084452);\">.</span> <span style=\"background-color:rgba(135,206,250,0.207764);\">.</span> <span style=\"background-color:rgba(135,206,250,0.18846703);\">.</span> <span style=\"background-color:rgba(135,206,250,0.21293885);\">.</span> <span style=\"background-color:rgba(135,206,250,0.21492222);\">.</span> <span style=\"background-color:rgba(135,206,250,0.23688588);\">.</span> <span style=\"background-color:rgba(135,206,250,0.212192);\">.</span> <span style=\"background-color:rgba(135,206,250,0.26103345);\">.</span> <span style=\"background-color:rgba(135,206,250,0.24259731);\">.</span> <span style=\"background-color:rgba(135,206,250,0.32181063);\">.</span> <span style=\"background-color:rgba(135,206,250,0.31686875);\">.</span> <span style=\"background-color:rgba(135,206,250,0.3142945);\">.</span> <span style=\"background-color:rgba(135,206,250,0.3495526);\">.</span> <span style=\"background-color:rgba(135,206,250,0.38066348);\">.</span> <span style=\"background-color:rgba(135,206,250,0.37271452);\">.</span> <span style=\"background-color:rgba(135,206,250,0.43108833);\">.</span> <span style=\"background-color:rgba(135,206,250,0.4309134);\">.</span> <span style=\"background-color:rgba(135,206,250,0.5339309);\">.</span> <span style=\"background-color:rgba(135,206,250,0.5482025);\">.</span> <span style=\"background-color:rgba(135,206,250,0.549676);\">.</span> <span style=\"background-color:rgba(135,206,250,0.64816505);\">.</span> <span style=\"background-color:rgba(135,206,250,0.59085155);\">.</span> <span style=\"background-color:rgba(135,206,250,0.6449852);\">.</span> <span style=\"background-color:rgba(135,206,250,0.6682286);\">.</span> <span style=\"background-color:rgba(135,206,250,0.6865047);\">.</span> <span style=\"background-color:rgba(135,206,250,0.7211405);\">.</span> <span style=\"background-color:rgba(135,206,250,0.8500798);\">.</span> <span style=\"background-color:rgba(135,206,250,1.0);\">.</span> <span style=\"background-color:rgba(135,206,250,0.97319055);\">.</span> <span style=\"background-color:rgba(135,206,250,0.9959181);\">.</span>"
      ],
      "text/plain": [
       "<IPython.core.display.HTML object>"
      ]
     },
     "metadata": {},
     "output_type": "display_data"
    },
    {
     "name": "stdout",
     "output_type": "stream",
     "text": [
      ".:   \t99.92%\n",
      ",:   \t0.02%\n",
      "?:   \t0.01%\n",
      "~:   \t0.01%\n",
      "and:   \t0.01%\n",
      "--------\n",
      "\n"
     ]
    },
    {
     "data": {
      "text/html": [
       "<span style=\"background-color:rgba(135,206,250,0.13653463);\">K-Drama</span> <span style=\"background-color:rgba(135,206,250,0.09037242);\">title</span> <span style=\"background-color:rgba(135,206,250,0.05464067);\">:</span> <span style=\"background-color:rgba(135,206,250,0.13454369);\">Star</span> <span style=\"background-color:rgba(135,206,250,0.2122105);\">Struck</span> <span style=\"background-color:rgba(135,206,250,0.03518588);\">:</span> <span style=\"background-color:rgba(135,206,250,0.15412228);\">K-Drama</span> <span style=\"background-color:rgba(135,206,250,0.05784138);\">review</span> <span style=\"background-color:rgba(135,206,250,0.0594129);\">:</span> <span style=\"background-color:rgba(135,206,250,0.30085406);\">paradise</span> <span style=\"background-color:rgba(135,206,250,0.036415085);\">in</span> <span style=\"background-color:rgba(135,206,250,0.050362363);\">a</span> <span style=\"background-color:rgba(135,206,250,0.07292853);\">drama</span> <span style=\"background-color:rgba(135,206,250,0.07340666);\">review</span> <span style=\"background-color:rgba(135,206,250,0.07605332);\">:</span> <span style=\"background-color:rgba(135,206,250,0.044009585);\">not</span> <span style=\"background-color:rgba(135,206,250,0.057751983);\">good</span> <span style=\"background-color:rgba(135,206,250,0.07698805);\">drama</span> <span style=\"background-color:rgba(135,206,250,0.062001437);\">.</span> <span style=\"background-color:rgba(135,206,250,0.07220788);\">.</span> <span style=\"background-color:rgba(135,206,250,0.06951553);\">.</span> <span style=\"background-color:rgba(135,206,250,0.06853108);\">.</span> <span style=\"background-color:rgba(135,206,250,0.06959762);\">.</span> <span style=\"background-color:rgba(135,206,250,0.09125971);\">.</span> <span style=\"background-color:rgba(135,206,250,0.099595316);\">.</span> <span style=\"background-color:rgba(135,206,250,0.09736659);\">.</span> <span style=\"background-color:rgba(135,206,250,0.114024274);\">.</span> <span style=\"background-color:rgba(135,206,250,0.09335292);\">.</span> <span style=\"background-color:rgba(135,206,250,0.1067237);\">.</span> <span style=\"background-color:rgba(135,206,250,0.13299473);\">.</span> <span style=\"background-color:rgba(135,206,250,0.11912003);\">.</span> <span style=\"background-color:rgba(135,206,250,0.13923241);\">.</span> <span style=\"background-color:rgba(135,206,250,0.118700355);\">.</span> <span style=\"background-color:rgba(135,206,250,0.15024287);\">.</span> <span style=\"background-color:rgba(135,206,250,0.12954707);\">.</span> <span style=\"background-color:rgba(135,206,250,0.14572139);\">.</span> <span style=\"background-color:rgba(135,206,250,0.1714448);\">.</span> <span style=\"background-color:rgba(135,206,250,0.18559119);\">.</span> <span style=\"background-color:rgba(135,206,250,0.20138769);\">.</span> <span style=\"background-color:rgba(135,206,250,0.19899713);\">.</span> <span style=\"background-color:rgba(135,206,250,0.180689);\">.</span> <span style=\"background-color:rgba(135,206,250,0.20342699);\">.</span> <span style=\"background-color:rgba(135,206,250,0.203678);\">.</span> <span style=\"background-color:rgba(135,206,250,0.22772254);\">.</span> <span style=\"background-color:rgba(135,206,250,0.20693299);\">.</span> <span style=\"background-color:rgba(135,206,250,0.2504489);\">.</span> <span style=\"background-color:rgba(135,206,250,0.23239936);\">.</span> <span style=\"background-color:rgba(135,206,250,0.3012309);\">.</span> <span style=\"background-color:rgba(135,206,250,0.2985255);\">.</span> <span style=\"background-color:rgba(135,206,250,0.30108523);\">.</span> <span style=\"background-color:rgba(135,206,250,0.32847422);\">.</span> <span style=\"background-color:rgba(135,206,250,0.35693824);\">.</span> <span style=\"background-color:rgba(135,206,250,0.3479706);\">.</span> <span style=\"background-color:rgba(135,206,250,0.3929388);\">.</span> <span style=\"background-color:rgba(135,206,250,0.4042419);\">.</span> <span style=\"background-color:rgba(135,206,250,0.4815884);\">.</span> <span style=\"background-color:rgba(135,206,250,0.50474334);\">.</span> <span style=\"background-color:rgba(135,206,250,0.49583107);\">.</span> <span style=\"background-color:rgba(135,206,250,0.5819866);\">.</span> <span style=\"background-color:rgba(135,206,250,0.5347126);\">.</span> <span style=\"background-color:rgba(135,206,250,0.5782764);\">.</span> <span style=\"background-color:rgba(135,206,250,0.6029469);\">.</span> <span style=\"background-color:rgba(135,206,250,0.61722445);\">.</span> <span style=\"background-color:rgba(135,206,250,0.65357804);\">.</span> <span style=\"background-color:rgba(135,206,250,0.75060105);\">.</span> <span style=\"background-color:rgba(135,206,250,0.88390577);\">.</span> <span style=\"background-color:rgba(135,206,250,0.8348554);\">.</span> <span style=\"background-color:rgba(135,206,250,0.8992516);\">.</span> <span style=\"background-color:rgba(135,206,250,1.0);\">.</span>"
      ],
      "text/plain": [
       "<IPython.core.display.HTML object>"
      ]
     },
     "metadata": {},
     "output_type": "display_data"
    },
    {
     "name": "stdout",
     "output_type": "stream",
     "text": [
      ".:   \t99.94%\n",
      ",:   \t0.01%\n",
      "~:   \t0.01%\n",
      "?:   \t0.01%\n",
      "and:   \t0.01%\n",
      "--------\n",
      "\n"
     ]
    },
    {
     "data": {
      "text/html": [
       "<span style=\"background-color:rgba(135,206,250,0.15173447);\">K-Drama</span> <span style=\"background-color:rgba(135,206,250,0.10008663);\">title</span> <span style=\"background-color:rgba(135,206,250,0.057804935);\">:</span> <span style=\"background-color:rgba(135,206,250,0.14643897);\">Star</span> <span style=\"background-color:rgba(135,206,250,0.24980542);\">Struck</span> <span style=\"background-color:rgba(135,206,250,0.0395258);\">:</span> <span style=\"background-color:rgba(135,206,250,0.18719885);\">K-Drama</span> <span style=\"background-color:rgba(135,206,250,0.06456273);\">review</span> <span style=\"background-color:rgba(135,206,250,0.065038584);\">:</span> <span style=\"background-color:rgba(135,206,250,0.37737373);\">paradise</span> <span style=\"background-color:rgba(135,206,250,0.03942182);\">in</span> <span style=\"background-color:rgba(135,206,250,0.053361207);\">a</span> <span style=\"background-color:rgba(135,206,250,0.077643774);\">drama</span> <span style=\"background-color:rgba(135,206,250,0.07999343);\">review</span> <span style=\"background-color:rgba(135,206,250,0.08111672);\">:</span> <span style=\"background-color:rgba(135,206,250,0.046609953);\">not</span> <span style=\"background-color:rgba(135,206,250,0.061477628);\">good</span> <span style=\"background-color:rgba(135,206,250,0.08066594);\">drama</span> <span style=\"background-color:rgba(135,206,250,0.06477262);\">.</span> <span style=\"background-color:rgba(135,206,250,0.07603984);\">.</span> <span style=\"background-color:rgba(135,206,250,0.07252492);\">.</span> <span style=\"background-color:rgba(135,206,250,0.07047298);\">.</span> <span style=\"background-color:rgba(135,206,250,0.07237607);\">.</span> <span style=\"background-color:rgba(135,206,250,0.094480135);\">.</span> <span style=\"background-color:rgba(135,206,250,0.103195064);\">.</span> <span style=\"background-color:rgba(135,206,250,0.101443306);\">.</span> <span style=\"background-color:rgba(135,206,250,0.11791407);\">.</span> <span style=\"background-color:rgba(135,206,250,0.094353646);\">.</span> <span style=\"background-color:rgba(135,206,250,0.10990225);\">.</span> <span style=\"background-color:rgba(135,206,250,0.13827549);\">.</span> <span style=\"background-color:rgba(135,206,250,0.12198123);\">.</span> <span style=\"background-color:rgba(135,206,250,0.14341776);\">.</span> <span style=\"background-color:rgba(135,206,250,0.12045752);\">.</span> <span style=\"background-color:rgba(135,206,250,0.15143912);\">.</span> <span style=\"background-color:rgba(135,206,250,0.13259332);\">.</span> <span style=\"background-color:rgba(135,206,250,0.14520682);\">.</span> <span style=\"background-color:rgba(135,206,250,0.17391653);\">.</span> <span style=\"background-color:rgba(135,206,250,0.18806866);\">.</span> <span style=\"background-color:rgba(135,206,250,0.20415217);\">.</span> <span style=\"background-color:rgba(135,206,250,0.20202842);\">.</span> <span style=\"background-color:rgba(135,206,250,0.18210149);\">.</span> <span style=\"background-color:rgba(135,206,250,0.20360875);\">.</span> <span style=\"background-color:rgba(135,206,250,0.2045565);\">.</span> <span style=\"background-color:rgba(135,206,250,0.2273985);\">.</span> <span style=\"background-color:rgba(135,206,250,0.20422147);\">.</span> <span style=\"background-color:rgba(135,206,250,0.24936132);\">.</span> <span style=\"background-color:rgba(135,206,250,0.23197223);\">.</span> <span style=\"background-color:rgba(135,206,250,0.30223322);\">.</span> <span style=\"background-color:rgba(135,206,250,0.2943074);\">.</span> <span style=\"background-color:rgba(135,206,250,0.29632604);\">.</span> <span style=\"background-color:rgba(135,206,250,0.316333);\">.</span> <span style=\"background-color:rgba(135,206,250,0.35626912);\">.</span> <span style=\"background-color:rgba(135,206,250,0.3396028);\">.</span> <span style=\"background-color:rgba(135,206,250,0.38729966);\">.</span> <span style=\"background-color:rgba(135,206,250,0.39251366);\">.</span> <span style=\"background-color:rgba(135,206,250,0.48091137);\">.</span> <span style=\"background-color:rgba(135,206,250,0.49241912);\">.</span> <span style=\"background-color:rgba(135,206,250,0.4928978);\">.</span> <span style=\"background-color:rgba(135,206,250,0.57057196);\">.</span> <span style=\"background-color:rgba(135,206,250,0.50779223);\">.</span> <span style=\"background-color:rgba(135,206,250,0.5590451);\">.</span> <span style=\"background-color:rgba(135,206,250,0.5824401);\">.</span> <span style=\"background-color:rgba(135,206,250,0.5997527);\">.</span> <span style=\"background-color:rgba(135,206,250,0.63086885);\">.</span> <span style=\"background-color:rgba(135,206,250,0.72596675);\">.</span> <span style=\"background-color:rgba(135,206,250,0.8380498);\">.</span> <span style=\"background-color:rgba(135,206,250,0.80241805);\">.</span> <span style=\"background-color:rgba(135,206,250,0.8411754);\">.</span> <span style=\"background-color:rgba(135,206,250,1.0);\">.</span> <span style=\"background-color:rgba(135,206,250,0.8507108);\">.</span>"
      ],
      "text/plain": [
       "<IPython.core.display.HTML object>"
      ]
     },
     "metadata": {},
     "output_type": "display_data"
    },
    {
     "name": "stdout",
     "output_type": "stream",
     "text": [
      ".:   \t99.95%\n",
      ",:   \t0.01%\n",
      "and:   \t0.01%\n",
      "~:   \t0.0%\n",
      "?:   \t0.0%\n",
      "--------\n",
      "\n"
     ]
    },
    {
     "data": {
      "text/html": [
       "<span style=\"background-color:rgba(135,206,250,0.14578725);\">K-Drama</span> <span style=\"background-color:rgba(135,206,250,0.10683033);\">title</span> <span style=\"background-color:rgba(135,206,250,0.06910758);\">:</span> <span style=\"background-color:rgba(135,206,250,0.15113173);\">Star</span> <span style=\"background-color:rgba(135,206,250,0.22668874);\">Struck</span> <span style=\"background-color:rgba(135,206,250,0.041260973);\">:</span> <span style=\"background-color:rgba(135,206,250,0.16997962);\">K-Drama</span> <span style=\"background-color:rgba(135,206,250,0.06936203);\">review</span> <span style=\"background-color:rgba(135,206,250,0.07528383);\">:</span> <span style=\"background-color:rgba(135,206,250,0.36983398);\">paradise</span> <span style=\"background-color:rgba(135,206,250,0.039668117);\">in</span> <span style=\"background-color:rgba(135,206,250,0.058515646);\">a</span> <span style=\"background-color:rgba(135,206,250,0.081583135);\">drama</span> <span style=\"background-color:rgba(135,206,250,0.08268406);\">review</span> <span style=\"background-color:rgba(135,206,250,0.08861314);\">:</span> <span style=\"background-color:rgba(135,206,250,0.044581138);\">not</span> <span style=\"background-color:rgba(135,206,250,0.05974898);\">good</span> <span style=\"background-color:rgba(135,206,250,0.08024567);\">drama</span> <span style=\"background-color:rgba(135,206,250,0.06878668);\">.</span> <span style=\"background-color:rgba(135,206,250,0.08058851);\">.</span> <span style=\"background-color:rgba(135,206,250,0.0765722);\">.</span> <span style=\"background-color:rgba(135,206,250,0.07396743);\">.</span> <span style=\"background-color:rgba(135,206,250,0.07517043);\">.</span> <span style=\"background-color:rgba(135,206,250,0.09815688);\">.</span> <span style=\"background-color:rgba(135,206,250,0.10860949);\">.</span> <span style=\"background-color:rgba(135,206,250,0.105755635);\">.</span> <span style=\"background-color:rgba(135,206,250,0.12190277);\">.</span> <span style=\"background-color:rgba(135,206,250,0.09724949);\">.</span> <span style=\"background-color:rgba(135,206,250,0.11143953);\">.</span> <span style=\"background-color:rgba(135,206,250,0.14169383);\">.</span> <span style=\"background-color:rgba(135,206,250,0.1236778);\">.</span> <span style=\"background-color:rgba(135,206,250,0.1447621);\">.</span> <span style=\"background-color:rgba(135,206,250,0.12181215);\">.</span> <span style=\"background-color:rgba(135,206,250,0.152718);\">.</span> <span style=\"background-color:rgba(135,206,250,0.13270636);\">.</span> <span style=\"background-color:rgba(135,206,250,0.1448927);\">.</span> <span style=\"background-color:rgba(135,206,250,0.1725197);\">.</span> <span style=\"background-color:rgba(135,206,250,0.18595114);\">.</span> <span style=\"background-color:rgba(135,206,250,0.20130825);\">.</span> <span style=\"background-color:rgba(135,206,250,0.19999422);\">.</span> <span style=\"background-color:rgba(135,206,250,0.17738356);\">.</span> <span style=\"background-color:rgba(135,206,250,0.19796517);\">.</span> <span style=\"background-color:rgba(135,206,250,0.19643374);\">.</span> <span style=\"background-color:rgba(135,206,250,0.21680565);\">.</span> <span style=\"background-color:rgba(135,206,250,0.19427982);\">.</span> <span style=\"background-color:rgba(135,206,250,0.23813951);\">.</span> <span style=\"background-color:rgba(135,206,250,0.21656847);\">.</span> <span style=\"background-color:rgba(135,206,250,0.28377202);\">.</span> <span style=\"background-color:rgba(135,206,250,0.28051832);\">.</span> <span style=\"background-color:rgba(135,206,250,0.2803653);\">.</span> <span style=\"background-color:rgba(135,206,250,0.30008566);\">.</span> <span style=\"background-color:rgba(135,206,250,0.32896367);\">.</span> <span style=\"background-color:rgba(135,206,250,0.3118565);\">.</span> <span style=\"background-color:rgba(135,206,250,0.35339156);\">.</span> <span style=\"background-color:rgba(135,206,250,0.36198968);\">.</span> <span style=\"background-color:rgba(135,206,250,0.4236902);\">.</span> <span style=\"background-color:rgba(135,206,250,0.44390407);\">.</span> <span style=\"background-color:rgba(135,206,250,0.43893513);\">.</span> <span style=\"background-color:rgba(135,206,250,0.50927204);\">.</span> <span style=\"background-color:rgba(135,206,250,0.453555);\">.</span> <span style=\"background-color:rgba(135,206,250,0.49641395);\">.</span> <span style=\"background-color:rgba(135,206,250,0.5135164);\">.</span> <span style=\"background-color:rgba(135,206,250,0.5250575);\">.</span> <span style=\"background-color:rgba(135,206,250,0.5507896);\">.</span> <span style=\"background-color:rgba(135,206,250,0.63405293);\">.</span> <span style=\"background-color:rgba(135,206,250,0.7306181);\">.</span> <span style=\"background-color:rgba(135,206,250,0.66804385);\">.</span> <span style=\"background-color:rgba(135,206,250,0.741513);\">.</span> <span style=\"background-color:rgba(135,206,250,0.8286073);\">.</span> <span style=\"background-color:rgba(135,206,250,0.73364615);\">.</span> <span style=\"background-color:rgba(135,206,250,1.0);\">.</span>"
      ],
      "text/plain": [
       "<IPython.core.display.HTML object>"
      ]
     },
     "metadata": {},
     "output_type": "display_data"
    },
    {
     "name": "stdout",
     "output_type": "stream",
     "text": [
      ".:   \t99.96%\n",
      ",:   \t0.01%\n",
      "and:   \t0.0%\n",
      "?:   \t0.0%\n",
      "~:   \t0.0%\n",
      "--------\n",
      "\n"
     ]
    },
    {
     "data": {
      "text/html": [
       "<span style=\"background-color:rgba(135,206,250,0.14114916);\">K-Drama</span> <span style=\"background-color:rgba(135,206,250,0.105134204);\">title</span> <span style=\"background-color:rgba(135,206,250,0.06759327);\">:</span> <span style=\"background-color:rgba(135,206,250,0.14745714);\">Star</span> <span style=\"background-color:rgba(135,206,250,0.21922821);\">Struck</span> <span style=\"background-color:rgba(135,206,250,0.038903374);\">:</span> <span style=\"background-color:rgba(135,206,250,0.1632432);\">K-Drama</span> <span style=\"background-color:rgba(135,206,250,0.06872075);\">review</span> <span style=\"background-color:rgba(135,206,250,0.07365766);\">:</span> <span style=\"background-color:rgba(135,206,250,0.36862904);\">paradise</span> <span style=\"background-color:rgba(135,206,250,0.038977016);\">in</span> <span style=\"background-color:rgba(135,206,250,0.055166848);\">a</span> <span style=\"background-color:rgba(135,206,250,0.076731905);\">drama</span> <span style=\"background-color:rgba(135,206,250,0.080627546);\">review</span> <span style=\"background-color:rgba(135,206,250,0.08676215);\">:</span> <span style=\"background-color:rgba(135,206,250,0.042122155);\">not</span> <span style=\"background-color:rgba(135,206,250,0.05708382);\">good</span> <span style=\"background-color:rgba(135,206,250,0.07537493);\">drama</span> <span style=\"background-color:rgba(135,206,250,0.06468505);\">.</span> <span style=\"background-color:rgba(135,206,250,0.075636216);\">.</span> <span style=\"background-color:rgba(135,206,250,0.07107875);\">.</span> <span style=\"background-color:rgba(135,206,250,0.0700627);\">.</span> <span style=\"background-color:rgba(135,206,250,0.07007789);\">.</span> <span style=\"background-color:rgba(135,206,250,0.09216399);\">.</span> <span style=\"background-color:rgba(135,206,250,0.101766944);\">.</span> <span style=\"background-color:rgba(135,206,250,0.099456556);\">.</span> <span style=\"background-color:rgba(135,206,250,0.11397282);\">.</span> <span style=\"background-color:rgba(135,206,250,0.09005418);\">.</span> <span style=\"background-color:rgba(135,206,250,0.10373169);\">.</span> <span style=\"background-color:rgba(135,206,250,0.13167658);\">.</span> <span style=\"background-color:rgba(135,206,250,0.11428955);\">.</span> <span style=\"background-color:rgba(135,206,250,0.13591306);\">.</span> <span style=\"background-color:rgba(135,206,250,0.11271859);\">.</span> <span style=\"background-color:rgba(135,206,250,0.14305165);\">.</span> <span style=\"background-color:rgba(135,206,250,0.12303473);\">.</span> <span style=\"background-color:rgba(135,206,250,0.13509205);\">.</span> <span style=\"background-color:rgba(135,206,250,0.16009197);\">.</span> <span style=\"background-color:rgba(135,206,250,0.17201272);\">.</span> <span style=\"background-color:rgba(135,206,250,0.1871134);\">.</span> <span style=\"background-color:rgba(135,206,250,0.18420441);\">.</span> <span style=\"background-color:rgba(135,206,250,0.16616535);\">.</span> <span style=\"background-color:rgba(135,206,250,0.18384455);\">.</span> <span style=\"background-color:rgba(135,206,250,0.18439981);\">.</span> <span style=\"background-color:rgba(135,206,250,0.202376);\">.</span> <span style=\"background-color:rgba(135,206,250,0.1794164);\">.</span> <span style=\"background-color:rgba(135,206,250,0.22290443);\">.</span> <span style=\"background-color:rgba(135,206,250,0.20019616);\">.</span> <span style=\"background-color:rgba(135,206,250,0.26419);\">.</span> <span style=\"background-color:rgba(135,206,250,0.2622436);\">.</span> <span style=\"background-color:rgba(135,206,250,0.2576463);\">.</span> <span style=\"background-color:rgba(135,206,250,0.28294912);\">.</span> <span style=\"background-color:rgba(135,206,250,0.3092106);\">.</span> <span style=\"background-color:rgba(135,206,250,0.2916301);\">.</span> <span style=\"background-color:rgba(135,206,250,0.33748344);\">.</span> <span style=\"background-color:rgba(135,206,250,0.33747903);\">.</span> <span style=\"background-color:rgba(135,206,250,0.40118214);\">.</span> <span style=\"background-color:rgba(135,206,250,0.41537774);\">.</span> <span style=\"background-color:rgba(135,206,250,0.41443163);\">.</span> <span style=\"background-color:rgba(135,206,250,0.48392004);\">.</span> <span style=\"background-color:rgba(135,206,250,0.43419188);\">.</span> <span style=\"background-color:rgba(135,206,250,0.47130945);\">.</span> <span style=\"background-color:rgba(135,206,250,0.49262702);\">.</span> <span style=\"background-color:rgba(135,206,250,0.49376848);\">.</span> <span style=\"background-color:rgba(135,206,250,0.5183026);\">.</span> <span style=\"background-color:rgba(135,206,250,0.6053717);\">.</span> <span style=\"background-color:rgba(135,206,250,0.7000221);\">.</span> <span style=\"background-color:rgba(135,206,250,0.64339274);\">.</span> <span style=\"background-color:rgba(135,206,250,0.70738965);\">.</span> <span style=\"background-color:rgba(135,206,250,0.7886195);\">.</span> <span style=\"background-color:rgba(135,206,250,0.70544887);\">.</span> <span style=\"background-color:rgba(135,206,250,1.0);\">.</span> <span style=\"background-color:rgba(135,206,250,0.8566738);\">.</span>"
      ],
      "text/plain": [
       "<IPython.core.display.HTML object>"
      ]
     },
     "metadata": {},
     "output_type": "display_data"
    },
    {
     "name": "stdout",
     "output_type": "stream",
     "text": [
      ".:   \t99.88%\n",
      ",:   \t0.03%\n",
      "?:   \t0.02%\n",
      "calmly:   \t0.01%\n",
      "~:   \t0.01%\n",
      "--------\n",
      "\n"
     ]
    },
    {
     "data": {
      "text/html": [
       "<span style=\"background-color:rgba(135,206,250,0.15830174);\">K-Drama</span> <span style=\"background-color:rgba(135,206,250,0.11654749);\">title</span> <span style=\"background-color:rgba(135,206,250,0.07206392);\">:</span> <span style=\"background-color:rgba(135,206,250,0.16618577);\">Star</span> <span style=\"background-color:rgba(135,206,250,0.2451691);\">Struck</span> <span style=\"background-color:rgba(135,206,250,0.04969585);\">:</span> <span style=\"background-color:rgba(135,206,250,0.19686477);\">K-Drama</span> <span style=\"background-color:rgba(135,206,250,0.08512083);\">review</span> <span style=\"background-color:rgba(135,206,250,0.08522711);\">:</span> <span style=\"background-color:rgba(135,206,250,0.420023);\">paradise</span> <span style=\"background-color:rgba(135,206,250,0.04960292);\">in</span> <span style=\"background-color:rgba(135,206,250,0.07033709);\">a</span> <span style=\"background-color:rgba(135,206,250,0.09668427);\">drama</span> <span style=\"background-color:rgba(135,206,250,0.09780986);\">review</span> <span style=\"background-color:rgba(135,206,250,0.09241627);\">:</span> <span style=\"background-color:rgba(135,206,250,0.055077948);\">not</span> <span style=\"background-color:rgba(135,206,250,0.07190265);\">good</span> <span style=\"background-color:rgba(135,206,250,0.09115733);\">drama</span> <span style=\"background-color:rgba(135,206,250,0.07815273);\">.</span> <span style=\"background-color:rgba(135,206,250,0.09173064);\">.</span> <span style=\"background-color:rgba(135,206,250,0.08710465);\">.</span> <span style=\"background-color:rgba(135,206,250,0.083645456);\">.</span> <span style=\"background-color:rgba(135,206,250,0.08669239);\">.</span> <span style=\"background-color:rgba(135,206,250,0.112338066);\">.</span> <span style=\"background-color:rgba(135,206,250,0.12052797);\">.</span> <span style=\"background-color:rgba(135,206,250,0.11686802);\">.</span> <span style=\"background-color:rgba(135,206,250,0.13722616);\">.</span> <span style=\"background-color:rgba(135,206,250,0.10964656);\">.</span> <span style=\"background-color:rgba(135,206,250,0.12690261);\">.</span> <span style=\"background-color:rgba(135,206,250,0.15515989);\">.</span> <span style=\"background-color:rgba(135,206,250,0.13823399);\">.</span> <span style=\"background-color:rgba(135,206,250,0.15858804);\">.</span> <span style=\"background-color:rgba(135,206,250,0.1356384);\">.</span> <span style=\"background-color:rgba(135,206,250,0.17125762);\">.</span> <span style=\"background-color:rgba(135,206,250,0.14549764);\">.</span> <span style=\"background-color:rgba(135,206,250,0.16220345);\">.</span> <span style=\"background-color:rgba(135,206,250,0.18727809);\">.</span> <span style=\"background-color:rgba(135,206,250,0.20327865);\">.</span> <span style=\"background-color:rgba(135,206,250,0.22128715);\">.</span> <span style=\"background-color:rgba(135,206,250,0.21660532);\">.</span> <span style=\"background-color:rgba(135,206,250,0.19284374);\">.</span> <span style=\"background-color:rgba(135,206,250,0.21368872);\">.</span> <span style=\"background-color:rgba(135,206,250,0.2155677);\">.</span> <span style=\"background-color:rgba(135,206,250,0.23238808);\">.</span> <span style=\"background-color:rgba(135,206,250,0.20944124);\">.</span> <span style=\"background-color:rgba(135,206,250,0.25141922);\">.</span> <span style=\"background-color:rgba(135,206,250,0.22924343);\">.</span> <span style=\"background-color:rgba(135,206,250,0.29766837);\">.</span> <span style=\"background-color:rgba(135,206,250,0.29771665);\">.</span> <span style=\"background-color:rgba(135,206,250,0.28863624);\">.</span> <span style=\"background-color:rgba(135,206,250,0.3189817);\">.</span> <span style=\"background-color:rgba(135,206,250,0.3364564);\">.</span> <span style=\"background-color:rgba(135,206,250,0.32694787);\">.</span> <span style=\"background-color:rgba(135,206,250,0.36482483);\">.</span> <span style=\"background-color:rgba(135,206,250,0.37127903);\">.</span> <span style=\"background-color:rgba(135,206,250,0.4343413);\">.</span> <span style=\"background-color:rgba(135,206,250,0.44634458);\">.</span> <span style=\"background-color:rgba(135,206,250,0.43374413);\">.</span> <span style=\"background-color:rgba(135,206,250,0.5093717);\">.</span> <span style=\"background-color:rgba(135,206,250,0.46119046);\">.</span> <span style=\"background-color:rgba(135,206,250,0.5065811);\">.</span> <span style=\"background-color:rgba(135,206,250,0.5064271);\">.</span> <span style=\"background-color:rgba(135,206,250,0.5131509);\">.</span> <span style=\"background-color:rgba(135,206,250,0.52263474);\">.</span> <span style=\"background-color:rgba(135,206,250,0.6163697);\">.</span> <span style=\"background-color:rgba(135,206,250,0.7028964);\">.</span> <span style=\"background-color:rgba(135,206,250,0.6390298);\">.</span> <span style=\"background-color:rgba(135,206,250,0.701339);\">.</span> <span style=\"background-color:rgba(135,206,250,0.76288);\">.</span> <span style=\"background-color:rgba(135,206,250,0.6843898);\">.</span> <span style=\"background-color:rgba(135,206,250,0.9445388);\">.</span> <span style=\"background-color:rgba(135,206,250,0.86073416);\">.</span> <span style=\"background-color:rgba(135,206,250,1.0);\">.</span>"
      ],
      "text/plain": [
       "<IPython.core.display.HTML object>"
      ]
     },
     "metadata": {},
     "output_type": "display_data"
    },
    {
     "name": "stdout",
     "output_type": "stream",
     "text": [
      ".:   \t99.94%\n",
      ",:   \t0.01%\n",
      "and:   \t0.01%\n",
      "~:   \t0.01%\n",
      "?:   \t0.01%\n",
      "--------\n",
      "\n"
     ]
    },
    {
     "data": {
      "text/html": [
       "<span style=\"background-color:rgba(135,206,250,0.102229126);\">K-Drama</span> <span style=\"background-color:rgba(135,206,250,0.06902532);\">title</span> <span style=\"background-color:rgba(135,206,250,0.041232888);\">:</span> <span style=\"background-color:rgba(135,206,250,0.09828425);\">Star</span> <span style=\"background-color:rgba(135,206,250,0.16893972);\">Struck</span> <span style=\"background-color:rgba(135,206,250,0.026583083);\">:</span> <span style=\"background-color:rgba(135,206,250,0.12936178);\">K-Drama</span> <span style=\"background-color:rgba(135,206,250,0.043027047);\">review</span> <span style=\"background-color:rgba(135,206,250,0.04528041);\">:</span> <span style=\"background-color:rgba(135,206,250,0.26142517);\">paradise</span> <span style=\"background-color:rgba(135,206,250,0.025191635);\">in</span> <span style=\"background-color:rgba(135,206,250,0.033150334);\">a</span> <span style=\"background-color:rgba(135,206,250,0.05102316);\">drama</span> <span style=\"background-color:rgba(135,206,250,0.052255925);\">review</span> <span style=\"background-color:rgba(135,206,250,0.057384193);\">:</span> <span style=\"background-color:rgba(135,206,250,0.029078843);\">not</span> <span style=\"background-color:rgba(135,206,250,0.04012943);\">good</span> <span style=\"background-color:rgba(135,206,250,0.05421609);\">drama</span> <span style=\"background-color:rgba(135,206,250,0.041999508);\">.</span> <span style=\"background-color:rgba(135,206,250,0.049395103);\">.</span> <span style=\"background-color:rgba(135,206,250,0.046534657);\">.</span> <span style=\"background-color:rgba(135,206,250,0.04594996);\">.</span> <span style=\"background-color:rgba(135,206,250,0.045654427);\">.</span> <span style=\"background-color:rgba(135,206,250,0.060138106);\">.</span> <span style=\"background-color:rgba(135,206,250,0.06641453);\">.</span> <span style=\"background-color:rgba(135,206,250,0.0647806);\">.</span> <span style=\"background-color:rgba(135,206,250,0.07437895);\">.</span> <span style=\"background-color:rgba(135,206,250,0.05958213);\">.</span> <span style=\"background-color:rgba(135,206,250,0.06838873);\">.</span> <span style=\"background-color:rgba(135,206,250,0.08654147);\">.</span> <span style=\"background-color:rgba(135,206,250,0.075402744);\">.</span> <span style=\"background-color:rgba(135,206,250,0.08953257);\">.</span> <span style=\"background-color:rgba(135,206,250,0.07467413);\">.</span> <span style=\"background-color:rgba(135,206,250,0.09407288);\">.</span> <span style=\"background-color:rgba(135,206,250,0.08176436);\">.</span> <span style=\"background-color:rgba(135,206,250,0.09068965);\">.</span> <span style=\"background-color:rgba(135,206,250,0.10782936);\">.</span> <span style=\"background-color:rgba(135,206,250,0.11391344);\">.</span> <span style=\"background-color:rgba(135,206,250,0.12434245);\">.</span> <span style=\"background-color:rgba(135,206,250,0.1215045);\">.</span> <span style=\"background-color:rgba(135,206,250,0.10979998);\">.</span> <span style=\"background-color:rgba(135,206,250,0.12306832);\">.</span> <span style=\"background-color:rgba(135,206,250,0.121678144);\">.</span> <span style=\"background-color:rgba(135,206,250,0.13782924);\">.</span> <span style=\"background-color:rgba(135,206,250,0.12418003);\">.</span> <span style=\"background-color:rgba(135,206,250,0.15432483);\">.</span> <span style=\"background-color:rgba(135,206,250,0.13904162);\">.</span> <span style=\"background-color:rgba(135,206,250,0.18263353);\">.</span> <span style=\"background-color:rgba(135,206,250,0.17665283);\">.</span> <span style=\"background-color:rgba(135,206,250,0.17999284);\">.</span> <span style=\"background-color:rgba(135,206,250,0.19096221);\">.</span> <span style=\"background-color:rgba(135,206,250,0.21385698);\">.</span> <span style=\"background-color:rgba(135,206,250,0.20316727);\">.</span> <span style=\"background-color:rgba(135,206,250,0.23009422);\">.</span> <span style=\"background-color:rgba(135,206,250,0.2354203);\">.</span> <span style=\"background-color:rgba(135,206,250,0.28633952);\">.</span> <span style=\"background-color:rgba(135,206,250,0.2971571);\">.</span> <span style=\"background-color:rgba(135,206,250,0.2918607);\">.</span> <span style=\"background-color:rgba(135,206,250,0.33677396);\">.</span> <span style=\"background-color:rgba(135,206,250,0.304311);\">.</span> <span style=\"background-color:rgba(135,206,250,0.33424026);\">.</span> <span style=\"background-color:rgba(135,206,250,0.34917083);\">.</span> <span style=\"background-color:rgba(135,206,250,0.35490212);\">.</span> <span style=\"background-color:rgba(135,206,250,0.37302142);\">.</span> <span style=\"background-color:rgba(135,206,250,0.4292675);\">.</span> <span style=\"background-color:rgba(135,206,250,0.50343823);\">.</span> <span style=\"background-color:rgba(135,206,250,0.47216395);\">.</span> <span style=\"background-color:rgba(135,206,250,0.5058842);\">.</span> <span style=\"background-color:rgba(135,206,250,0.5808052);\">.</span> <span style=\"background-color:rgba(135,206,250,0.50632757);\">.</span> <span style=\"background-color:rgba(135,206,250,0.69708425);\">.</span> <span style=\"background-color:rgba(135,206,250,0.64126784);\">.</span> <span style=\"background-color:rgba(135,206,250,0.82067174);\">.</span> <span style=\"background-color:rgba(135,206,250,1.0);\">.</span>"
      ],
      "text/plain": [
       "<IPython.core.display.HTML object>"
      ]
     },
     "metadata": {},
     "output_type": "display_data"
    },
    {
     "name": "stdout",
     "output_type": "stream",
     "text": [
      ".:   \t99.91%\n",
      "~:   \t0.03%\n",
      ",:   \t0.02%\n",
      "?:   \t0.01%\n",
      "and:   \t0.01%\n",
      "--------\n",
      "\n"
     ]
    },
    {
     "data": {
      "text/html": [
       "<span style=\"background-color:rgba(135,206,250,0.124436095);\">K-Drama</span> <span style=\"background-color:rgba(135,206,250,0.09027211);\">title</span> <span style=\"background-color:rgba(135,206,250,0.060949363);\">:</span> <span style=\"background-color:rgba(135,206,250,0.12922983);\">Star</span> <span style=\"background-color:rgba(135,206,250,0.20427069);\">Struck</span> <span style=\"background-color:rgba(135,206,250,0.039558508);\">:</span> <span style=\"background-color:rgba(135,206,250,0.16495402);\">K-Drama</span> <span style=\"background-color:rgba(135,206,250,0.061484348);\">review</span> <span style=\"background-color:rgba(135,206,250,0.071383946);\">:</span> <span style=\"background-color:rgba(135,206,250,0.36107802);\">paradise</span> <span style=\"background-color:rgba(135,206,250,0.03452778);\">in</span> <span style=\"background-color:rgba(135,206,250,0.054410387);\">a</span> <span style=\"background-color:rgba(135,206,250,0.07576316);\">drama</span> <span style=\"background-color:rgba(135,206,250,0.06918307);\">review</span> <span style=\"background-color:rgba(135,206,250,0.075919464);\">:</span> <span style=\"background-color:rgba(135,206,250,0.03910172);\">not</span> <span style=\"background-color:rgba(135,206,250,0.0520219);\">good</span> <span style=\"background-color:rgba(135,206,250,0.06882632);\">drama</span> <span style=\"background-color:rgba(135,206,250,0.05893347);\">.</span> <span style=\"background-color:rgba(135,206,250,0.069373086);\">.</span> <span style=\"background-color:rgba(135,206,250,0.066087805);\">.</span> <span style=\"background-color:rgba(135,206,250,0.061068494);\">.</span> <span style=\"background-color:rgba(135,206,250,0.06410675);\">.</span> <span style=\"background-color:rgba(135,206,250,0.084221184);\">.</span> <span style=\"background-color:rgba(135,206,250,0.092924714);\">.</span> <span style=\"background-color:rgba(135,206,250,0.09011993);\">.</span> <span style=\"background-color:rgba(135,206,250,0.10430706);\">.</span> <span style=\"background-color:rgba(135,206,250,0.08041436);\">.</span> <span style=\"background-color:rgba(135,206,250,0.09448726);\">.</span> <span style=\"background-color:rgba(135,206,250,0.12071895);\">.</span> <span style=\"background-color:rgba(135,206,250,0.104033075);\">.</span> <span style=\"background-color:rgba(135,206,250,0.121856116);\">.</span> <span style=\"background-color:rgba(135,206,250,0.1015145);\">.</span> <span style=\"background-color:rgba(135,206,250,0.12692873);\">.</span> <span style=\"background-color:rgba(135,206,250,0.11023645);\">.</span> <span style=\"background-color:rgba(135,206,250,0.12032154);\">.</span> <span style=\"background-color:rgba(135,206,250,0.14470363);\">.</span> <span style=\"background-color:rgba(135,206,250,0.15357734);\">.</span> <span style=\"background-color:rgba(135,206,250,0.16784953);\">.</span> <span style=\"background-color:rgba(135,206,250,0.16747674);\">.</span> <span style=\"background-color:rgba(135,206,250,0.14480482);\">.</span> <span style=\"background-color:rgba(135,206,250,0.1601956);\">.</span> <span style=\"background-color:rgba(135,206,250,0.15932696);\">.</span> <span style=\"background-color:rgba(135,206,250,0.17426986);\">.</span> <span style=\"background-color:rgba(135,206,250,0.15468058);\">.</span> <span style=\"background-color:rgba(135,206,250,0.19054493);\">.</span> <span style=\"background-color:rgba(135,206,250,0.172744);\">.</span> <span style=\"background-color:rgba(135,206,250,0.2278196);\">.</span> <span style=\"background-color:rgba(135,206,250,0.22520481);\">.</span> <span style=\"background-color:rgba(135,206,250,0.21953045);\">.</span> <span style=\"background-color:rgba(135,206,250,0.23339583);\">.</span> <span style=\"background-color:rgba(135,206,250,0.2598557);\">.</span> <span style=\"background-color:rgba(135,206,250,0.24092692);\">.</span> <span style=\"background-color:rgba(135,206,250,0.2766202);\">.</span> <span style=\"background-color:rgba(135,206,250,0.2765203);\">.</span> <span style=\"background-color:rgba(135,206,250,0.3304612);\">.</span> <span style=\"background-color:rgba(135,206,250,0.34163854);\">.</span> <span style=\"background-color:rgba(135,206,250,0.3367856);\">.</span> <span style=\"background-color:rgba(135,206,250,0.38940832);\">.</span> <span style=\"background-color:rgba(135,206,250,0.33857197);\">.</span> <span style=\"background-color:rgba(135,206,250,0.37325078);\">.</span> <span style=\"background-color:rgba(135,206,250,0.38640767);\">.</span> <span style=\"background-color:rgba(135,206,250,0.38958073);\">.</span> <span style=\"background-color:rgba(135,206,250,0.400387);\">.</span> <span style=\"background-color:rgba(135,206,250,0.4705784);\">.</span> <span style=\"background-color:rgba(135,206,250,0.5417123);\">.</span> <span style=\"background-color:rgba(135,206,250,0.48287696);\">.</span> <span style=\"background-color:rgba(135,206,250,0.53802705);\">.</span> <span style=\"background-color:rgba(135,206,250,0.5964729);\">.</span> <span style=\"background-color:rgba(135,206,250,0.5162204);\">.</span> <span style=\"background-color:rgba(135,206,250,0.71714026);\">.</span> <span style=\"background-color:rgba(135,206,250,0.6305653);\">.</span> <span style=\"background-color:rgba(135,206,250,0.79975575);\">.</span> <span style=\"background-color:rgba(135,206,250,1.0);\">.</span> <span style=\"background-color:rgba(135,206,250,0.8377317);\">.</span>"
      ],
      "text/plain": [
       "<IPython.core.display.HTML object>"
      ]
     },
     "metadata": {},
     "output_type": "display_data"
    },
    {
     "name": "stdout",
     "output_type": "stream",
     "text": [
      ".:   \t99.93%\n",
      ",:   \t0.03%\n",
      "and:   \t0.01%\n",
      "~:   \t0.01%\n",
      "?:   \t0.01%\n",
      "--------\n",
      "\n"
     ]
    },
    {
     "data": {
      "text/html": [
       "<span style=\"background-color:rgba(135,206,250,0.1180409);\">K-Drama</span> <span style=\"background-color:rgba(135,206,250,0.08602601);\">title</span> <span style=\"background-color:rgba(135,206,250,0.05898611);\">:</span> <span style=\"background-color:rgba(135,206,250,0.12056267);\">Star</span> <span style=\"background-color:rgba(135,206,250,0.19614491);\">Struck</span> <span style=\"background-color:rgba(135,206,250,0.035307195);\">:</span> <span style=\"background-color:rgba(135,206,250,0.15773746);\">K-Drama</span> <span style=\"background-color:rgba(135,206,250,0.055122063);\">review</span> <span style=\"background-color:rgba(135,206,250,0.06679302);\">:</span> <span style=\"background-color:rgba(135,206,250,0.3521222);\">paradise</span> <span style=\"background-color:rgba(135,206,250,0.02916017);\">in</span> <span style=\"background-color:rgba(135,206,250,0.044263396);\">a</span> <span style=\"background-color:rgba(135,206,250,0.06660224);\">drama</span> <span style=\"background-color:rgba(135,206,250,0.06206818);\">review</span> <span style=\"background-color:rgba(135,206,250,0.07463452);\">:</span> <span style=\"background-color:rgba(135,206,250,0.030499788);\">not</span> <span style=\"background-color:rgba(135,206,250,0.043589108);\">good</span> <span style=\"background-color:rgba(135,206,250,0.0636396);\">drama</span> <span style=\"background-color:rgba(135,206,250,0.051577635);\">.</span> <span style=\"background-color:rgba(135,206,250,0.061141055);\">.</span> <span style=\"background-color:rgba(135,206,250,0.057623893);\">.</span> <span style=\"background-color:rgba(135,206,250,0.054243572);\">.</span> <span style=\"background-color:rgba(135,206,250,0.054810278);\">.</span> <span style=\"background-color:rgba(135,206,250,0.07324641);\">.</span> <span style=\"background-color:rgba(135,206,250,0.08201857);\">.</span> <span style=\"background-color:rgba(135,206,250,0.07865913);\">.</span> <span style=\"background-color:rgba(135,206,250,0.09121762);\">.</span> <span style=\"background-color:rgba(135,206,250,0.07040919);\">.</span> <span style=\"background-color:rgba(135,206,250,0.079992644);\">.</span> <span style=\"background-color:rgba(135,206,250,0.10576414);\">.</span> <span style=\"background-color:rgba(135,206,250,0.08976279);\">.</span> <span style=\"background-color:rgba(135,206,250,0.107027575);\">.</span> <span style=\"background-color:rgba(135,206,250,0.08854207);\">.</span> <span style=\"background-color:rgba(135,206,250,0.11152706);\">.</span> <span style=\"background-color:rgba(135,206,250,0.096035205);\">.</span> <span style=\"background-color:rgba(135,206,250,0.10486837);\">.</span> <span style=\"background-color:rgba(135,206,250,0.12739646);\">.</span> <span style=\"background-color:rgba(135,206,250,0.1346884);\">.</span> <span style=\"background-color:rgba(135,206,250,0.14602958);\">.</span> <span style=\"background-color:rgba(135,206,250,0.14339449);\">.</span> <span style=\"background-color:rgba(135,206,250,0.12673761);\">.</span> <span style=\"background-color:rgba(135,206,250,0.13944317);\">.</span> <span style=\"background-color:rgba(135,206,250,0.13681678);\">.</span> <span style=\"background-color:rgba(135,206,250,0.1538784);\">.</span> <span style=\"background-color:rgba(135,206,250,0.13616125);\">.</span> <span style=\"background-color:rgba(135,206,250,0.17101094);\">.</span> <span style=\"background-color:rgba(135,206,250,0.15149696);\">.</span> <span style=\"background-color:rgba(135,206,250,0.20201793);\">.</span> <span style=\"background-color:rgba(135,206,250,0.19568671);\">.</span> <span style=\"background-color:rgba(135,206,250,0.19678797);\">.</span> <span style=\"background-color:rgba(135,206,250,0.20671698);\">.</span> <span style=\"background-color:rgba(135,206,250,0.23271307);\">.</span> <span style=\"background-color:rgba(135,206,250,0.2142034);\">.</span> <span style=\"background-color:rgba(135,206,250,0.24504235);\">.</span> <span style=\"background-color:rgba(135,206,250,0.25105935);\">.</span> <span style=\"background-color:rgba(135,206,250,0.2936382);\">.</span> <span style=\"background-color:rgba(135,206,250,0.31057325);\">.</span> <span style=\"background-color:rgba(135,206,250,0.30235967);\">.</span> <span style=\"background-color:rgba(135,206,250,0.34770712);\">.</span> <span style=\"background-color:rgba(135,206,250,0.30820194);\">.</span> <span style=\"background-color:rgba(135,206,250,0.34207013);\">.</span> <span style=\"background-color:rgba(135,206,250,0.35016385);\">.</span> <span style=\"background-color:rgba(135,206,250,0.35320294);\">.</span> <span style=\"background-color:rgba(135,206,250,0.36810085);\">.</span> <span style=\"background-color:rgba(135,206,250,0.4301941);\">.</span> <span style=\"background-color:rgba(135,206,250,0.503791);\">.</span> <span style=\"background-color:rgba(135,206,250,0.44067618);\">.</span> <span style=\"background-color:rgba(135,206,250,0.5050693);\">.</span> <span style=\"background-color:rgba(135,206,250,0.54746777);\">.</span> <span style=\"background-color:rgba(135,206,250,0.48298374);\">.</span> <span style=\"background-color:rgba(135,206,250,0.67007387);\">.</span> <span style=\"background-color:rgba(135,206,250,0.59028053);\">.</span> <span style=\"background-color:rgba(135,206,250,0.74718475);\">.</span> <span style=\"background-color:rgba(135,206,250,0.93524384);\">.</span> <span style=\"background-color:rgba(135,206,250,0.83400065);\">.</span> <span style=\"background-color:rgba(135,206,250,1.0);\">.</span>"
      ],
      "text/plain": [
       "<IPython.core.display.HTML object>"
      ]
     },
     "metadata": {},
     "output_type": "display_data"
    },
    {
     "name": "stdout",
     "output_type": "stream",
     "text": [
      ".:   \t99.88%\n",
      ",:   \t0.03%\n",
      "~:   \t0.02%\n",
      "okiee:   \t0.02%\n",
      "calmly:   \t0.01%\n",
      "--------\n",
      "\n"
     ]
    },
    {
     "data": {
      "text/html": [
       "<span style=\"background-color:rgba(135,206,250,0.17323832);\">K-Drama</span> <span style=\"background-color:rgba(135,206,250,0.43379596);\">title</span> <span style=\"background-color:rgba(135,206,250,0.38756385);\">:</span> <span style=\"background-color:rgba(135,206,250,0.15820628);\">Star</span> <span style=\"background-color:rgba(135,206,250,0.13921483);\">Struck</span> <span style=\"background-color:rgba(135,206,250,0.444844);\">:</span> <span style=\"background-color:rgba(135,206,250,0.38366842);\">K-Drama</span> <span style=\"background-color:rgba(135,206,250,0.59359914);\">review</span> <span style=\"background-color:rgba(135,206,250,0.5266616);\">:</span> <span style=\"background-color:rgba(135,206,250,1.0);\">paradise</span> <span style=\"background-color:rgba(135,206,250,0.23009726);\">in</span> <span style=\"background-color:rgba(135,206,250,0.18855418);\">a</span> <span style=\"background-color:rgba(135,206,250,0.21302234);\">drama</span> <span style=\"background-color:rgba(135,206,250,0.24853256);\">review</span> <span style=\"background-color:rgba(135,206,250,0.24376695);\">:</span> <span style=\"background-color:rgba(135,206,250,0.09392785);\">not</span> <span style=\"background-color:rgba(135,206,250,0.13344501);\">good</span> <span style=\"background-color:rgba(135,206,250,0.13844693);\">drama</span> <span style=\"background-color:rgba(135,206,250,0.1352161);\">.</span> <span style=\"background-color:rgba(135,206,250,0.14282082);\">.</span> <span style=\"background-color:rgba(135,206,250,0.11881044);\">.</span> <span style=\"background-color:rgba(135,206,250,0.108255096);\">.</span> <span style=\"background-color:rgba(135,206,250,0.09630618);\">.</span> <span style=\"background-color:rgba(135,206,250,0.09418771);\">.</span> <span style=\"background-color:rgba(135,206,250,0.09406876);\">.</span> <span style=\"background-color:rgba(135,206,250,0.087806046);\">.</span> <span style=\"background-color:rgba(135,206,250,0.07887877);\">.</span> <span style=\"background-color:rgba(135,206,250,0.06856901);\">.</span> <span style=\"background-color:rgba(135,206,250,0.065683536);\">.</span> <span style=\"background-color:rgba(135,206,250,0.06529977);\">.</span> <span style=\"background-color:rgba(135,206,250,0.05622374);\">.</span> <span style=\"background-color:rgba(135,206,250,0.0575742);\">.</span> <span style=\"background-color:rgba(135,206,250,0.05311932);\">.</span> <span style=\"background-color:rgba(135,206,250,0.053133193);\">.</span> <span style=\"background-color:rgba(135,206,250,0.050882187);\">.</span> <span style=\"background-color:rgba(135,206,250,0.04678673);\">.</span> <span style=\"background-color:rgba(135,206,250,0.043559037);\">.</span> <span style=\"background-color:rgba(135,206,250,0.042651363);\">.</span> <span style=\"background-color:rgba(135,206,250,0.037359864);\">.</span> <span style=\"background-color:rgba(135,206,250,0.037344582);\">.</span> <span style=\"background-color:rgba(135,206,250,0.035602894);\">.</span> <span style=\"background-color:rgba(135,206,250,0.030322267);\">.</span> <span style=\"background-color:rgba(135,206,250,0.02900421);\">.</span> <span style=\"background-color:rgba(135,206,250,0.026160832);\">.</span> <span style=\"background-color:rgba(135,206,250,0.026311176);\">.</span> <span style=\"background-color:rgba(135,206,250,0.027828842);\">.</span> <span style=\"background-color:rgba(135,206,250,0.023231111);\">.</span> <span style=\"background-color:rgba(135,206,250,0.023854546);\">.</span> <span style=\"background-color:rgba(135,206,250,0.022135792);\">.</span> <span style=\"background-color:rgba(135,206,250,0.021777857);\">.</span> <span style=\"background-color:rgba(135,206,250,0.018600935);\">.</span> <span style=\"background-color:rgba(135,206,250,0.018753279);\">.</span> <span style=\"background-color:rgba(135,206,250,0.016307611);\">.</span> <span style=\"background-color:rgba(135,206,250,0.014998333);\">.</span> <span style=\"background-color:rgba(135,206,250,0.015599047);\">.</span> <span style=\"background-color:rgba(135,206,250,0.014990047);\">.</span> <span style=\"background-color:rgba(135,206,250,0.014963422);\">.</span> <span style=\"background-color:rgba(135,206,250,0.012431575);\">.</span> <span style=\"background-color:rgba(135,206,250,0.011773162);\">.</span> <span style=\"background-color:rgba(135,206,250,0.011564338);\">.</span> <span style=\"background-color:rgba(135,206,250,0.0118873045);\">.</span> <span style=\"background-color:rgba(135,206,250,0.009949069);\">.</span> <span style=\"background-color:rgba(135,206,250,0.009987615);\">.</span> <span style=\"background-color:rgba(135,206,250,0.0085974485);\">.</span> <span style=\"background-color:rgba(135,206,250,0.008498557);\">.</span> <span style=\"background-color:rgba(135,206,250,0.008555343);\">.</span> <span style=\"background-color:rgba(135,206,250,0.0072826208);\">.</span> <span style=\"background-color:rgba(135,206,250,0.008598032);\">.</span> <span style=\"background-color:rgba(135,206,250,0.006904093);\">.</span> <span style=\"background-color:rgba(135,206,250,0.006301745);\">.</span> <span style=\"background-color:rgba(135,206,250,0.0062960945);\">.</span> <span style=\"background-color:rgba(135,206,250,0.0056283395);\">.</span> <span style=\"background-color:rgba(135,206,250,0.0055107623);\">.</span> <span style=\"background-color:rgba(135,206,250,0.0052009574);\">.</span> <span style=\"background-color:rgba(135,206,250,0.004810551);\">.</span> <span style=\"background-color:rgba(135,206,250,0.003860667);\">.</span> <span style=\"background-color:rgba(135,206,250,0.009097073);\">calmly</span>"
      ],
      "text/plain": [
       "<IPython.core.display.HTML object>"
      ]
     },
     "metadata": {},
     "output_type": "display_data"
    },
    {
     "name": "stdout",
     "output_type": "stream",
     "text": [
      "\":   \t26.69%\n",
      "theories:   \t8.74%\n",
      "wanting:   \t7.71%\n",
      "gifted:   \t6.97%\n",
      "pride:   \t5.81%\n",
      "--------\n",
      "\n"
     ]
    },
    {
     "data": {
      "text/html": [
       "<span style=\"background-color:rgba(135,206,250,0.029567795);\">K-Drama</span> <span style=\"background-color:rgba(135,206,250,0.023010978);\">title</span> <span style=\"background-color:rgba(135,206,250,0.0113556525);\">:</span> <span style=\"background-color:rgba(135,206,250,0.026385933);\">Star</span> <span style=\"background-color:rgba(135,206,250,0.041824684);\">Struck</span> <span style=\"background-color:rgba(135,206,250,0.009775287);\">:</span> <span style=\"background-color:rgba(135,206,250,0.04440862);\">K-Drama</span> <span style=\"background-color:rgba(135,206,250,0.017531779);\">review</span> <span style=\"background-color:rgba(135,206,250,0.013735515);\">:</span> <span style=\"background-color:rgba(135,206,250,0.08045676);\">paradise</span> <span style=\"background-color:rgba(135,206,250,0.0075348015);\">in</span> <span style=\"background-color:rgba(135,206,250,0.008548624);\">a</span> <span style=\"background-color:rgba(135,206,250,0.014918162);\">drama</span> <span style=\"background-color:rgba(135,206,250,0.016194206);\">review</span> <span style=\"background-color:rgba(135,206,250,0.014936058);\">:</span> <span style=\"background-color:rgba(135,206,250,0.007147211);\">not</span> <span style=\"background-color:rgba(135,206,250,0.010208871);\">good</span> <span style=\"background-color:rgba(135,206,250,0.015321805);\">drama</span> <span style=\"background-color:rgba(135,206,250,0.010061584);\">.</span> <span style=\"background-color:rgba(135,206,250,0.011683716);\">.</span> <span style=\"background-color:rgba(135,206,250,0.009999005);\">.</span> <span style=\"background-color:rgba(135,206,250,0.010323005);\">.</span> <span style=\"background-color:rgba(135,206,250,0.008722024);\">.</span> <span style=\"background-color:rgba(135,206,250,0.011706791);\">.</span> <span style=\"background-color:rgba(135,206,250,0.01274754);\">.</span> <span style=\"background-color:rgba(135,206,250,0.012314645);\">.</span> <span style=\"background-color:rgba(135,206,250,0.012846417);\">.</span> <span style=\"background-color:rgba(135,206,250,0.010280788);\">.</span> <span style=\"background-color:rgba(135,206,250,0.01111979);\">.</span> <span style=\"background-color:rgba(135,206,250,0.013439399);\">.</span> <span style=\"background-color:rgba(135,206,250,0.01159625);\">.</span> <span style=\"background-color:rgba(135,206,250,0.014191716);\">.</span> <span style=\"background-color:rgba(135,206,250,0.012039496);\">.</span> <span style=\"background-color:rgba(135,206,250,0.013823034);\">.</span> <span style=\"background-color:rgba(135,206,250,0.012698579);\">.</span> <span style=\"background-color:rgba(135,206,250,0.013551814);\">.</span> <span style=\"background-color:rgba(135,206,250,0.01473589);\">.</span> <span style=\"background-color:rgba(135,206,250,0.014427833);\">.</span> <span style=\"background-color:rgba(135,206,250,0.014286247);\">.</span> <span style=\"background-color:rgba(135,206,250,0.013876819);\">.</span> <span style=\"background-color:rgba(135,206,250,0.013317403);\">.</span> <span style=\"background-color:rgba(135,206,250,0.013766667);\">.</span> <span style=\"background-color:rgba(135,206,250,0.013141668);\">.</span> <span style=\"background-color:rgba(135,206,250,0.0152240265);\">.</span> <span style=\"background-color:rgba(135,206,250,0.01424254);\">.</span> <span style=\"background-color:rgba(135,206,250,0.018547812);\">.</span> <span style=\"background-color:rgba(135,206,250,0.01470836);\">.</span> <span style=\"background-color:rgba(135,206,250,0.018682966);\">.</span> <span style=\"background-color:rgba(135,206,250,0.01585877);\">.</span> <span style=\"background-color:rgba(135,206,250,0.01777204);\">.</span> <span style=\"background-color:rgba(135,206,250,0.017069232);\">.</span> <span style=\"background-color:rgba(135,206,250,0.019681254);\">.</span> <span style=\"background-color:rgba(135,206,250,0.019019915);\">.</span> <span style=\"background-color:rgba(135,206,250,0.019500252);\">.</span> <span style=\"background-color:rgba(135,206,250,0.021225307);\">.</span> <span style=\"background-color:rgba(135,206,250,0.023876296);\">.</span> <span style=\"background-color:rgba(135,206,250,0.024858084);\">.</span> <span style=\"background-color:rgba(135,206,250,0.022718135);\">.</span> <span style=\"background-color:rgba(135,206,250,0.025838405);\">.</span> <span style=\"background-color:rgba(135,206,250,0.023600861);\">.</span> <span style=\"background-color:rgba(135,206,250,0.028571399);\">.</span> <span style=\"background-color:rgba(135,206,250,0.027860962);\">.</span> <span style=\"background-color:rgba(135,206,250,0.031532146);\">.</span> <span style=\"background-color:rgba(135,206,250,0.03370229);\">.</span> <span style=\"background-color:rgba(135,206,250,0.04140572);\">.</span> <span style=\"background-color:rgba(135,206,250,0.05342057);\">.</span> <span style=\"background-color:rgba(135,206,250,0.0517716);\">.</span> <span style=\"background-color:rgba(135,206,250,0.07653861);\">.</span> <span style=\"background-color:rgba(135,206,250,0.09225245);\">.</span> <span style=\"background-color:rgba(135,206,250,0.091037445);\">.</span> <span style=\"background-color:rgba(135,206,250,0.1278477);\">.</span> <span style=\"background-color:rgba(135,206,250,0.1768464);\">.</span> <span style=\"background-color:rgba(135,206,250,0.23802958);\">.</span> <span style=\"background-color:rgba(135,206,250,0.27706036);\">.</span> <span style=\"background-color:rgba(135,206,250,0.41796353);\">.</span> <span style=\"background-color:rgba(135,206,250,0.7192753);\">.</span> <span style=\"background-color:rgba(135,206,250,1.0);\">calmly</span> <span style=\"background-color:rgba(135,206,250,0.1697256);\">one</span>"
      ],
      "text/plain": [
       "<IPython.core.display.HTML object>"
      ]
     },
     "metadata": {},
     "output_type": "display_data"
    },
    {
     "name": "stdout",
     "output_type": "stream",
     "text": [
      ".:   \t43.34%\n",
      "of:   \t40.0%\n",
      "-:   \t4.06%\n",
      "?:   \t3.45%\n",
      "):   \t2.22%\n",
      "--------\n",
      "\n"
     ]
    },
    {
     "data": {
      "text/html": [
       "<span style=\"background-color:rgba(135,206,250,0.0052722273);\">K-Drama</span> <span style=\"background-color:rgba(135,206,250,0.003663303);\">title</span> <span style=\"background-color:rgba(135,206,250,0.0026012517);\">:</span> <span style=\"background-color:rgba(135,206,250,0.0054816436);\">Star</span> <span style=\"background-color:rgba(135,206,250,0.009115473);\">Struck</span> <span style=\"background-color:rgba(135,206,250,0.0017891322);\">:</span> <span style=\"background-color:rgba(135,206,250,0.00755489);\">K-Drama</span> <span style=\"background-color:rgba(135,206,250,0.002606301);\">review</span> <span style=\"background-color:rgba(135,206,250,0.003137457);\">:</span> <span style=\"background-color:rgba(135,206,250,0.016064977);\">paradise</span> <span style=\"background-color:rgba(135,206,250,0.0014572209);\">in</span> <span style=\"background-color:rgba(135,206,250,0.002216413);\">a</span> <span style=\"background-color:rgba(135,206,250,0.0032492164);\">drama</span> <span style=\"background-color:rgba(135,206,250,0.0028051203);\">review</span> <span style=\"background-color:rgba(135,206,250,0.0032348968);\">:</span> <span style=\"background-color:rgba(135,206,250,0.0016960033);\">not</span> <span style=\"background-color:rgba(135,206,250,0.0022750667);\">good</span> <span style=\"background-color:rgba(135,206,250,0.0029050533);\">drama</span> <span style=\"background-color:rgba(135,206,250,0.002527313);\">.</span> <span style=\"background-color:rgba(135,206,250,0.0030143226);\">.</span> <span style=\"background-color:rgba(135,206,250,0.0029116434);\">.</span> <span style=\"background-color:rgba(135,206,250,0.002598233);\">.</span> <span style=\"background-color:rgba(135,206,250,0.0028143541);\">.</span> <span style=\"background-color:rgba(135,206,250,0.0036888425);\">.</span> <span style=\"background-color:rgba(135,206,250,0.0040891673);\">.</span> <span style=\"background-color:rgba(135,206,250,0.003920058);\">.</span> <span style=\"background-color:rgba(135,206,250,0.004682262);\">.</span> <span style=\"background-color:rgba(135,206,250,0.0035869332);\">.</span> <span style=\"background-color:rgba(135,206,250,0.004201681);\">.</span> <span style=\"background-color:rgba(135,206,250,0.005461999);\">.</span> <span style=\"background-color:rgba(135,206,250,0.004775912);\">.</span> <span style=\"background-color:rgba(135,206,250,0.005428797);\">.</span> <span style=\"background-color:rgba(135,206,250,0.0046980726);\">.</span> <span style=\"background-color:rgba(135,206,250,0.0057724323);\">.</span> <span style=\"background-color:rgba(135,206,250,0.005037639);\">.</span> <span style=\"background-color:rgba(135,206,250,0.005533578);\">.</span> <span style=\"background-color:rgba(135,206,250,0.0068212147);\">.</span> <span style=\"background-color:rgba(135,206,250,0.007336572);\">.</span> <span style=\"background-color:rgba(135,206,250,0.007971617);\">.</span> <span style=\"background-color:rgba(135,206,250,0.008052862);\">.</span> <span style=\"background-color:rgba(135,206,250,0.006858106);\">.</span> <span style=\"background-color:rgba(135,206,250,0.007525341);\">.</span> <span style=\"background-color:rgba(135,206,250,0.007657169);\">.</span> <span style=\"background-color:rgba(135,206,250,0.008253775);\">.</span> <span style=\"background-color:rgba(135,206,250,0.007395893);\">.</span> <span style=\"background-color:rgba(135,206,250,0.008991259);\">.</span> <span style=\"background-color:rgba(135,206,250,0.00837707);\">.</span> <span style=\"background-color:rgba(135,206,250,0.010977588);\">.</span> <span style=\"background-color:rgba(135,206,250,0.011043741);\">.</span> <span style=\"background-color:rgba(135,206,250,0.010691256);\">.</span> <span style=\"background-color:rgba(135,206,250,0.011250945);\">.</span> <span style=\"background-color:rgba(135,206,250,0.012538156);\">.</span> <span style=\"background-color:rgba(135,206,250,0.011639634);\">.</span> <span style=\"background-color:rgba(135,206,250,0.013678441);\">.</span> <span style=\"background-color:rgba(135,206,250,0.013688033);\">.</span> <span style=\"background-color:rgba(135,206,250,0.01637528);\">.</span> <span style=\"background-color:rgba(135,206,250,0.017408319);\">.</span> <span style=\"background-color:rgba(135,206,250,0.016937656);\">.</span> <span style=\"background-color:rgba(135,206,250,0.019413594);\">.</span> <span style=\"background-color:rgba(135,206,250,0.017490122);\">.</span> <span style=\"background-color:rgba(135,206,250,0.018690426);\">.</span> <span style=\"background-color:rgba(135,206,250,0.019668387);\">.</span> <span style=\"background-color:rgba(135,206,250,0.019660443);\">.</span> <span style=\"background-color:rgba(135,206,250,0.020824928);\">.</span> <span style=\"background-color:rgba(135,206,250,0.023368822);\">.</span> <span style=\"background-color:rgba(135,206,250,0.027599785);\">.</span> <span style=\"background-color:rgba(135,206,250,0.025568046);\">.</span> <span style=\"background-color:rgba(135,206,250,0.027419867);\">.</span> <span style=\"background-color:rgba(135,206,250,0.031279378);\">.</span> <span style=\"background-color:rgba(135,206,250,0.027208135);\">.</span> <span style=\"background-color:rgba(135,206,250,0.037891638);\">.</span> <span style=\"background-color:rgba(135,206,250,0.032798715);\">.</span> <span style=\"background-color:rgba(135,206,250,0.04354875);\">.</span> <span style=\"background-color:rgba(135,206,250,0.05418702);\">.</span> <span style=\"background-color:rgba(135,206,250,0.047047295);\">.</span> <span style=\"background-color:rgba(135,206,250,0.058795508);\">.</span> <span style=\"background-color:rgba(135,206,250,1.0);\">calmly</span> <span style=\"background-color:rgba(135,206,250,0.03011175);\">one</span> <span style=\"background-color:rgba(135,206,250,0.053881582);\">.</span>"
      ],
      "text/plain": [
       "<IPython.core.display.HTML object>"
      ]
     },
     "metadata": {},
     "output_type": "display_data"
    },
    {
     "name": "stdout",
     "output_type": "stream",
     "text": [
      ".:   \t97.04%\n",
      "i:   \t1.0%\n",
      "lol:   \t0.79%\n",
      "?:   \t0.54%\n",
      "):   \t0.18%\n",
      "--------\n",
      "\n"
     ]
    }
   ],
   "source": [
    "info = text_generator.generate(\n",
    "    \"K-Drama title : Star Struck : K-Drama review : \", max_tokens=80, temperature=0.5\n",
    ")\n",
    "print_probs(info, vocab)"
   ]
  }
 ],
 "metadata": {
  "accelerator": "GPU",
  "colab": {
   "gpuType": "T4",
   "provenance": []
  },
  "kernelspec": {
   "display_name": "Python 3",
   "name": "python3"
  },
  "language_info": {
   "codemirror_mode": {
    "name": "ipython",
    "version": 3
   },
   "file_extension": ".py",
   "mimetype": "text/x-python",
   "name": "python",
   "nbconvert_exporter": "python",
   "pygments_lexer": "ipython3",
   "version": "3.10.17"
  },
  "vscode": {
   "interpreter": {
    "hash": "31f2aee4e71d21fbe5cf8b01ff0e069b9275f58929596ceb00d14d90e3e16cd6"
   }
  }
 },
 "nbformat": 4,
 "nbformat_minor": 5
}
